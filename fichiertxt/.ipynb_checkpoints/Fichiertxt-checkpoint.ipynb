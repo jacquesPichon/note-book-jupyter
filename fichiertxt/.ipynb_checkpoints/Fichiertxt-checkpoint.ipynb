{
 "cells": [
  {
   "cell_type": "markdown",
   "metadata": {},
   "source": [
    "# Fichier  texte\n",
    "Pour enregistrer les résultats d'un programme et conserver une trace des données, on utilise souvent les fichiers au format  txt. D'autres formats comme le csv ou tout autre extension peuvent être manipulés avec les mêmes outils. \n",
    "Les données en mémoire sont copiées sur un support de stockage, disque dur ou clé USB. Ces données sont réutilisables. \n",
    "\n",
    "Cette activité va vous faire découvrir les outils pour travailler avec ces fichiers contenant des chaines de caractères. Vous pourrez :\n",
    "\n",
    "    - lire \n",
    "    - écrire\n",
    "    - modifier\n",
    "    - créer\n",
    "    - effacer\n",
    "    \n",
    "\n"
   ]
  },
  {
   "cell_type": "markdown",
   "metadata": {},
   "source": [
    "# créer un fichier\n",
    "Pour débuter, nous allons créer un fichier.\n",
    "Pour cela, il faut pouvoir écrire sur un support de sauvegarde. Les droits d'utilisateur doivent vous autoriser l'écriture dans le répertoire où vous voulez enregistrer votre fichier.\n",
    "\n",
    "Sur le réseau du lycée, vous pouvez écrire uniquement dans votre répertoire personnel. \n",
    "\n",
    "Retrouvé l'URL de ce dossier, il sera nécessaire pour donner le chemin vers un répertoire de travail valide.\n",
    "\n",
    "\n",
    "La création d'un fichier est obtenue par la commande suivante :\n",
    " f = open('MonFichier.txt','w')\n",
    " \n",
    " "
   ]
  },
  {
   "cell_type": "code",
   "execution_count": null,
   "metadata": {},
   "outputs": [],
   "source": [
    "f = open('MonFichier.txt','w')\n",
    "type(f)"
   ]
  },
  {
   "cell_type": "markdown",
   "metadata": {},
   "source": [
    "f est maintenant un fichier de type io.TextIOWrapper ... \n",
    "\n",
    "C'est à dire une \"enveloppe\" contenant du texte pour des io, input output, des entrées sorties.\n",
    "\n",
    "    * r, pour une ouverture en lecture (READ).\n",
    "    * w, pour une ouverture en écriture (WRITE), à chaque ouverture le contenu du fichier est écrasé. Si le fichier n'existe pas python le crée.\n",
    "    * a, pour une ouverture en mode ajout à la fin du fichier (APPEND). Si le fichier n'existe pas python le crée.\n",
    "    * b, pour une ouverture en mode binaire.\n",
    "    * t, pour une ouverture en mode texte.\n",
    "    * x, crée un nouveau fichier et l'ouvre pour écriture\n",
    "    \n",
    "Dans votre cas, nous avons ouvert le fichier \"MonFichier.txt\" en mode w pour Write. Le fichier est créé ou écrasé à chaque fois que l'on utilise w. Il faudra bien faire attention et utiliser le bon mode d'ouverture du fichier. Par sécurité, une vérification de la présence du fichier sera programmée pour éviter la perde de données.\n",
    "\n",
    "## Insérer une ligne dans le fichier\n",
    "\n",
    "Pour écrire dans le fichier, nous utilisaons simplement 'write' sur le fichier avec pour argument la chaîne de caractères à ajouter.\n",
    "f.write(\"Bonjour les amis\")\n",
    "Pour terminer la modification du fichier, il faut le fermer avec close.\n",
    "f.close()\n",
    "\n",
    "Le fichier est alors modifié sur le dique dur.\n"
   ]
  },
  {
   "cell_type": "code",
   "execution_count": null,
   "metadata": {},
   "outputs": [],
   "source": [
    "f.write(\"Bonjour les amis\")\n",
    "f.close()"
   ]
  },
  {
   "cell_type": "markdown",
   "metadata": {},
   "source": [
    "Pour vérifier que le message est enregistré, ouvrir le fichier et consulter son contenu. \n",
    "\n",
    "Reprendre la cellule ou on ouvre le fichier(f = open('MonFichier.txt','w') ) puis l'exécuter pour vérifier que le fichier est écrasé à chaque éxécution avec le mode 'w'. \n",
    "En réouvrant le fichier pour le consulter, vous devez retrouver un fichier vide ! Il a été écrasé, donc réécrit avec le même nom et vide comme un fichier neuf.\n",
    "\n"
   ]
  },
  {
   "cell_type": "markdown",
   "metadata": {},
   "source": [
    "### Les sauts de ligne\n",
    "Comment insérer un saut de ligne ? \n",
    "Le caractère pour coder le retour à la ligne est  '\\n'\n",
    "\n",
    "Dans le fichier Mon fichier, inserer une chaine de caractère se terminant par '\\n' puis, une seconde chaine. \n",
    "Fermer le fichier avec close puis constater le résultat.\n"
   ]
  },
  {
   "cell_type": "code",
   "execution_count": null,
   "metadata": {},
   "outputs": [],
   "source": [
    "f = open('MonFichier.txt','w')\n",
    "# insérer une ligne\n",
    "\n",
    "# puis une seconde\n",
    "\n",
    "#fermer le fichier\n"
   ]
  },
  {
   "cell_type": "markdown",
   "metadata": {},
   "source": [
    "Autre méthode, avec l'ouverture du fichier est mode 'a' comme append\n",
    "Dans ce cas, le fichier est prêt à recevoir la suite à la fin. En débutant votre chaîne de caratères par '/n', vous indiquez que vous souhaitez mettre le contenu sur une nouvelle ligne.\n",
    "\n",
    "exercice : Mettre une nouvelle phrase dans le fichier sur la dernière ligne. \n",
    "Constater le résultat en ouvrant le fichier avec un éditeur de texte."
   ]
  },
  {
   "cell_type": "code",
   "execution_count": null,
   "metadata": {},
   "outputs": [],
   "source": []
  },
  {
   "cell_type": "markdown",
   "metadata": {},
   "source": [
    "## Lire le contenu du fichier\n",
    "Vous aurez compris, c'est le mode d'ouverture du fichier qui permet de le manipuler, soit en écriture avec 'w' soit en lecture avec 'r' pour read. \n",
    "Pour consulter le contenu du fichier en console python, nous utiliserons l'instruction: \n",
    "print(f.read())\n",
    "avec f ouvert en mode lecture c'est à dire 'r'\n"
   ]
  },
  {
   "cell_type": "code",
   "execution_count": null,
   "metadata": {},
   "outputs": [],
   "source": [
    "f=open('MonFichier.txt', 'r')\n",
    "print(f.read())\n",
    "f.close()"
   ]
  },
  {
   "cell_type": "markdown",
   "metadata": {},
   "source": [
    "Ne pas oublier de libérer le fichier avec 'close' pour le rendre accessible pour d'autres utilisations. C'est important pour ne pas bloquer la ressource par un programme.\n"
   ]
  },
  {
   "cell_type": "markdown",
   "metadata": {},
   "source": [
    "# Exercice d'application\n",
    "Vous avez un fichier contenant les noms des personnages de Game of thrones.\n",
    "\n",
    "A partir de ce fichier, vous allez automatiser des opérations sur le contenu de ce fichier pour répondre aux questions suivantes. Vous devrez proposer des traitements sur les chaînes de caractères issues du fichier.\n",
    "\n"
   ]
  },
  {
   "cell_type": "code",
   "execution_count": null,
   "metadata": {},
   "outputs": [],
   "source": [
    "# ne rien mettre dans cette cellule avant la question 7"
   ]
  },
  {
   "cell_type": "markdown",
   "metadata": {},
   "source": [
    "##  question 1\n",
    "Commencer par ouvrir le fichier et afficher son contenue en console python."
   ]
  },
  {
   "cell_type": "code",
   "execution_count": null,
   "metadata": {},
   "outputs": [],
   "source": [
    "file = open('Game_of_Thrones.txt', 'r')\n",
    "print(file.read())"
   ]
  },
  {
   "cell_type": "markdown",
   "metadata": {},
   "source": [
    "## question 2\n",
    "Combien y a -t-il de nom de le fichier ?\n",
    " Pour cela, vous aller extraire les données du fichier pour les mettres dans une liste. \n",
    " indice, vous pourrez utiliser la fonction split."
   ]
  },
  {
   "cell_type": "code",
   "execution_count": null,
   "metadata": {},
   "outputs": [],
   "source": []
  },
  {
   "cell_type": "markdown",
   "metadata": {},
   "source": [
    "## question 3\n",
    "Construire un nouveau fichier contenant les noms triés dans l'ordre alphabétique.\n",
    "\n",
    "    * trier la liste créée précedemment\n",
    "    * créer un nouveau fichier\n",
    "    * alimenter le fichier avec les noms dans l'ordre\n",
    "    * fermer le fichier"
   ]
  },
  {
   "cell_type": "code",
   "execution_count": null,
   "metadata": {},
   "outputs": [],
   "source": []
  },
  {
   "cell_type": "markdown",
   "metadata": {},
   "source": [
    "## question 4\n",
    "Travail sur les chaînes de caractères:\n",
    "Pour ne pas avoir de propblème sur la recherche dans les chaines de caractères, commencer par convertir tous les caractères en minuscule avec la méthode sur les string lower() qui remplace les majuscules par des minuscules.\n",
    "\n",
    "Vous traiterez tous les éléments de votre liste de nom.\n",
    "    Dans cette boucle, vous changerez les majuscules en minuscules avec lower() pour tous les noms de la liste.\n"
   ]
  },
  {
   "cell_type": "code",
   "execution_count": null,
   "metadata": {},
   "outputs": [],
   "source": [
    "# exemple d'utilisation de lower()\n",
    "mot = 'Hello'\n",
    "motminus = mot.lower()\n",
    "print(motminus)\n",
    "# A faire : transformer votre liste de noms avec uniquement des minuscules"
   ]
  },
  {
   "cell_type": "markdown",
   "metadata": {},
   "source": [
    "## question 5\n",
    "\n",
    "    *trouver le nom le plus long\n",
    "    *compter le nombre de nom composés de deux mots et le nombre de nom d'un seul mot.\n",
    "    *trouver les noms de moins de 5 caractères\n",
    "    *trouver les noms comportant un 'a'\n",
    "    *trourver les noms comportant un seul 'a'"
   ]
  },
  {
   "cell_type": "code",
   "execution_count": null,
   "metadata": {},
   "outputs": [],
   "source": []
  },
  {
   "cell_type": "markdown",
   "metadata": {},
   "source": [
    "## question 6\n",
    "\n",
    "    *trouver les noms ayant un 'e' juste avant un 'r'\n",
    "    *trouver les noms ayant deux 'n' qui se suivent\n",
    "    *trouver els noms qui ont deux lettres identiques qui se suivent."
   ]
  },
  {
   "cell_type": "code",
   "execution_count": null,
   "metadata": {},
   "outputs": [],
   "source": []
  },
  {
   "cell_type": "markdown",
   "metadata": {},
   "source": [
    "## question 7\n",
    "Rvenir à la première cellule de l'exercice puis, créer un fichier reponse.txt pour enregistrer vos réponses.\n",
    "Ce fichier sera disponible pour toutes les questions dans les cellules suivantes. Vous pourrez réexécuter votre code pour mettre à jour le fichier reponse.txt\n",
    "A chaque question, vous ajouterez, en écrivant un bout de code, votre la réponse générée dans reponse.txt\n",
    "ajouter pour chaque questions la ligne qui permet d'alimenter votre fichier réponse avec les bonnes données puis ajouter un saut de ligne entre deux réponses.\n",
    "\n",
    "\n"
   ]
  },
  {
   "cell_type": "code",
   "execution_count": null,
   "metadata": {},
   "outputs": [],
   "source": []
  }
 ],
 "metadata": {
  "kernelspec": {
   "display_name": "Python 3",
   "language": "python",
   "name": "python3"
  },
  "language_info": {
   "codemirror_mode": {
    "name": "ipython",
    "version": 3
   },
   "file_extension": ".py",
   "mimetype": "text/x-python",
   "name": "python",
   "nbconvert_exporter": "python",
   "pygments_lexer": "ipython3",
   "version": "3.6.8"
  }
 },
 "nbformat": 4,
 "nbformat_minor": 2
}
