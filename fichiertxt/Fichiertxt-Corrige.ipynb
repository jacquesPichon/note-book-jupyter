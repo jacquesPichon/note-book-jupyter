{
 "cells": [
  {
   "cell_type": "markdown",
   "metadata": {},
   "source": [
    "# Fichier  texte\n",
    "Pour enregistrer les résultats d'un programme et conserver une trace des données, on utilise souvent les fichiers au format  txt. D'autres formats comme le csv ou tout autre extension peuvent être manipulés avec les mêmes outils. \n",
    "Les données en mémoire sont copiées sur un support de stockage, disque dur ou clé USB. Ces données sont réutilisables. \n",
    "\n",
    "Cette activité va vous faire découvrir les outils pour travailler avec ces fichiers contenant des chaines de caractères. Vous pourrez :\n",
    "\n",
    "    - lire \n",
    "    - écrire\n",
    "    - modifier\n",
    "    - créer\n",
    "    - effacer\n",
    "    \n",
    "\n"
   ]
  },
  {
   "cell_type": "markdown",
   "metadata": {},
   "source": [
    "# créer un fichier\n",
    "Pour débuter, nous allons créer un fichier.\n",
    "Pour cela, il faut pouvoir écrire sur un support de sauvegarde. Les droits d'utilisateur doivent vous autoriser l'écriture dans le répertoire où vous voulez enregistrer votre fichier.\n",
    "\n",
    "Sur le réseau du lycée, vous pouvez écrire uniquement dans votre répertoire personnel. \n",
    "\n",
    "Retrouvé l'URL de ce dossier, il sera nécessaire pour donner le chemin vers un répertoire de travail valide.\n",
    "\n",
    "\n",
    "La création d'un fichier est obtenue par la commande suivante :\n",
    " f = open('MonFichier.txt','w')\n",
    " \n",
    " "
   ]
  },
  {
   "cell_type": "code",
   "execution_count": 66,
   "metadata": {},
   "outputs": [
    {
     "data": {
      "text/plain": [
       "_io.TextIOWrapper"
      ]
     },
     "execution_count": 66,
     "metadata": {},
     "output_type": "execute_result"
    }
   ],
   "source": [
    "f = open('MonFichier.txt','w')\n",
    "type(f)"
   ]
  },
  {
   "cell_type": "markdown",
   "metadata": {},
   "source": [
    "f est maintenant un fichier de type io.TextIOWrapper ... \n",
    "\n",
    "C'est à dire une \"enveloppe\" contenant du texte pour des io, input output, des entrées sorties.\n",
    "\n",
    "    * r, pour une ouverture en lecture (READ).\n",
    "    * w, pour une ouverture en écriture (WRITE), à chaque ouverture le contenu du fichier est écrasé. Si le fichier n'existe pas python le crée.\n",
    "    * a, pour une ouverture en mode ajout à la fin du fichier (APPEND). Si le fichier n'existe pas python le crée.\n",
    "    * b, pour une ouverture en mode binaire.\n",
    "    * t, pour une ouverture en mode texte.\n",
    "    * x, crée un nouveau fichier et l'ouvre pour écriture\n",
    "    \n",
    "Dans votre cas, nous avons ouvert le fichier \"MonFichier.txt\" en mode w pour Write. Le fichier est créé ou écrasé à chaque fois que l'on utilise w. Il faudra bien faire attention et utiliser le bon mode d'ouverture du fichier. Par sécurité, une vérification de la présence du fichier sera programmée pour éviter la perde de données.\n",
    "\n",
    "## Insérer une ligne dans le fichier\n",
    "\n",
    "Pour écrire dans le fichier, nous utilisaons simplement 'write' sur le fichier avec pour argument la chaîne de caractères à ajouter.\n",
    "f.write(\"Bonjour les amis\")\n",
    "Pour terminer la modification du fichier, il faut le fermer avec close.\n",
    "f.close()\n",
    "\n",
    "Le fichier est alors modifié sur le dique dur.\n"
   ]
  },
  {
   "cell_type": "code",
   "execution_count": 67,
   "metadata": {},
   "outputs": [],
   "source": [
    "f.write(\"Bonjour les amis\")\n",
    "f.close()"
   ]
  },
  {
   "cell_type": "markdown",
   "metadata": {},
   "source": [
    "Pour vérifier que le message est enregistré, ouvrir le fichier et consulter son contenu. \n",
    "\n",
    "Reprendre la cellule ou on ouvre le fichier(f = open('MonFichier.txt','w') ) puis l'exécuter pour vérifier que le fichier est écrasé à chaque éxécution avec le mode 'w'. \n",
    "En réouvrant le fichier pour le consulter, vous devez retrouver un fichier vide ! Il a été écrasé, donc réécrit avec le même nom et vide comme un fichier neuf.\n",
    "\n"
   ]
  },
  {
   "cell_type": "markdown",
   "metadata": {},
   "source": [
    "### Les sauts de ligne\n",
    "Comment insérer un saut de ligne ? \n",
    "Le caractère pour coder le retour à la ligne est  '\\n'\n",
    "\n",
    "Dans le fichier Mon fichier, inserer une chaine de caractère se terminant par '\\n' puis, une seconde chaine. \n",
    "Fermer le fichier avec close puis constater le résultat.\n"
   ]
  },
  {
   "cell_type": "code",
   "execution_count": 68,
   "metadata": {},
   "outputs": [],
   "source": [
    "f = open('MonFichier.txt','w')\n",
    "# insérer une ligne\n",
    "\n",
    "# puis une seconde\n",
    "\n",
    "#fermer le fichier\n"
   ]
  },
  {
   "cell_type": "markdown",
   "metadata": {},
   "source": [
    "Autre méthode, avec l'ouverture du fichier est mode 'a' comme append\n",
    "Dans ce cas, le fichier est prêt à recevoir la suite à la fin. En débutant votre chaîne de caratères par '/n', vous indiquez que vous souhaitez mettre le contenu sur une nouvelle ligne.\n",
    "\n",
    "exercice : Mettre une nouvelle phrase dans le fichier sur la dernière ligne. \n",
    "Constater le résultat en ouvrant le fichier avec un éditeur de texte."
   ]
  },
  {
   "cell_type": "code",
   "execution_count": null,
   "metadata": {},
   "outputs": [],
   "source": []
  },
  {
   "cell_type": "markdown",
   "metadata": {},
   "source": [
    "## Lire le contenu du fichier\n",
    "Vous aurez compris, c'est le mode d'ouverture du fichier qui permet de le manipuler, soit en écriture avec 'w' soit en lecture avec 'r' pour read. \n",
    "Pour consulter le contenu du fichier en console python, nous utiliserons l'instruction: \n",
    "print(f.read())\n",
    "avec f ouvert en mode lecture c'est à dire 'r'\n"
   ]
  },
  {
   "cell_type": "code",
   "execution_count": 69,
   "metadata": {},
   "outputs": [
    {
     "name": "stdout",
     "output_type": "stream",
     "text": [
      "\n"
     ]
    }
   ],
   "source": [
    "f=open('MonFichier.txt', 'r')\n",
    "print(f.read())\n",
    "f.close()"
   ]
  },
  {
   "cell_type": "markdown",
   "metadata": {},
   "source": [
    "Ne pas oublier de libérer le fichier avec 'close' pour le rendre accessible pour d'autres utilisations. C'est important pour ne pas bloquer la ressource par un programme.\n"
   ]
  },
  {
   "cell_type": "markdown",
   "metadata": {},
   "source": [
    "# Exercice d'application\n",
    "Vous avez un fichier contenant les noms des personnages de Game of thrones.\n",
    "\n",
    "A partir de ce fichier, vous allez automatiser des opérations sur le contenu de ce fichier pour répondre aux questions suivantes. Vous devrez proposer des traitements sur les chaînes de caractères issues du fichier.\n",
    "\n"
   ]
  },
  {
   "cell_type": "code",
   "execution_count": 70,
   "metadata": {},
   "outputs": [],
   "source": [
    "# ne rien mettre dans cette cellule avant la question 7\n",
    "reponse = open('reponse.txt','w')"
   ]
  },
  {
   "cell_type": "markdown",
   "metadata": {},
   "source": [
    "##  question 1\n",
    "Commencer par ouvrir le fichier et afficher son contenue en console python."
   ]
  },
  {
   "cell_type": "code",
   "execution_count": 71,
   "metadata": {},
   "outputs": [
    {
     "name": "stdout",
     "output_type": "stream",
     "text": [
      "Jon Arryn\n",
      "Lysa Arryn\n",
      "Robin Arryn\n",
      "Hugue du Val\n",
      "Vardis Egen\n",
      "Shagga et Timett\n",
      "Mord\n",
      "Robert Baratheon\n",
      "Joffrey Baratheon\n",
      "Tommen Baratheon\n",
      "Myrcella Baratheon\n",
      "Stannis Baratheon\n",
      "Selyse Baratheon\n",
      "Shireen Baratheon\n",
      "Davos Mervault\n",
      "Matthos Mervault\n",
      "Melisandre d'Ashai\n",
      "Salladhor Saan\n",
      "Mestre Cressen\n",
      "Renly Baratheon\n",
      "Roose Bolton\n",
      "Walda Bolton\n",
      "Ramsay Bolton\n",
      "Locke\n",
      "Walder Frey\n",
      "Lothar Frey\n",
      "Theon Greyjoy\n",
      "Balon Greyjoy\n",
      "Yara Greyjoy\n",
      "Dagmer\n",
      "Lorren\n",
      "Tyrion Lannister\n",
      "Jaime Lannister\n",
      "Cersei Lannister\n",
      "Tywin Lannister\n",
      "Kevan Lannister\n",
      "Lancel Lannister\n",
      "Alton Lannister\n",
      "Martyn Lannister\n",
      "Willem Lannister\n",
      "Gregor Clegane\n",
      "Podrick Payne\n",
      "Amory Lorch\n",
      "Polliver\n",
      "Le Titilleur\n",
      "Oberyn Martell\n",
      "Ellaria Sand\n",
      "Eddard Stark\n",
      "Catelyn Stark\n",
      "Robb Stark\n",
      "Jon Snow\n",
      "Sansa Stark\n",
      "Arya Stark\n",
      "Bran Stark\n",
      "Rickon Stark\n",
      "Talisa Maegyr\n",
      "Mestre Luwin\n",
      "Osha\n",
      "Hodor\n",
      "Jojen Reed\n",
      "Meera Reed\n",
      "Rodrik Cassel\n",
      "Jory Cassel\n",
      "Vieille Nan\n",
      "Septa Mordane\n",
      "Brienne de Torth\n",
      "Jon Omble\n",
      "Rickard Karstark\n",
      "Torhen Karstark\n",
      "Daenerys Targaryen\n",
      "Jorah Mormont\n",
      "Viserys Targaryen\n",
      "Barristan Selmy\n",
      "Daario Naharis\n",
      "Missandei\n",
      "Ver Gris\n",
      "Kovarro\n",
      "Rakharo\n",
      "Doreah\n",
      "Irri\n",
      "Edmure Tully\n",
      "Brynden Tully\n",
      "Roslin Frey\n",
      "Margaery Tyrell\n",
      "Olenna Tyrell\n",
      "Loras Tyrell\n",
      "Mace Tyrell\n",
      "Petyr Baelish\n",
      "Varys\n",
      "Grand Mestre Pycelle\n",
      "Meryn Trant\n",
      "Qyburn\n",
      "Hallyne\n",
      "Dontos Hollard\n",
      "Ilyn Payne\n",
      "Sandor Clegane\n",
      "Shae\n",
      "Bronn\n",
      "Ros\n",
      "Gendry\n",
      "Tourte chaude\n",
      "Lommy Main-Verte\n",
      "Jaqen H'ghar\n",
      "Rorge\n",
      "Biter\n",
      "Syrio Forel\n",
      "Marillion\n",
      "Tobho Mott\n",
      "Mycah\n",
      "Beric Dondarrion\n",
      "Thoros de Myr\n",
      "Anguy\n",
      "Khal Drogo\n",
      "Qotho\n",
      "Mirri Maz Duur\n",
      "Illyrio Mopatis\n",
      "Xaro Xhoan Daxos\n",
      "Pyat Pree\n",
      "Le Roi des epices\n",
      "Quaithe\n",
      "Kraznys mo Naklaz\n",
      "Prendahl na Ghezn\n",
      "Tycho Nestoris\n",
      "Hizdahr zo Loraq\n",
      "Jeor Mormont\n",
      "Samwell Tarly\n",
      "Mestre Aemon\n",
      "Yoren\n",
      "Qhorin\n",
      "Alliser Thorne\n",
      "Benjen Stark\n",
      "Janos Slynt\n",
      "Grenn\n",
      "Eddison Tollett\n",
      "Rast\n",
      "Pypar\n",
      "Karl\n",
      "Bowen Marsh\n",
      "Will\n",
      "Mance Rayder\n",
      "Ygrid\n",
      "Tormund Giantsbane\n",
      "Orell\n",
      "Clinquefrac\n",
      "Styr\n",
      "Craster\n",
      "Vere\n",
      "\n"
     ]
    }
   ],
   "source": [
    "file = open('Game_of_Thrones.txt', 'r')\n",
    "print(file.read())\n"
   ]
  },
  {
   "cell_type": "markdown",
   "metadata": {},
   "source": [
    "## question 2\n",
    "Combien y a -t-il de nom de le fichier ?\n",
    " Pour cela, vous aller extraire les données du fichier pour les mettres dans une liste. \n",
    " indice, vous pourrez utiliser la fonction split."
   ]
  },
  {
   "cell_type": "code",
   "execution_count": 72,
   "metadata": {},
   "outputs": [
    {
     "name": "stdout",
     "output_type": "stream",
     "text": [
      "147\n"
     ]
    }
   ],
   "source": [
    "#decouper le contenu du fichier et mettre les noms dans une liste\n",
    "file = open('Game_of_Thrones.txt', 'r')\n",
    "contenu = file.read()\n",
    "listedesnoms = contenu.split('\\n')\n",
    "listedesnoms.remove('')\n",
    "file.close()\n",
    "reponse.write(\"                  Fichier avec mes réponses \\n\")\n",
    "reponse.write(\"--------------------------------------------------------------------\\n\")\n",
    "reponse.write('\\n question 2:\\n')\n",
    "reponse.write(str(len(listedesnoms))+'\\n')\n",
    "print(len(listedesnoms))\n"
   ]
  },
  {
   "cell_type": "markdown",
   "metadata": {},
   "source": [
    "## question 3\n",
    "Construire un nouveau fichier contenant les noms triés dans l'ordre alphabétique.\n",
    "\n",
    "    * trier la liste créée précedemment\n",
    "    * créer un nouveau fichier\n",
    "    * alimenter le fichier avec les noms dans l'ordre\n",
    "    * fermer le fichier"
   ]
  },
  {
   "cell_type": "code",
   "execution_count": 73,
   "metadata": {},
   "outputs": [],
   "source": [
    "listedesnoms.sort()\n",
    "newfile = open('Game_of_Thronestrie.txt', 'w')\n",
    "for nom in listedesnoms:\n",
    "    newfile.write(nom+'\\n')\n",
    "newfile.close()\n"
   ]
  },
  {
   "cell_type": "markdown",
   "metadata": {},
   "source": [
    "## question 4\n",
    "Travail sur les chaînes de caractères:\n",
    "Pour ne pas avoir de problème sur la recherche dans les chaînes de caractères, commencer par convertir tous les caractères en minuscule avec la méthode sur les string lower() qui remplace les majuscules par des minuscules.\n",
    "\n",
    "Vous traiterez tous les éléments de votre liste de nom.\n",
    "    Dans cette boucle, vous changerez les majuscules en minuscules avec lower() pour tous les noms de la liste.\n"
   ]
  },
  {
   "cell_type": "code",
   "execution_count": 74,
   "metadata": {},
   "outputs": [
    {
     "name": "stdout",
     "output_type": "stream",
     "text": [
      "hello\n",
      "['alliser thorne', 'alton lannister', 'amory lorch', 'anguy', 'arya stark', 'balon greyjoy', 'barristan selmy', 'benjen stark', 'beric dondarrion', 'biter', 'bowen marsh', 'bran stark', 'brienne de torth', 'bronn', 'brynden tully', 'catelyn stark', 'cersei lannister', 'clinquefrac', 'craster', 'daario naharis', 'daenerys targaryen', 'dagmer', 'davos mervault', 'dontos hollard', 'doreah', 'eddard stark', 'eddison tollett', 'edmure tully', 'ellaria sand', 'gendry', 'grand mestre pycelle', 'gregor clegane', 'grenn', 'hallyne', 'hizdahr zo loraq', 'hodor', 'hugue du val', 'illyrio mopatis', 'ilyn payne', 'irri', 'jaime lannister', 'janos slynt', \"jaqen h'ghar\", 'jeor mormont', 'joffrey baratheon', 'jojen reed', 'jon arryn', 'jon omble', 'jon snow', 'jorah mormont', 'jory cassel', 'karl', 'kevan lannister', 'khal drogo', 'kovarro', 'kraznys mo naklaz', 'lancel lannister', 'le roi des epices', 'le titilleur', 'locke', 'lommy main-verte', 'loras tyrell', 'lorren', 'lothar frey', 'lysa arryn', 'mace tyrell', 'mance rayder', 'margaery tyrell', 'marillion', 'martyn lannister', 'matthos mervault', 'meera reed', \"melisandre d'ashai\", 'meryn trant', 'mestre aemon', 'mestre cressen', 'mestre luwin', 'mirri maz duur', 'missandei', 'mord', 'mycah', 'myrcella baratheon', 'oberyn martell', 'olenna tyrell', 'orell', 'osha', 'petyr baelish', 'podrick payne', 'polliver', 'prendahl na ghezn', 'pyat pree', 'pypar', 'qhorin', 'qotho', 'quaithe', 'qyburn', 'rakharo', 'ramsay bolton', 'rast', 'renly baratheon', 'rickard karstark', 'rickon stark', 'robb stark', 'robert baratheon', 'robin arryn', 'rodrik cassel', 'roose bolton', 'rorge', 'ros', 'roslin frey', 'salladhor saan', 'samwell tarly', 'sandor clegane', 'sansa stark', 'selyse baratheon', 'septa mordane', 'shae', 'shagga et timett', 'shireen baratheon', 'stannis baratheon', 'styr', 'syrio forel', 'talisa maegyr', 'theon greyjoy', 'thoros de myr', 'tobho mott', 'tommen baratheon', 'torhen karstark', 'tormund giantsbane', 'tourte chaude', 'tycho nestoris', 'tyrion lannister', 'tywin lannister', 'vardis egen', 'varys', 'ver gris', 'vere', 'vieille nan', 'viserys targaryen', 'walda bolton', 'walder frey', 'will', 'willem lannister', 'xaro xhoan daxos', 'yara greyjoy', 'ygrid', 'yoren']\n"
     ]
    }
   ],
   "source": [
    "# exemple d'utilisation de lower()\n",
    "mot = 'Hello'\n",
    "motminus = mot.lower()\n",
    "print(motminus)\n",
    "# A faire : transformer votre liste de noms avec uniquement des minuscules\n",
    "for i in range(0,len(listedesnoms)):\n",
    "    listedesnoms[i] = listedesnoms[i].lower()\n",
    "print(listedesnoms)\n",
    "reponse.write('\\n question 4: \\n')\n",
    "for nom in listedesnoms:\n",
    "    reponse.write(nom + '\\n')\n",
    "    "
   ]
  },
  {
   "cell_type": "markdown",
   "metadata": {},
   "source": [
    "## question 5\n",
    "\n",
    "    *trouver le nom le plus long\n",
    "    *compter le nombre de nom composés de deux mots et le nombre de nom d'un seul mot.\n",
    "    *trouver les noms de moins de 5 caractères\n",
    "    *trouver les noms comportant un 'a'\n",
    "    *trourver les noms comportant un seul 'a'"
   ]
  },
  {
   "cell_type": "code",
   "execution_count": 75,
   "metadata": {},
   "outputs": [
    {
     "name": "stdout",
     "output_type": "stream",
     "text": [
      "le nom le plus long est grand mestre pycelle\n",
      "il y a  108 noms composés et  39  noms simples.\n",
      "les noms de moins de 5 caractères : \n",
      "['irri', 'karl', 'mord', 'osha', 'rast', 'ros', 'shae', 'styr', 'vere', 'will']\n",
      "['alliser thorne', 'alton lannister', 'amory lorch', 'anguy', 'arya stark', 'balon greyjoy', 'barristan selmy', 'benjen stark', 'beric dondarrion', 'bowen marsh', 'bran stark', 'catelyn stark', 'cersei lannister', 'clinquefrac', 'craster', 'daario naharis', 'daenerys targaryen', 'dagmer', 'davos mervault', 'dontos hollard', 'doreah', 'eddard stark', 'ellaria sand', 'grand mestre pycelle', 'gregor clegane', 'hallyne', 'hizdahr zo loraq', 'hugue du val', 'illyrio mopatis', 'ilyn payne', 'jaime lannister', 'janos slynt', \"jaqen h'ghar\", 'joffrey baratheon', 'jon arryn', 'jorah mormont', 'jory cassel', 'karl', 'kevan lannister', 'khal drogo', 'kovarro', 'kraznys mo naklaz', 'lancel lannister', 'lommy main-verte', 'loras tyrell', 'lothar frey', 'lysa arryn', 'mace tyrell', 'mance rayder', 'margaery tyrell', 'marillion', 'martyn lannister', 'matthos mervault', 'meera reed', \"melisandre d'ashai\", 'meryn trant', 'mestre aemon', 'mirri maz duur', 'missandei', 'mycah', 'myrcella baratheon', 'oberyn martell', 'olenna tyrell', 'osha', 'petyr baelish', 'podrick payne', 'prendahl na ghezn', 'pyat pree', 'pypar', 'quaithe', 'rakharo', 'ramsay bolton', 'rast', 'renly baratheon', 'rickard karstark', 'rickon stark', 'robb stark', 'robert baratheon', 'robin arryn', 'rodrik cassel', 'salladhor saan', 'samwell tarly', 'sandor clegane', 'sansa stark', 'selyse baratheon', 'septa mordane', 'shae', 'shagga et timett', 'shireen baratheon', 'stannis baratheon', 'talisa maegyr', 'tommen baratheon', 'torhen karstark', 'tormund giantsbane', 'tourte chaude', 'tyrion lannister', 'tywin lannister', 'vardis egen', 'varys', 'vieille nan', 'viserys targaryen', 'walda bolton', 'walder frey', 'willem lannister', 'xaro xhoan daxos', 'yara greyjoy']\n",
      "--------------\n",
      "les noms avec 1 seul a:\n",
      "['alliser thorne', 'amory lorch', 'anguy', 'balon greyjoy', 'benjen stark', 'beric dondarrion', 'bowen marsh', 'cersei lannister', 'clinquefrac', 'craster', 'dagmer', 'dontos hollard', 'doreah', 'grand mestre pycelle', 'gregor clegane', 'hallyne', 'hugue du val', 'illyrio mopatis', 'ilyn payne', 'janos slynt', 'jon arryn', 'jorah mormont', 'jory cassel', 'karl', 'khal drogo', 'kovarro', 'lommy main-verte', 'loras tyrell', 'lothar frey', 'mace tyrell', 'marillion', 'meera reed', 'meryn trant', 'mestre aemon', 'mirri maz duur', 'missandei', 'mycah', 'oberyn martell', 'olenna tyrell', 'osha', 'petyr baelish', 'podrick payne', 'pyat pree', 'pypar', 'quaithe', 'rast', 'rickon stark', 'robb stark', 'robin arryn', 'rodrik cassel', 'shae', 'tourte chaude', 'tyrion lannister', 'tywin lannister', 'vardis egen', 'varys', 'vieille nan', 'walder frey', 'willem lannister']\n"
     ]
    }
   ],
   "source": [
    "# nom le plus long\n",
    "nomlpl=''\n",
    "for nom in listedesnoms:\n",
    "    if len(nom)>len(nomlpl):\n",
    "        nomlpl=nom\n",
    "print(\"le nom le plus long est \"+ nomlpl)\n",
    "reponse.write('\\n question 5 -1: \\n')\n",
    "reponse.write(\"le nom le plus long est \"+ nomlpl + '\\n')\n",
    "\n",
    "#noms composés\n",
    "nbnomcomp = 0\n",
    "nbnomsimple = 0\n",
    "for nom in listedesnoms:\n",
    "    if ' 'in nom :\n",
    "        nbnomcomp += 1\n",
    "    else:\n",
    "        nbnomsimple += 1\n",
    "print( \"il y a \",nbnomcomp, \"noms composés et \",nbnomsimple , \" noms simples.\")\n",
    "reponse.write('\\n question 5 -2: \\n')\n",
    "reponse.write(\"il y a \" + str(nbnomcomp) + \"noms composés et \"+ str(nbnomsimple) + \" noms simples.\\n\")\n",
    "\n",
    "# les noms de noms de moins 5 caractères\n",
    "nomscourts = []\n",
    "for nom in listedesnoms:\n",
    "    if len(nom)<5:\n",
    "        nomscourts.append(nom)\n",
    "print(\"les noms de moins de 5 caractères : \")\n",
    "print(nomscourts)\n",
    "reponse.write('\\n question 5 -3:\\n')\n",
    "reponse.write(\"les noms de moins de 5 caractères : \\n\")\n",
    "for nom in nomscourts:\n",
    "    reponse.write(nom+'\\n')\n",
    "\n",
    "reponse.write('\\n')\n",
    "\n",
    "\n",
    "#les noms comportant un 'a'\n",
    "listea = []\n",
    "for nom in listedesnoms:\n",
    "    if nom.count('a')>0:\n",
    "        listea.append(nom)\n",
    "print(listea)\n",
    "reponse.write('\\n question 5 -4:\\n')\n",
    "reponse.write(\"les noms comportant un a : \\n\")\n",
    "for nom in listea:\n",
    "    reponse.write(nom+'\\n')\n",
    "\n",
    "\n",
    "# un seul a\n",
    "liste1a = []\n",
    "for nom in listedesnoms:\n",
    "    if nom.count('a')==1:\n",
    "        liste1a.append(nom)\n",
    "print('--------------')\n",
    "print(\"les noms avec 1 seul a:\")\n",
    "print(liste1a)\n",
    "reponse.write('\\n question 5 -5:\\n')\n",
    "reponse.write(\"les noms comportant un seul a : \\n\")\n",
    "for nom in liste1a:\n",
    "    reponse.write(nom+'\\n')\n"
   ]
  },
  {
   "cell_type": "markdown",
   "metadata": {},
   "source": [
    "## question 6\n",
    "\n",
    "    *trouver les noms ayant un 'e' juste avant un 'r'\n",
    "    *trouver les noms ayant deux 'n' qui se suivent\n",
    "    *trouver les noms qui ont deux lettres identiques qui se suivent."
   ]
  },
  {
   "cell_type": "code",
   "execution_count": 76,
   "metadata": {},
   "outputs": [
    {
     "name": "stdout",
     "output_type": "stream",
     "text": [
      "['alliser thorne', 'alton lannister', 'beric dondarrion', 'biter', 'cersei lannister', 'craster', 'daenerys targaryen', 'dagmer', 'davos mervault', 'jaime lannister', 'kevan lannister', 'lancel lannister', 'lommy main-verte', 'mance rayder', 'margaery tyrell', 'martyn lannister', 'matthos mervault', 'meera reed', 'meryn trant', 'oberyn martell', 'polliver', 'robert baratheon', 'tyrion lannister', 'tywin lannister', 'ver gris', 'vere', 'viserys targaryen', 'walder frey', 'willem lannister']\n",
      "les noms avec nn\n",
      "['alton lannister', 'brienne de torth', 'bronn', 'cersei lannister', 'grenn', 'jaime lannister', 'kevan lannister', 'lancel lannister', 'martyn lannister', 'olenna tyrell', 'stannis baratheon', 'tyrion lannister', 'tywin lannister', 'willem lannister']\n",
      "------------\n",
      "['alliser thorne', 'alton lannister', 'barristan selmy', 'beric dondarrion', 'brienne de torth', 'bronn', 'brynden tully', 'cersei lannister', 'daario naharis', 'dontos hollard', 'eddard stark', 'eddison tollett', 'edmure tully', 'ellaria sand', 'grand mestre pycelle', 'grenn', 'hallyne', 'illyrio mopatis', 'irri', 'jaime lannister', 'joffrey baratheon', 'jojen reed', 'jon arryn', 'jory cassel', 'kevan lannister', 'kovarro', 'lancel lannister', 'le titilleur', 'lommy main-verte', 'loras tyrell', 'lorren', 'lysa arryn', 'mace tyrell', 'margaery tyrell', 'marillion', 'martyn lannister', 'matthos mervault', 'meera reed', 'mestre cressen', 'mirri maz duur', 'missandei', 'myrcella baratheon', 'oberyn martell', 'olenna tyrell', 'orell', 'polliver', 'pyat pree', 'robb stark', 'robin arryn', 'rodrik cassel', 'roose bolton', 'salladhor saan', 'samwell tarly', 'shagga et timett', 'shireen baratheon', 'stannis baratheon', 'tobho mott', 'tommen baratheon', 'tyrion lannister', 'tywin lannister', 'vieille nan', 'will', 'willem lannister']\n"
     ]
    }
   ],
   "source": [
    "nom_er = []\n",
    "for nom in listedesnoms:\n",
    "    if 'er' in nom:\n",
    "        nom_er.append(nom)\n",
    "print(nom_er)\n",
    "reponse.write('\\n question 6 -1:\\n')\n",
    "reponse.write(\"les noms ayant un 'e' juste avant un 'r' : \\n\")\n",
    "for nom in nom_er:\n",
    "    reponse.write(nom+'\\n')\n",
    "\n",
    "nom_nn = []\n",
    "for nom in listedesnoms:\n",
    "    if 'nn' in nom:\n",
    "        nom_nn.append(nom)\n",
    "print(\"les noms avec nn\")\n",
    "print(nom_nn)\n",
    "reponse.write('\\n question 6 -2:\\n')\n",
    "reponse.write(\"les noms ayant deux 'n' qui se suivent: \\n\")\n",
    "for nom in nom_nn:\n",
    "    reponse.write(nom+'\\n')\n",
    "      \n",
    "#les noms avec deux lettres identiques qui se suivent\n",
    "def lettreidentique(mot):\n",
    "    for i in range(0, len(mot)-1):\n",
    "        if mot[i] == mot[i+1]:\n",
    "            return True\n",
    "    return False\n",
    "                   \n",
    "nom_2l = []\n",
    "for nom in listedesnoms:\n",
    "    if lettreidentique(nom):\n",
    "        nom_2l.append(nom)\n",
    "print('------------')\n",
    "print(nom_2l)\n",
    "reponse.write('\\n question 6 -3:\\n')\n",
    "reponse.write(\"les noms qui ont deux lettres identiques qui se suivent : \\n\")\n",
    "for nom in nom_2l:\n",
    "    reponse.write(nom+'\\n')\n",
    "reponse.close()"
   ]
  },
  {
   "cell_type": "markdown",
   "metadata": {},
   "source": [
    "## question 7\n",
    "Rvenir à la première cellule de l'exercice puis, créer un fichier reponse.txt pour enregistrer vos réponses.\n",
    "Ce fichier sera disponible pour toutes les questions dans les cellules suivantes. Vous pourrez réexécuter votre code pour mettre à jour le fichier reponse.txt\n",
    "A chaque question, vous ajouterez, en écrivant un bout de code, votre la réponse générée dans reponse.txt\n",
    "ajouter pour chaque questions la ligne qui permet d'alimenter votre fichier réponse avec les bonnes données puis ajouter un saut de ligne entre deux réponses.\n",
    "\n",
    "\n"
   ]
  },
  {
   "cell_type": "code",
   "execution_count": null,
   "metadata": {},
   "outputs": [],
   "source": []
  }
 ],
 "metadata": {
  "kernelspec": {
   "display_name": "Python 3",
   "language": "python",
   "name": "python3"
  },
  "language_info": {
   "codemirror_mode": {
    "name": "ipython",
    "version": 3
   },
   "file_extension": ".py",
   "mimetype": "text/x-python",
   "name": "python",
   "nbconvert_exporter": "python",
   "pygments_lexer": "ipython3",
   "version": "3.6.8"
  }
 },
 "nbformat": 4,
 "nbformat_minor": 2
}
