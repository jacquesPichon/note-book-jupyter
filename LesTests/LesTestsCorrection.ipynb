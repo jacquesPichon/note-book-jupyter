{
 "cells": [
  {
   "cell_type": "markdown",
   "metadata": {},
   "source": [
    "# Structure d'un programme en python\n",
    "## Introduction\n",
    "\n",
    "Faites des sauvegarges régulières au format  .ipynb  pour pouvoir reprendre vos bouts de code en cas de défaillance des serveurs Jupyter.\n",
    "\n",
    "\n",
    "### Règles de bonne programmation\n",
    "Bien programmer, c'est d'abord réfléchir avant d'écrire. Avant de saisir un programme sur l'ordinateur, il faut toujours, en s'armant d'un papier et d'un crayon :\n",
    "* Analyser le problème à résoudre.\n",
    "* Déterminer les variables nécessaires à sa résolution.\n",
    "* Élaborer un premier schéma d'algorithme.\n",
    "\n",
    "Un programme doit pouvoir être lu et relu. Pour faciliter ces échanges, quelques règles s'imposent :\n",
    "* Utiliser des noms de variables et de fonctions explicites;\n",
    "* Commenter les diff\u001bérentes étapes du programme avec le caractère ].\n",
    "* Documenter les fonctions.\n",
    "\n",
    "En\u001c",
    "fin, quelques règles de présentation sont à respecter :\n",
    "\n",
    "* Placer un espace après une virgule, un point-virgule ou deux-points ;\n",
    "* Ne pas placer d'espace avant une virgule, un point-virgule ou deux-points ;\n",
    "* Placer un espace de chaque côté d'un opérateur ;\n",
    "* Ne pas placer d'espace entre le nom d'une fonction et sa liste d'arguments.\n",
    "* Indenter le code par bloc d'instruction.\n",
    "\n",
    "\n",
    "L'indentation fait partie du codage en python. "
   ]
  },
  {
   "cell_type": "markdown",
   "metadata": {},
   "source": [
    "# Test\n",
    "## if\n",
    "Les tests sont réalisés avec l'instruction \"if\".\n",
    "\n",
    "<img src=\"img/if.png\" width=50%>\n",
    "\n",
    "## if else\n",
    "\n",
    "Si une condition est vérifiée, alors on exécute les instructions sinon, on peut programmer une alternative avec \"else\":sinon.\n",
    "\n",
    "<img src=\"img/ifelse.png\" width=50%>\n",
    "\n",
    "## if elif\n",
    "On peut également mettre plusieurs conditions à se suivre avec elif.\n",
    "\n",
    "SI la condition est vérifiée, le bloc est exécuté puis le reste n'est pas testé. Sinon, les tests suivants sont analysés.\n",
    "\n",
    "<img src=\"img/elif.png\" width=70%>\n",
    "\n",
    "Dans l'exemple suivant, vous pouvez tester le comportement du test avec la variable condition, une variable booléenne, initialisée à False. Après avoir exécuté le bloc, vous pouvez modifier la variable à True pour constater l'exécution de la bonne branche.\n",
    "#### L'indentation\n",
    "Les instructions à éxécuter pour chaque sélection sont indentées (décalées d'une tabulation ou d'un nombre déterminé d'espaces)."
   ]
  },
  {
   "cell_type": "code",
   "execution_count": 1,
   "metadata": {},
   "outputs": [
    {
     "name": "stdout",
     "output_type": "stream",
     "text": [
      "a une prochaine fois pour une découverte de la programmation !\n"
     ]
    }
   ],
   "source": [
    "condition = bool(False)\n",
    "if (condition):\n",
    "    print(\"bienvenue en NSI\")\n",
    "else:\n",
    "    print(\"a une prochaine fois pour une découverte de la programmation !\")"
   ]
  },
  {
   "cell_type": "code",
   "execution_count": null,
   "metadata": {},
   "outputs": [],
   "source": [
    "#structure avec \"elif\" à personnaliser si vous le souhaitez \n",
    "if <condition_1>:\n",
    "    <instructions_1>\n",
    "elif <condition_2>:\n",
    "    <instructions_2>\n",
    "else:\n",
    "    <instructions_3>\n"
   ]
  },
  {
   "cell_type": "markdown",
   "metadata": {},
   "source": [
    "À noter que dès qu'une condition est satisfaite, les instructions associées sont eff\u001bectuées et le programme sort de la conditionnelle.\n"
   ]
  },
  {
   "cell_type": "code",
   "execution_count": 3,
   "metadata": {},
   "outputs": [
    {
     "name": "stdout",
     "output_type": "stream",
     "text": [
      "bonjour Madame\n"
     ]
    }
   ],
   "source": [
    "genre  = \"feminin\"\n",
    "\n",
    "if genre == \"masculin\":\n",
    "    print(\"bonjour Monsieur.\")\n",
    "elif genre == \"feminin\":\n",
    "    print(\"bonjour Madame\")\n",
    "else:\n",
    "    print(\"Bonjour les amis\")"
   ]
  },
  {
   "cell_type": "markdown",
   "metadata": {},
   "source": [
    "## condition dans un if\n",
    "La condition testée est une variable booléenne qui ne peut avoir que deux état, vrai ou faux. La condition est la réponse à une question sans ambiguité. \n",
    "La condition peut résulter d'une association de paramètres avec des ET et des OU: AND et OR en python.\n",
    "\n"
   ]
  },
  {
   "cell_type": "markdown",
   "metadata": {},
   "source": [
    "### Les comparaisons\n",
    "Pour comparer deux données, nous avons plusieurs opérateurs.\n",
    "\n",
    " - Egalité:    ==                   Pour faire la différence entre l'églalité et l'affectation !!! \n",
    " - Différence: !=\n",
    " - Supérieur:   >\n",
    " - Inférieur:   <\n",
    " - Supérieur ou égale: >=\n",
    " - Inférieur ou égale: <=\n"
   ]
  },
  {
   "cell_type": "code",
   "execution_count": 4,
   "metadata": {},
   "outputs": [
    {
     "name": "stdout",
     "output_type": "stream",
     "text": [
      "False\n"
     ]
    }
   ],
   "source": [
    "a = 5\n",
    "b = 15\n",
    "print( a > b)"
   ]
  },
  {
   "cell_type": "markdown",
   "metadata": {},
   "source": [
    "Il existe de nombreuses spécificités que vous découvrirez au fils des situations de prgrammation. Par exemple:"
   ]
  },
  {
   "cell_type": "code",
   "execution_count": 5,
   "metadata": {},
   "outputs": [
    {
     "name": "stdout",
     "output_type": "stream",
     "text": [
      "True\n"
     ]
    }
   ],
   "source": [
    "a = int(1)\n",
    "c = True\n",
    "print(a == c)"
   ]
  },
  {
   "cell_type": "markdown",
   "metadata": {},
   "source": [
    "## Exercice:\n",
    "Ecrire les conditions pour afficher correctement les réponses avec les \"print\" proposés:"
   ]
  },
  {
   "cell_type": "code",
   "execution_count": 7,
   "metadata": {},
   "outputs": [
    {
     "name": "stdout",
     "output_type": "stream",
     "text": [
      "Bonjour Mademoiselle\n"
     ]
    }
   ],
   "source": [
    "genre = \"feminin\"\n",
    "age = 17\n",
    "if ( genre == \"feminin\" and age>= 18):\n",
    "    print(\"Bonjour Madame\")\n",
    "else:\n",
    "    print(\"Bonjour Mademoiselle\")"
   ]
  },
  {
   "cell_type": "markdown",
   "metadata": {},
   "source": [
    "# Exercices avec des tests\n",
    "\n",
    "## Exercice 1\n",
    "\n",
    "Ecrire un programme en python pour calculer l'âge d'un chien comparée à celle d'un humain. En effet, la vie d'un chien n'a pas la même durée que celle d'un homme. Le rythme de croissance du chien est plus rapide que celui de l'humain et sa vie est bien plus courte. \n",
    "\n",
    "Vous devez construire un algorithme que traite les informations suivantes pour calculer l'âge d'un chien en comparaison de celle d'un homme. L'âge sera demandée à l'utilisateur dans une entrée. (L'instruction input(\" question à demander\") en python).\n",
    "indications: Dans un premier temps, nous simplifions le calcul de l'age. Pour calculer l'age de nos amis canins, pendant les deux premières années une année de chien compte deux années puis chaque année suplémentaire vaut l'équivalent de quatre années humaines.\n"
   ]
  },
  {
   "cell_type": "code",
   "execution_count": 10,
   "metadata": {},
   "outputs": [
    {
     "name": "stdout",
     "output_type": "stream",
     "text": [
      "Quelle age à votre chien?11\n",
      "votre animal a 40  en age humain.\n"
     ]
    }
   ],
   "source": [
    "# Progreramme : Quel age a votre chien \n",
    "age_chien = input(\"Quelle age à votre chien?\")\n",
    "type (age_chien)\n",
    "age = int (age_chien) # conversion de type\n",
    "if age<=2 :\n",
    "    age_humain = age*2\n",
    "else:\n",
    "    age_humain = 4+(age-2)*4\n",
    "\n",
    "print(\"votre animal a\", age_humain ,\" en age humain.\")\n",
    "# a vous de terminer ...\n"
   ]
  },
  {
   "cell_type": "markdown",
   "metadata": {},
   "source": [
    "## Option 1: \n",
    "Pour calculer l'age du chien, nous passons par sa date de naissance. Avec la date, vous devez calculer son age réelle puis la convertir en age équivalent humain.\n",
    "\n",
    "Remarque: la date sera obtenue avec la bibliothèque datetime. avec l'instruction suivante, vous pouvez prendre la date avec datetime.now() et isoler l'année avec l'attribut year . Dans l'exemple, c'est le jour qui est isolé.\n"
   ]
  },
  {
   "cell_type": "code",
   "execution_count": null,
   "metadata": {},
   "outputs": [],
   "source": [
    "#exemple d'utilisation de la date avec un import\n",
    "from datetime import datetime\n",
    "maintenant = datetime.now() \n",
    "print(maintenant)        # date complète\n",
    "print(maintenant.day)   # jour uniquement\n",
    "type(maintenant.day)\n"
   ]
  },
  {
   "cell_type": "code",
   "execution_count": 11,
   "metadata": {},
   "outputs": [
    {
     "name": "stdout",
     "output_type": "stream",
     "text": [
      "quelle est l'année de naissance de votre chien? 2008\n",
      "votre animal a 40  en age humain.\n"
     ]
    }
   ],
   "source": [
    "\"\"\"Votre programme\"\"\"\n",
    "from datetime import datetime\n",
    "maintenant = datetime.now() \n",
    "\n",
    "annee_chien = int(input(\"quelle est l'année de naissance de votre chien? \"))\n",
    "age_chien = maintenant.year - annee_chien\n",
    "\n",
    "age = int (age_chien) # conversion de type\n",
    "if age<=2 :\n",
    "    age_humain = age*2\n",
    "else:\n",
    "    age_humain = 4+(age-2)*4\n",
    "\n",
    "print(\"votre animal a\", age_humain ,\"en age humain.\")\n"
   ]
  },
  {
   "cell_type": "markdown",
   "metadata": {},
   "source": [
    "## Option 2:\n",
    "Et nos amis les chats ?\n",
    "Les correspondances entre l'âge du chat et l'âge humain ont été établies après des calculs très précis et des observations vétérinaires effectuées sur les chats. Les résultats nous donnent ce constat: le chat acquiert 19 ans «humain» au terme de sa première année de vie, puis il augmente de 4 ans en 4 ans pendant 9 années, puis de 6 ans en 6 ans jusquà la fin de ses jours... Cela s'explique par le fait que le chat a une croissance très rapide, pour ensuite se stabiliser et vieillir de moins en moins vite.\n",
    "\n",
    "Construire le programme qui selectionne le type d'annimal puis qui demande l'année de naissance de l'animal pour calculer l'age \"humain\" de la bête.\n"
   ]
  },
  {
   "cell_type": "code",
   "execution_count": 13,
   "metadata": {},
   "outputs": [
    {
     "name": "stdout",
     "output_type": "stream",
     "text": [
      "quel type d'animal avez-vou? chien ou chatchat\n",
      "quelle est l'année de naissance de votre chat? 2004\n",
      "votre chat a 85 en age humain.\n"
     ]
    }
   ],
   "source": [
    "from datetime import datetime\n",
    "maintenant = datetime.now()\n",
    "\n",
    "\n",
    "animal = input (\"quel type d'animal avez-vous? chien ou chat\")\n",
    "if animal == \"chien\":\n",
    "    annee_chien = int(input(\"quelle est l'année de naissance de votre chien? \"))\n",
    "    age_chien = maintenant.year - annee_chien\n",
    "\n",
    "    age = int (age_chien) # conversion de type\n",
    "    if age<=2 :\n",
    "        age_humain = age*2\n",
    "    else:\n",
    "        age_humain = 4+(age-2)*4\n",
    "\n",
    "    print(\"votre chien a\", age_humain ,\"en age humain.\")\n",
    "    \n",
    "elif animal == \"chat\":\n",
    "    annee_chat = int(input(\"quelle est l'année de naissance de votre chat? \"))\n",
    "    age_chat = maintenant.year - annee_chat\n",
    "\n",
    "    age = int (age_chat) # conversion de type\n",
    "    if age<=1:\n",
    "        age_humain = age*19\n",
    "    elif age<=10 and age>=1:\n",
    "        age_humain = 19+(age-1)*4\n",
    "    else:\n",
    "        age_humain = 19+9*4+(age-10)*6\n",
    "\n",
    "    print(\"votre chat a\", age_humain ,\"en age humain.\")\n",
    "    \n",
    "else:\n",
    "    print(\"nous ne pouvons pas calculer l'age de ce type d'animal.\")\n",
    "    print(\"Veuillez resaisir votre demande.\")"
   ]
  },
  {
   "cell_type": "markdown",
   "metadata": {},
   "source": [
    "## Option 3:\n",
    "Nous allons affiner la façon de calculer l'age des chien. En effet, la taille des chiens joue beaucoup sue la longévité des annimaux. Les petits chiens vivent plus longtemps que les grands chiens. Les écarts sont présentés dans le tableau ci-dessous:\n",
    "\n",
    " - Age chien réel \t1 \t2 \t3 \t4 \t5 \t6 \t7 \t8 \t9 \t10 \t11 \t12 \t13 \t14 \t15 \t16 \t17 \t18\n",
    " \n",
    " - Age petit chien\t20 \t28 \t32 \t36 \t40 \t44 \t48 \t52 \t56 \t60 \t64 \t68 \t72 \t76 \t80 \t84 \t88 \t94\n",
    " \n",
    " - Age chien moyen    18 \t27 \t33 \t39 \t45 \t51 \t57 \t63 \t69 \t75 \t81 \t87 \t93 \t100\n",
    " \n",
    " - Age gros chien \t16 \t22 \t31 \t40 \t49 \t58 \t67 \t76 \t85 \t96 \t105\n",
    " \n",
    "    \n",
    "Pour traiter ces différents cas, après avoir identifié la catégorie de l'animal, vous ferez la correspondance entre l'age réel et l'age \"humain\" grace à des listes ou des tableaux. \n",
    "\n",
    "Les données indexées seront associées entre l'indexe de l'age réel et la valeur dans la liste avec cette indexe. \n"
   ]
  },
  {
   "cell_type": "code",
   "execution_count": null,
   "metadata": {},
   "outputs": [],
   "source": [
    "age_petit_chien = [20,28,32,36,40,44,48,52,56,60,64,68,72,76,80,84,88,94]\n",
    "print(age_petit_chien[3])  # appel de la valeur à l'index 3 , attention, on commence à 0."
   ]
  },
  {
   "cell_type": "markdown",
   "metadata": {},
   "source": [
    "Reprendre le programme du calcul de l'age du chien avec ces nouveaux critères plus précis.\n",
    "Vous commencerez par demander à l'utilisateur le type de chien puis son année de naissance. vous afficherez son age \"humain\" calculé.\n"
   ]
  },
  {
   "cell_type": "code",
   "execution_count": 2,
   "metadata": {},
   "outputs": [
    {
     "name": "stdout",
     "output_type": "stream",
     "text": [
      "Quelle age à votre chien?11\n",
      "quelle taille a vote chien? petit - moyen-grosgros\n",
      "votre animal a 105  en age humain.\n"
     ]
    }
   ],
   "source": [
    "age_chien = input(\"Quelle age à votre chien?\")\n",
    "taille = input(\"quelle taille a vote chien? petit - moyen-gros\")\n",
    "type (age_chien)\n",
    "age = int (age_chien) # conversion de type\n",
    "if taille == \"petit\":\n",
    "    age_petit = [20,28,32,36,40,44,48,52,56,60,64,68,72,76,80,84,88,94]\n",
    "    age_humain  = age_petit[age-1]\n",
    "    print(\"votre animal a\", age_humain ,\" en age humain.\")\n",
    "elif taille == \"moyen\":\n",
    "    age_moyen = [18,27,33,39,45,51,57,63,69,75,81,87,93,100]\n",
    "    age_humain  = age_moyen[age-1]\n",
    "    print(\"votre animal a\", age_humain ,\" en age humain.\")\n",
    "elif taille == \"gros\":\n",
    "    if age >11 : \n",
    "        Print(\"votre chien à plus de 105 ans.\")\n",
    "    else:\n",
    "        age_gros = [16,22,31,40,49,58,67,76,85,96,105]\n",
    "        age_humain  = age_gros[age-1]\n",
    "        print(\"votre animal a\", age_humain ,\" en age humain.\")\n",
    "else:\n",
    "    print( \"nous ne pouvons calculer l'age de votre chien avec cette taille.\")\n",
    "    print(\"veuillez recommencer. Merci\")\n",
    "\n",
    "\n"
   ]
  },
  {
   "cell_type": "code",
   "execution_count": null,
   "metadata": {},
   "outputs": [],
   "source": []
  }
 ],
 "metadata": {
  "kernelspec": {
   "display_name": "Python 3",
   "language": "python",
   "name": "python3"
  },
  "language_info": {
   "codemirror_mode": {
    "name": "ipython",
    "version": 3
   },
   "file_extension": ".py",
   "mimetype": "text/x-python",
   "name": "python",
   "nbconvert_exporter": "python",
   "pygments_lexer": "ipython3",
   "version": "3.7.3"
  }
 },
 "nbformat": 4,
 "nbformat_minor": 2
}
