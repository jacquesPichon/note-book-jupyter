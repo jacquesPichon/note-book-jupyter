{
 "cells": [
  {
   "cell_type": "markdown",
   "metadata": {},
   "source": [
    "# Structure d'un programme en python\n",
    "## Introduction\n",
    "\n",
    "Faites des sauvegarges régulières au format  .ipynb  pour pouvoir reprendre vos bouts de code en cas de défaillance des serveurs Jupyter.\n",
    "\n",
    "\n",
    "### Règles de bonne programmation\n",
    "Bien programmer, c'est d'abord réfléchir avant d'écrire. Avant de saisir un programme sur l'ordinateur, il faut toujours, en s'armant d'un papier et d'un crayon :\n",
    "* Analyser le problème à résoudre.\n",
    "* Déterminer les variables nécessaires à sa résolution.\n",
    "* Élaborer un premier schéma d'algorithme.\n",
    "\n",
    "Un programme doit pouvoir être lu et relu. Pour faciliter ces échanges, quelques règles s'imposent :\n",
    "* Utiliser des noms de variables et de fonctions explicites;\n",
    "* Commenter les diff\u001bérentes étapes du programme avec le caractère ].\n",
    "* Documenter les fonctions.\n",
    "\n",
    "En\u001c",
    "fin, quelques règles de présentation sont à respecter :\n",
    "\n",
    "* Placer un espace après une virgule, un point-virgule ou deux-points ;\n",
    "* Ne pas placer d'espace avant une virgule, un point-virgule ou deux-points ;\n",
    "* Placer un espace de chaque côté d'un opérateur ;\n",
    "* Ne pas placer d'espace entre le nom d'une fonction et sa liste d'arguments.\n",
    "* Indenter le code par bloc d'instruction.\n",
    "\n",
    "\n",
    "L'indentation fait partie du codage en python. "
   ]
  },
  {
   "cell_type": "markdown",
   "metadata": {},
   "source": [
    "# Test\n",
    "## if\n",
    "Les tests sont réalisés avec l'instruction \"if\".\n",
    "\n",
    "<img src=\"img/if.png\" width=50%>\n",
    "\n",
    "## if else\n",
    "\n",
    "Si une condition est vérifiée, alors on exécute les instructions sinon, on peut programmer une alternative avec \"else\":sinon.\n",
    "\n",
    "<img src=\"img/ifelse.png\" width=50%>\n",
    "\n",
    "## if elif\n",
    "On peut également mettre plusieurs conditions à se suivre avec elif.\n",
    "\n",
    "SI la condition est vérifiée, le bloc est exécuté puis le reste n'est pas testé. Sinon, les tests suivants sont analysés.\n",
    "\n",
    "<img src=\"img/elif.png\" width=70%>\n",
    "\n",
    "Dans l'exemple suivant, vous pouvez tester le comportement du test avec la variable condition, une variable booléenne, initialisée à False. Après avoir exécuté le bloc, vous pouvez modifier la variable à True pour constater l'exécution de la bonne branche.\n",
    "#### L'indentation\n",
    "Les instructions à éxécuter pour chaque sélection sont indentées (décalées d'une tabulation ou d'un nombre déterminé d'espaces)."
   ]
  },
  {
   "cell_type": "code",
   "execution_count": null,
   "metadata": {},
   "outputs": [],
   "source": [
    "condition = bool(False)\n",
    "if (condition):\n",
    "    print(\"bienvenue en NSI\")\n",
    "else:\n",
    "    print(\"a une prochaine fois pour une découverte de la programmation !\")"
   ]
  },
  {
   "cell_type": "code",
   "execution_count": null,
   "metadata": {},
   "outputs": [],
   "source": [
    "#structure avec \"elif\" à personnaliser si vous le souhaitez \n",
    "if <condition_1>:\n",
    "    <instructions_1>\n",
    "elif <condition_2>:\n",
    "    <instructions_2>\n",
    "else:\n",
    "    <instructions_3>\n"
   ]
  },
  {
   "cell_type": "markdown",
   "metadata": {},
   "source": [
    "À noter que dès qu'une condition est satisfaite, les instructions associées sont eff\u001bectuées et le programme sort de la conditionnelle.\n"
   ]
  },
  {
   "cell_type": "code",
   "execution_count": null,
   "metadata": {},
   "outputs": [],
   "source": [
    "genre  = \"masculin\"\n",
    "\n",
    "if genre == \"masculin\":\n",
    "    print(\"bonjour Monsieur.\")\n",
    "elif genre == \"feminin\":\n",
    "    print(\"bonjour Madame\")\n",
    "else:\n",
    "    print(\"Bonjour les amis\")"
   ]
  },
  {
   "cell_type": "markdown",
   "metadata": {},
   "source": [
    "## condition dans un if\n",
    "La condition testée est une variable booléenne qui ne peut avoir que deux état, vrai ou faux. La condition est la réponse à une question sans ambiguité. \n",
    "La condition peut résulter d'une association de paramètres avec des ET et des OU: AND et OR en python.\n",
    "\n"
   ]
  },
  {
   "cell_type": "markdown",
   "metadata": {},
   "source": [
    "### Les comparaisons\n",
    "Pour comparer deux données, nous avons plusieurs opérateurs.\n",
    "\n",
    " - Egalité:    ==                   Pour faire la différence entre l'églalité et l'affectation !!! \n",
    " - Différence: !=\n",
    " - Supérieur:   >\n",
    " - Inférieur:   <\n",
    " - Supérieur ou égale: >=\n",
    " - Inférieur ou égale: <=\n"
   ]
  },
  {
   "cell_type": "code",
   "execution_count": null,
   "metadata": {},
   "outputs": [],
   "source": [
    "a = 5\n",
    "b = 15\n",
    "print( a > b)"
   ]
  },
  {
   "cell_type": "markdown",
   "metadata": {},
   "source": [
    "Il existe de nombreuses spécificités que vous découvrirez au fils des situations de prgrammation. Par exemple:"
   ]
  },
  {
   "cell_type": "code",
   "execution_count": null,
   "metadata": {},
   "outputs": [],
   "source": [
    "a = int(1)\n",
    "c = True\n",
    "print(a == c)"
   ]
  },
  {
   "cell_type": "markdown",
   "metadata": {},
   "source": [
    "## Exercice:\n",
    "Ecrire les conditions pour afficher correctement les réponses avec les \"print\" proposés:"
   ]
  },
  {
   "cell_type": "code",
   "execution_count": null,
   "metadata": {},
   "outputs": [],
   "source": [
    "genre = \"feminin\"\n",
    "age = 18\n",
    "if (  ):\n",
    "    print(\"Bonjour Madame\")\n",
    "else:\n",
    "    print(\"Bonjour Mademoiselle\")"
   ]
  },
  {
   "cell_type": "markdown",
   "metadata": {},
   "source": [
    "# Exercices avec des tests\n",
    "\n",
    "## Exercice 1\n",
    "\n",
    "Ecrire un programme en python pour calculer l'age d'un chien comparée à celle d'un humain. En effet, la vire d'un chien n'a pas la même durée que celle d'un homme. Le rythme de croissance du chien est plus rapide que celui de l'humain et sa vie est bien plus courte. \n",
    "\n",
    "Vous devez construire un algorithme que traite les informations suivantes pour calculer l'age d'un chien en comparaison de celle d'un homme. L'age sera demandée à l'utilisateur dans une entrée. (L'instruction input(\" question à demander\") en python).\n",
    "indications: Dans un premier temps, nous simplifions le calcul de l'age. Pour calculer l'age de nos amis canins, pendant les deux premières années une année de chien compte deux années puis chaque année suplémentaire vaut l'équivalent de quatre années humaines.\n"
   ]
  },
  {
   "cell_type": "code",
   "execution_count": null,
   "metadata": {},
   "outputs": [],
   "source": [
    "# Progreramme : Quel age a votre chien \n",
    "age_chien = input(\"Quelle age à votre chien?\")\n",
    "type (age_chien)\n",
    "\n"
   ]
  },
  {
   "cell_type": "markdown",
   "metadata": {},
   "source": [
    "## Option 1: \n",
    "Pour calculer l'age du chien, nous passons par sa date de naissance. Avec la date, vous devez calculer son age réelle puis la convertir en age équivalent humain.\n",
    "\n",
    "Remarque: la date sera obtenue avec la bibliothèque datetime. avec l'instruction suivante, vous pouvez prendre la date avec datetime.now() et isoler l'année avec l'attribut year . Dans l'exemple, c'est le jour qui est isolé.\n"
   ]
  },
  {
   "cell_type": "code",
   "execution_count": null,
   "metadata": {},
   "outputs": [],
   "source": [
    "#exemple d'utilisation de la date avec un import\n",
    "from datetime import datetime\n",
    "maintenant = datetime.now() \n",
    "print(maintenant)        # date complète\n",
    "print(maintenant.day)   # jour uniquement\n",
    "type(maintenant.day)\n"
   ]
  },
  {
   "cell_type": "code",
   "execution_count": null,
   "metadata": {},
   "outputs": [],
   "source": [
    "\"\"\"Votre programme\"\"\"\n",
    "age_chien = input(\"quelle est l'année de naissance de votre chien? \")\n"
   ]
  },
  {
   "cell_type": "markdown",
   "metadata": {},
   "source": [
    "## Option 2:\n",
    "Et nos amis les chats ?\n",
    "Les correspondances entre l'âge du chat et l'âge humain ont été établies après des calculs très précis et des observations vétérinaires effectuées sur les chats. Les résultats nous donnent ce constat: le chat acquiert 19 ans «humain» au terme de sa première année de vie, puis il augmente de 4 ans en 4 ans pendant 9 années, puis de 6 ans en 6 ans jusquà la fin de ses jours... Cela s'explique par le fait que le chat a une croissance très rapide, pour ensuite se stabiliser et vieillir de moins en moins vite.\n",
    "\n",
    "Construire le programme qui selectionne le type d'annimal puis qui demande l'année de naissance de l'animal pour calculer l'age \"humain\" de la bête.\n"
   ]
  },
  {
   "cell_type": "code",
   "execution_count": null,
   "metadata": {},
   "outputs": [],
   "source": []
  },
  {
   "cell_type": "markdown",
   "metadata": {},
   "source": [
    "## Option 3:\n",
    "Nous allons affiner la façon de calculer l'age des chien. En effet, la taille des chiens joue beaucoup sue la longévité des annimaux. Les petits chiens vivent plus longtemps que les grands chiens. Les écarts sont présentés dans le tableau ci-dessous:\n",
    "\n",
    " - Age chien réel \t1 \t2 \t3 \t4 \t5 \t6 \t7 \t8 \t9 \t10 \t11 \t12 \t13 \t14 \t15 \t16 \t17 \t18\n",
    " \n",
    " - Age petit chien\t20 \t28 \t32 \t36 \t40 \t44 \t48 \t52 \t56 \t60 \t64 \t68 \t72 \t76 \t80 \t84 \t88 \t94\n",
    " \n",
    " - Age chien moyen    18 \t27 \t33 \t39 \t45 \t51 \t57 \t63 \t69 \t75 \t81 \t87 \t93 \t100\n",
    " \n",
    " - Age gros chien \t16 \t22 \t31 \t40 \t49 \t58 \t67 \t76 \t85 \t96 \t105\n",
    " \n",
    "    \n",
    "Pour traiter ces différents cas, après avoir identifié la catégorie de l'animal, vous ferez la correspondance entre l'age réel et l'age \"humain\" grace à des listes ou des tableaux. \n",
    "\n",
    "Les données indexées seront associées entre l'indexe de l'age réel et la valeur dans la liste avec cette indexe. \n"
   ]
  },
  {
   "cell_type": "code",
   "execution_count": null,
   "metadata": {},
   "outputs": [],
   "source": [
    "age_petit_chien = [20,28,32,36,40,44,48,52,56,60,64,68,72,76,80,84,88,94]\n",
    "print(age_petit_chien[3])  # appel de la valeur à l'index 3 , attention, on commence à 0."
   ]
  },
  {
   "cell_type": "markdown",
   "metadata": {},
   "source": [
    "Reprendre le programme du calcul de l'age du chien avec ces nouveaux critères plus précis.\n",
    "Vous commencerez par demander à l'utilisateur le type de chien puis son année de naissance. vous afficherez son age \"humain\" calculé.\n"
   ]
  },
  {
   "cell_type": "code",
   "execution_count": null,
   "metadata": {},
   "outputs": [],
   "source": []
  }
 ],
 "metadata": {
  "kernelspec": {
   "display_name": "Python 3",
   "language": "python",
   "name": "python3"
  },
  "language_info": {
   "codemirror_mode": {
    "name": "ipython",
    "version": 3
   },
   "file_extension": ".py",
   "mimetype": "text/x-python",
   "name": "python",
   "nbconvert_exporter": "python",
   "pygments_lexer": "ipython3",
   "version": "3.7.3"
  }
 },
 "nbformat": 4,
 "nbformat_minor": 2
}
