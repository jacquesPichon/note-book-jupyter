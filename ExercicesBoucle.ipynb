{
 "cells": [
  {
   "cell_type": "markdown",
   "metadata": {},
   "source": [
    "# Les Boucles\n",
    "\n",
    "Série d'exercices sur les boucles en python\n",
    "\n"
   ]
  },
  {
   "cell_type": "markdown",
   "metadata": {},
   "source": [
    "## Boucle Pour\n",
    "Exemple de boucle classique avec for et range\n",
    "Avec Range, le dernier élément n'est pas pris en compte."
   ]
  },
  {
   "cell_type": "code",
   "execution_count": null,
   "metadata": {},
   "outputs": [],
   "source": [
    "for i in range (5,9):\n",
    "    print(i)"
   ]
  },
  {
   "cell_type": "markdown",
   "metadata": {},
   "source": [
    "Dans le bloc ci-dessus, modifier les limites de range avec(5,9). \n",
    "i la variable de boucle prend les valeurs allant du début à la dernière valeur-1."
   ]
  },
  {
   "cell_type": "markdown",
   "metadata": {},
   "source": [
    "si le début n'est pas précisé, alors on commence à 0 et toujours avec la dernière valeur qui n'est pas traitée.\n"
   ]
  },
  {
   "cell_type": "code",
   "execution_count": null,
   "metadata": {},
   "outputs": [],
   "source": [
    "for i in range (9):\n",
    "    print(i)"
   ]
  },
  {
   "cell_type": "markdown",
   "metadata": {},
   "source": [
    "Il est également possible d'avoir un pas différent de 1. Dans ce cas, range prend 3 paramètres."
   ]
  },
  {
   "cell_type": "code",
   "execution_count": null,
   "metadata": {},
   "outputs": [],
   "source": [
    "for i in range (5,15,2):\n",
    "    print (i)"
   ]
  },
  {
   "cell_type": "markdown",
   "metadata": {},
   "source": [
    "Si les limites sont inversées, on peut remonter les valeurs."
   ]
  },
  {
   "cell_type": "code",
   "execution_count": null,
   "metadata": {},
   "outputs": [],
   "source": [
    "for i in range (15,5,-2):\n",
    "    print (i)"
   ]
  },
  {
   "cell_type": "markdown",
   "metadata": {},
   "source": [
    "Pour les listes, on peut enumérer les éléments de la liste. \n",
    "La liste est créée avec des crochets et les éléments sont séparés par une virgule.\n"
   ]
  },
  {
   "cell_type": "code",
   "execution_count": null,
   "metadata": {},
   "outputs": [],
   "source": [
    "ma_liste = [1,2,3,4,5,6,7,8,9]\n",
    "print(ma_liste)"
   ]
  },
  {
   "cell_type": "markdown",
   "metadata": {},
   "source": [
    "Pour traiter les éléments dans une boucle, on procède aux itérations directement sur les éléments en choisissant une variable d'itération avec un nom précis, puis on traite la liste:"
   ]
  },
  {
   "cell_type": "code",
   "execution_count": null,
   "metadata": {},
   "outputs": [],
   "source": [
    "for nombre in ma_liste:\n",
    "    print (nombre)"
   ]
  },
  {
   "cell_type": "markdown",
   "metadata": {},
   "source": [
    "Pour les chaine de caractères, c'est identique.\n",
    "Les caractères sont identifiés par leur position dans une sorte de liste liste. on peut donc isoler les caractères et les traiter en série dans une boucle for:\n"
   ]
  },
  {
   "cell_type": "code",
   "execution_count": null,
   "metadata": {
    "scrolled": true
   },
   "outputs": [],
   "source": [
    "message  = \"Python c'est trop fort ! \"\n",
    "for lettre in message:\n",
    "    print(lettre)"
   ]
  },
  {
   "cell_type": "markdown",
   "metadata": {},
   "source": [
    "## Boucle tant que\n",
    "Pour code ce type de répétition, nous utilisons l'instruction de python while, il faut que les instructions de la boucle intègre une modification de la condition du while.\n",
    "\n",
    "Dans l'exemple suivant, vous pouvez changer < pour <= et constater l'influence de la condition sur le résultat de la boucle."
   ]
  },
  {
   "cell_type": "code",
   "execution_count": null,
   "metadata": {},
   "outputs": [],
   "source": [
    "i = 0\n",
    "while i<5:\n",
    "    print(i)\n",
    "    i=i+1"
   ]
  },
  {
   "cell_type": "markdown",
   "metadata": {},
   "source": [
    "\n",
    "## Exercice 1\n",
    "Ecrire un programme qui demande un nombre de départ, et qui ensuite écrit la table de multiplication de ce nombre, présentée comme suit (cas où l'utilisateur entre le nombre 7) :\n",
    "\n",
    "Table de 7 :\n",
    "\n",
    "7 x 1 = 7\n",
    "\n",
    "7 x 2 = 14\n",
    "\n",
    "7 x 3 = 21\n",
    "\n",
    "…\n",
    "\n",
    "7 x 10 = 70\n"
   ]
  },
  {
   "cell_type": "code",
   "execution_count": null,
   "metadata": {},
   "outputs": [],
   "source": [
    "\n",
    "\n"
   ]
  },
  {
   "cell_type": "markdown",
   "metadata": {},
   "source": [
    "## Exercice 2\n",
    "Proposer un programme qui affiche les tables de multiplication de 1 à n. n étant demandé par l'utilisateur.  Vous pourrez utiliser le programme de l'exercice 1 pour débuter."
   ]
  },
  {
   "cell_type": "code",
   "execution_count": null,
   "metadata": {},
   "outputs": [],
   "source": []
  },
  {
   "cell_type": "markdown",
   "metadata": {},
   "source": [
    "## Exercice 2' \n",
    "Proposer un programme qui genère la table de multiplication de 1 à 10 sous la forme d'un tableau affiché en console. "
   ]
  },
  {
   "cell_type": "code",
   "execution_count": null,
   "metadata": {},
   "outputs": [],
   "source": []
  },
  {
   "cell_type": "markdown",
   "metadata": {},
   "source": [
    "## Exercice 3\n",
    "Écrire un programme qui recueille au clavier les températures de 7 jours successifs et calcule la température moyenne de la semaine."
   ]
  },
  {
   "cell_type": "code",
   "execution_count": null,
   "metadata": {},
   "outputs": [],
   "source": []
  },
  {
   "cell_type": "markdown",
   "metadata": {},
   "source": [
    "## Exercice 4\n",
    "Modifier le programme précédent pour que l'utilisateur puisse préciser le nombre de jours, avant de donner les températures."
   ]
  },
  {
   "cell_type": "code",
   "execution_count": null,
   "metadata": {},
   "outputs": [],
   "source": []
  },
  {
   "cell_type": "markdown",
   "metadata": {},
   "source": [
    "## Exercice 5\n",
    "On souhaite faire jouer l'utilisateur au nombre mystère.\n",
    "\n",
    "L'ordinateur tire au hazard un nombre entre 0 et 100.\n",
    "Le joueur doit deviner ce nombre mystère en utilisant le moins d'essais possible. \n",
    "A chaque proposition du joueur, l'ordinateur répond en lui précisant si le nombre tenté est trop grand ou trop petit.\n",
    "On souhaite donc que l’utilisateur propose des nombres jusqu’à ce qu’il soit tombé sur le bon nombre, on ne sait pas à l’avance le nombre d’essais nécessaires. Au bout de 10 essais infructueux, le jeu s’arrête par un affichage du message «perdu!». En cas de victoire, un message indique le nombre mystère et le nombre de coup pour le devine.\n",
    "\n",
    "\n",
    "Pour générer le nombre mystère, on utilise la fonction randint(0,100) de la bibliothèque random."
   ]
  },
  {
   "cell_type": "code",
   "execution_count": null,
   "metadata": {},
   "outputs": [],
   "source": [
    "from random import randint\n",
    "print(randint(0,100))"
   ]
  },
  {
   "cell_type": "markdown",
   "metadata": {},
   "source": [
    "## Exercice 6\n",
    "Adapter votre programme pour que se soit à l'ordinateur de découvrir le nombre que vous avez choisi. \n",
    "\n",
    "Sur cet exercice, on ne cherche pas à optimiser la recherche du nombre par l'ordinateur.\n",
    "Votre algorithme doit permettre à l'ordinateur de trouver le nombre."
   ]
  },
  {
   "cell_type": "code",
   "execution_count": null,
   "metadata": {},
   "outputs": [],
   "source": []
  }
 ],
 "metadata": {
  "kernelspec": {
   "display_name": "Python 3",
   "language": "python",
   "name": "python3"
  },
  "language_info": {
   "codemirror_mode": {
    "name": "ipython",
    "version": 3
   },
   "file_extension": ".py",
   "mimetype": "text/x-python",
   "name": "python",
   "nbconvert_exporter": "python",
   "pygments_lexer": "ipython3",
   "version": "3.7.3"
  }
 },
 "nbformat": 4,
 "nbformat_minor": 2
}
