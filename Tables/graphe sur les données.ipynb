{
 "cells": [
  {
   "cell_type": "markdown",
   "metadata": {},
   "source": [
    "# Options sur les données en table de film.csv\n",
    "\n",
    "## Construire les graphes des résultats:\n",
    "\n",
    "Pour la question 6 afficher sous la forme d'un bargraphe le nombre de films pour chaque année.\n",
    "\n",
    "Pour la question 9 , afficher un graphe de type camembert pour représenter les pourcentages de films produits par pays. (utiliser les noms pays comme 'label' et les pourcentage calculés à partir des données comme valeurs). \n",
    "\n",
    "Pour la question 10, après avoir identifier le pays le plus productif sur toute la période de l'étude, afficher la courbe d'évolution du nombre d'entrée du pays le plus productif en fonction du temps. \n",
    "Afficher et la même courbe pour le pays le moins productif sur le même graphe. Que constatez vous sur la comparaison des deux courbes."
   ]
  }
 ],
 "metadata": {
  "kernelspec": {
   "display_name": "Python 3",
   "language": "python",
   "name": "python3"
  },
  "language_info": {
   "codemirror_mode": {
    "name": "ipython",
    "version": 3
   },
   "file_extension": ".py",
   "mimetype": "text/x-python",
   "name": "python",
   "nbconvert_exporter": "python",
   "pygments_lexer": "ipython3",
   "version": "3.6.8"
  }
 },
 "nbformat": 4,
 "nbformat_minor": 2
}
