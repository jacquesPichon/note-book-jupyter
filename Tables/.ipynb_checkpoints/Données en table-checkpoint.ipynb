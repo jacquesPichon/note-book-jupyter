{
 "cells": [
  {
   "cell_type": "markdown",
   "metadata": {},
   "source": [
    "# Introduction\n",
    "Une  des  utilisations  principales  de  l’informatique  de  nos  jours  est  le  traitement  de  quantités importantes  de  données  dans  desdomaines très variés : un site de commerce en ligne peut avoir à gérer des bases données pour des dizaines de milliers (voire plus)d’articles en vente, de clients, de commandes, un hopital doit pouvoir accéder efficacement à tous les détails de traitements de sespatients, etc.\n",
    "\n",
    "Mais si les logiciels de traitement de base de données sont des programmes hautement spécialisés pour effectuer ce genre detâches le plus efficacement possible, il est facile de mettre en œuvre les opérations de base dans un langage de programmationcomme Python.\n",
    "\n",
    "Nous allons en illustrer quelque unes.\n",
    "\n"
   ]
  },
  {
   "cell_type": "markdown",
   "metadata": {},
   "source": [
    "# Fichier csv\n",
    "\n",
    "Parmis les fichiers d'échange de données en table, le format csv set très utilisé. Comma-Separated Values ! \n",
    "C'est un format texte ouvert représentant des données tabulaires sous forme de valeurs séparées par des virgules.\n",
    "\n",
    "Ce type de fichiers permet d'exporter des données dans les tableurs en bureautique. \n",
    "\n",
    "Avec python, il est simple d'extraire les données pour automatiser leurs traitements dans des programmes. \n",
    "Dans l'exemple suivant, nous allons récupérer le contenu du fichier film.csv\n"
   ]
  },
  {
   "cell_type": "code",
   "execution_count": null,
   "metadata": {},
   "outputs": [],
   "source": [
    "import csv\n",
    "\n",
    "films = []\n",
    "\n",
    "with open('films.csv', newline='') as csvfile:\n",
    "    spamreader = csv.reader(csvfile, delimiter=';')\n",
    "    for row in spamreader : \n",
    "        films.append(row)\n",
    "films"
   ]
  },
  {
   "cell_type": "markdown",
   "metadata": {},
   "source": [
    "Cette liste contient les données extraites du fichier csv. Le premier élément de la liste est l'entête des colonnes de données. \n",
    "Afficher la première ligne de la liste:\n"
   ]
  },
  {
   "cell_type": "code",
   "execution_count": null,
   "metadata": {},
   "outputs": [],
   "source": [
    "films["
   ]
  },
  {
   "cell_type": "markdown",
   "metadata": {},
   "source": [
    "Afficher les 5 premiers films de la liste:"
   ]
  },
  {
   "cell_type": "code",
   "execution_count": null,
   "metadata": {},
   "outputs": [],
   "source": [
    "for i in range(1,6):\n",
    "    print(films[i])"
   ]
  },
  {
   "cell_type": "markdown",
   "metadata": {},
   "source": [
    "On constate, qu'il est difficile de comprendre le contenu des données. Pour rendre l'ensemble plus lisible, nous allons utiliser un dictionnaire pour associer une clé à une valeur. Par exemple: clé = 'nom du film'. \n",
    "\n",
    "Pour construire ce dictionnaire à partir du fichier csv, nous avons des outils dans la bibliothèque csv. "
   ]
  },
  {
   "cell_type": "code",
   "execution_count": null,
   "metadata": {},
   "outputs": [],
   "source": [
    "import csv\n",
    "\n",
    "films = []\n",
    "\n",
    "with open('films.csv', newline= '') as csvfile:\n",
    "    spamreader = csv .DictReader(csvfile, delimiter = ';')\n",
    "    for row in spamreader :\n",
    "        films.append(dict(row)) \n",
    "films"
   ]
  },
  {
   "cell_type": "code",
   "execution_count": null,
   "metadata": {},
   "outputs": [],
   "source": [
    "print(films[0])"
   ]
  },
  {
   "cell_type": "markdown",
   "metadata": {},
   "source": [
    "csv.DictReader crée un objet qui opère comme un lecteur ordinaire mais assemble les informations de chaque ligne dans un dict dont les clés sont données par le paramètre optionnel fieldnames.\n",
    "\n",
    "Si le fieldnames n'est pas renseigné, alors les valeurs de la première ligne du fichier f sont utilisées comme noms de champs. Sans se soucier de comment sont déterminés les noms de champs, le dictionnaire préserve leur ordre original.\n"
   ]
  },
  {
   "cell_type": "markdown",
   "metadata": {},
   "source": [
    "# Exploitation des données\n",
    "\n",
    "## interrogation\n",
    "\n",
    "On peut traduire en python une question simple. Par exemple, quels sont les films où le pays est la france?\n"
   ]
  },
  {
   "cell_type": "code",
   "execution_count": null,
   "metadata": {},
   "outputs": [],
   "source": [
    "[f['titre'] for f in films if f['nationalité']== 'FRANCE']\n"
   ]
  },
  {
   "cell_type": "markdown",
   "metadata": {},
   "source": [
    "Le résultat de cette interrogation est une liste. Les réponse positive au test  if f['nationalité']== 'FRANCE' pour tous les films de la liste des films vient compléter la liste f avec le titre issu du dictionnaire.\n",
    "\n",
    "De la même façon, afficher les films sortis en 2016:\n"
   ]
  },
  {
   "cell_type": "code",
   "execution_count": null,
   "metadata": {},
   "outputs": [],
   "source": []
  },
  {
   "cell_type": "markdown",
   "metadata": {},
   "source": [
    "## tri\n",
    "\n",
    "Pour exploiter les données, il peut être intéressant de les trier. Une utilisation possible est l’obtention du classement des entréesselon  tel  ou  tel  critère.\n",
    "\n",
    "Tri selon un unique critère:\n",
    "\n",
    "On ne peut pas directement trier le tableau fimls... car cela ne veut rien dire. Il faut indiquer selon quels critères on veut effectuer ce tri. Pour cela, on appelle la fonction sorted ou la méthode sort avec l’argument supplémentaire key qui est une fonction renvoyant la valeur utilisée pour le tri.\n",
    "\n",
    "remarque : sort trie la liste en place alors que sorted() renvoie une nouvelle liste triée, la liste initiale reste intacte.\n",
    "\n",
    "Classer les films par année.\n",
    "\n"
   ]
  },
  {
   "cell_type": "code",
   "execution_count": null,
   "metadata": {},
   "outputs": [],
   "source": [
    "\n"
   ]
  },
  {
   "cell_type": "code",
   "execution_count": null,
   "metadata": {},
   "outputs": [],
   "source": []
  }
 ],
 "metadata": {
  "kernelspec": {
   "display_name": "Python 3",
   "language": "python",
   "name": "python3"
  },
  "language_info": {
   "codemirror_mode": {
    "name": "ipython",
    "version": 3
   },
   "file_extension": ".py",
   "mimetype": "text/x-python",
   "name": "python",
   "nbconvert_exporter": "python",
   "pygments_lexer": "ipython3",
   "version": "3.6.8"
  }
 },
 "nbformat": 4,
 "nbformat_minor": 2
}
