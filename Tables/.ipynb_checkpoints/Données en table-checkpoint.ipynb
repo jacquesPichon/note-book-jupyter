{
 "cells": [
  {
   "cell_type": "markdown",
   "metadata": {},
   "source": [
    "# Introduction\n",
    "Une  des  utilisations  principales  de  l’informatique  de  nos  jours  est  le  traitement  de  quantités importantes  de  données  dans  des domaines très variés : un site de commerce en ligne peut avoir à gérer des bases données pour des dizaines de milliers (voire plus)d’articles en vente, de clients, de commandes, un hopital doit pouvoir accéder efficacement à tous les détails de traitements de ses patients, etc.\n",
    "\n",
    "Mais si les logiciels de traitement de base de données sont des programmes hautement spécialisés pour effectuer ce genre de tâches le plus efficacement possible, il est facile de mettre en œuvre les opérations de base dans un langage de programmation comme Python.\n",
    "\n",
    "Nous allons en illustrer quelque unes.\n",
    "\n"
   ]
  },
  {
   "cell_type": "markdown",
   "metadata": {},
   "source": [
    "# Fichier csv\n",
    "\n",
    "Parmis les fichiers d'échange de données en table, le format csv set très utilisé. Comma-Separated Values ! \n",
    "C'est un format texte ouvert représentant des données tabulaires sous forme de valeurs séparées par des virgules.\n",
    "\n",
    "Ce type de fichiers permet d'exporter des données dans les tableurs en bureautique. \n",
    "\n",
    "Avec python, il est simple d'extraire les données pour automatiser leurs traitements dans des programmes. \n",
    "Dans l'exemple suivant, nous allons récupérer le contenu du fichier film.csv\n"
   ]
  },
  {
   "cell_type": "code",
   "execution_count": null,
   "metadata": {},
   "outputs": [],
   "source": [
    "import csv\n",
    "\n",
    "films = []\n",
    "\n",
    "with open('films.csv', newline='') as csvfile:     # newline='' le caractère de fin de ligne n'est pas précisé.\n",
    "    spamreader = csv.reader(csvfile, delimiter=';')# il peut prendre différente forme selon le fichier ou l'OS\n",
    "    for row in spamreader : \n",
    "        films.append(row)\n",
    "print(films)\n",
    "csvfile.close()"
   ]
  },
  {
   "cell_type": "markdown",
   "metadata": {},
   "source": [
    "Cette liste contient les données extraites du fichier csv. Le premier élément de la liste est l'entête des colonnes de données. \n",
    "Afficher la première ligne de la liste:\n"
   ]
  },
  {
   "cell_type": "code",
   "execution_count": null,
   "metadata": {},
   "outputs": [],
   "source": [
    "films["
   ]
  },
  {
   "cell_type": "markdown",
   "metadata": {},
   "source": [
    "Afficher les 5 premiers films de la liste:"
   ]
  },
  {
   "cell_type": "code",
   "execution_count": null,
   "metadata": {},
   "outputs": [],
   "source": [
    "for "
   ]
  },
  {
   "cell_type": "markdown",
   "metadata": {},
   "source": [
    "## type des données\n",
    "Avec ce traitement automatique, la ligne est lue directement au format texte (str). Les données chiffrées ne sont pas utilisables. \n",
    "\n",
    "La façon plus élégante de construire la liste consiste à convertir les données au moment de la construction de la liste. \n",
    "Chaque ligne sera interprétée, les types attribués puis la ligne 'propre' sera ajoutée dans la liste.\n",
    "\n",
    "Le programme en python suivant affiche les deux premières lignes pour bien identifier les types de données d'une ligne."
   ]
  },
  {
   "cell_type": "code",
   "execution_count": null,
   "metadata": {},
   "outputs": [],
   "source": [
    "import csv\n",
    "\n",
    "films = []\n",
    "\n",
    "with open('films.csv', newline='') as csvfile:\n",
    "    spamreader = csv.reader(csvfile, delimiter=';')\n",
    "    print(next(spamreader))  # affichage des 2 premières lignes pour\n",
    "    print(next(spamreader))  # visualiser les types que l'on souhaite\n",
    "    \n",
    "    "
   ]
  },
  {
   "cell_type": "markdown",
   "metadata": {},
   "source": [
    "Quels sont les types que vous attribuez aux données?\n",
    "\n",
    "Chaque ligne que nous nommerons 'row' est une liste. Vous allez convertir les données de chaque ligne avec une répétition pour toutes les lignes de spamreader.\n",
    "\n",
    "Par exemple, la première donnée, ID est un entier _int_, TITRE est une chaîne de caractères _str_, etc... \n",
    "\n",
    "\n",
    "Programmer la construction des autres données ainsi que la boucle pour traiter tout le spamreader. Vous devez:\n",
    "\n",
    " - construire la ligne sous la forme d'une liste, que nous appellerons 'ligne[]' avec les données converties dans le bon type,\n",
    "    - la ligne sera construite avec append:  ligne.append(.....)\n",
    "    - les 5 informations sur le film d'une 'row' seront traitées.\n",
    " - ajouter la ligne dans la liste films.\n",
    " - afficher la liste films avec un print pour vérifier les types des données.\n",
    " \n",
    "Compléter le programme ci-dessus pour réaliser ces opérations."
   ]
  },
  {
   "cell_type": "code",
   "execution_count": null,
   "metadata": {
    "scrolled": false
   },
   "outputs": [],
   "source": [
    "import csv\n",
    "\n",
    "films = []\n",
    "\n",
    "with open('films.csv', newline='') as csvfile:\n",
    "    spamreader = csv.reader(csvfile, delimiter=';')\n",
    "    next(spamreader)  # on passe l'entête pour avoir directement les données\n",
    "    \n",
    "    for \n",
    "    \n",
    "        \n",
    "        \n",
    "    \n",
    "    "
   ]
  },
  {
   "cell_type": "markdown",
   "metadata": {},
   "source": [
    " __Complément__ : '4,515' ... ça ne passe pas en float ! La virgule n'est pas le bon caractère, python attend un '.'\n",
    " faites une petite conversion avec la méthode [_replace_](https://www.tutorialspoint.com/python/string_replace.htm)  change ',' en '.' dans les entrées avant de convertir en float, et le tour est joué. Attention, il ne faut pas oublier d'affecter le résultat de la modification dans la donnée ! (pour changer la valeur en mémoire)\n",
    " \n",
    " donnée = donnée.replace(';','.')\n",
    " "
   ]
  },
  {
   "cell_type": "markdown",
   "metadata": {},
   "source": [
    "# Exploitation des données\n",
    "\n",
    "## interrogation\n",
    "\n",
    "On peut traduire en python une question simple. Par exemple, quels sont les films Français? \n",
    "\n",
    "Cette question se traduit par une recherche dans chaque ligne de la liste de film avec comme critère de selection la nationalité qui doit être égale à 'FRANCE' (en majuscule dans notre cas). Le résultat attendu est le film donc son titre. Il est également possible d'isoler le résultat dans une liste qui recopie toutes les informations sur le film répondant au critère.\n",
    "\n",
    "Proposer le programme python qui traduit cette recherche.\n",
    "Les données sont dans films[] suite à votre premier travail sur le fichier CSV."
   ]
  },
  {
   "cell_type": "code",
   "execution_count": null,
   "metadata": {},
   "outputs": [],
   "source": []
  },
  {
   "cell_type": "markdown",
   "metadata": {},
   "source": [
    "A vous de construire les programmes pour répondre aux questions suivantes:\n",
    "\n",
    " 1. Combien y a t-il de films dans la base de donnée?\n",
    " 2. Combien de films sont français?\n",
    " 3. Dans les films français, combien sont des collaborations internationales?\n",
    " 4. Quel est le pourcentage de films Français (avec les films internationaux où la france à participée) dans la liste des films?\n",
    " 5. Quel film dans la liste a fait le plus grand nombre d'entrées?\n",
    " 6. Quelle année a le plus grand nombre de films ?\n",
    " 7. Les données suivent l'évolution du box-office depuis combien d'années? (rechercher le début et la fin)\n",
    " 8. Les films de quel pays ont fait le plus d'entrées, toutes années confondues?\n",
    " 9. Quelle est la répartition des films par pays?(exprimer cette répartition par pays en pourcentage de l'ensemble des films) Classer les pays du plus productif au moins productif. La réponse sera une liste des pays classée, vous utiliserez une structure de type tuple avec le couple ('pays',pourcentage).\n",
    " 10. Quel est le pays dont les films font le plus d'entrées?\n",
    "\n",
    " \n",
    " \n",
    "Pour chaque question, vous décrirez votre démarche dans un commentaire pour préciser votre stratégie.\n",
    " \n",
    " \n",
    " "
   ]
  },
  {
   "cell_type": "code",
   "execution_count": null,
   "metadata": {},
   "outputs": [],
   "source": [
    "# 1 ) \n",
    "\n",
    "\n",
    "\n",
    "\n",
    "\n",
    "\n",
    "# 2 )\n",
    "\n"
   ]
  }
 ],
 "metadata": {
  "kernelspec": {
   "display_name": "Python 3",
   "language": "python",
   "name": "python3"
  },
  "language_info": {
   "codemirror_mode": {
    "name": "ipython",
    "version": 3
   },
   "file_extension": ".py",
   "mimetype": "text/x-python",
   "name": "python",
   "nbconvert_exporter": "python",
   "pygments_lexer": "ipython3",
   "version": "3.6.8"
  }
 },
 "nbformat": 4,
 "nbformat_minor": 2
}
