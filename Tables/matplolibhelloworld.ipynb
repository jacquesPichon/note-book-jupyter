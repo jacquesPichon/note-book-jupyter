{
 "cells": [
  {
   "cell_type": "markdown",
   "metadata": {},
   "source": [
    "# Matplotlib\n",
    "## Tracer des graphes avec python\n",
    "Ce notebook vous présente les programmes en python pour utiliser la bibliothèque matplotlib. \n",
    "Cet outil est idéal pour afficher des graphiques. \n",
    "\n",
    "Les différents exemples vous donnent les méthodes associées aux objets graphes.\n",
    "\n",
    "Pour utiliser matplotlib, il est nécessaire que la bibliothèque soit installée sur votre pc dans les bibliothèques de python. (gestion des pakages)."
   ]
  },
  {
   "cell_type": "code",
   "execution_count": null,
   "metadata": {},
   "outputs": [],
   "source": [
    "import matplotlib.pyplot as plt\n",
    "plt.plot([1 ,2,3],[10,20,30])\n"
   ]
  },
  {
   "cell_type": "code",
   "execution_count": null,
   "metadata": {},
   "outputs": [],
   "source": [
    "# personalisation du titre et des axes\n",
    "plt.plot([1 ,2,3],[10,20,30])\n",
    "plt.xlabel('axe des x')\n",
    "plt.ylabel('axe des y')\n",
    "plt.title('Premier graphe')\n",
    "plt.show()"
   ]
  },
  {
   "cell_type": "code",
   "execution_count": null,
   "metadata": {},
   "outputs": [],
   "source": [
    "# afficher plusieurs graphes\n",
    "# valeurs du premier graphe\n",
    "x= [1,2,3,4,5]\n",
    "y=[ 10,20,15,25,30]\n",
    "\n",
    "# valeurs du second graphe\n",
    "x2= [2,5,7,8,9]\n",
    "y2= [5,2,12,25,3]\n",
    "\n",
    "plt.plot(x,y , label = 'valeurs 1')  #label donne la légende \n",
    "plt.plot(x2,y2, label = 'valeurs 2 ')# quand la méthode légende est appellée.\n",
    "\n",
    "plt.legend()\n",
    "plt.show()\n",
    "\n"
   ]
  },
  {
   "cell_type": "code",
   "execution_count": null,
   "metadata": {},
   "outputs": [],
   "source": [
    "# bargraph\n",
    "\n",
    "plt.bar(x,y, color = 'green')\n",
    "plt.bar(x2,y2, color = 'pink')\n",
    "plt.title('ceci est un \"bargraph\"')\n",
    "plt.show()"
   ]
  },
  {
   "cell_type": "code",
   "execution_count": null,
   "metadata": {},
   "outputs": [],
   "source": [
    "#camembert\n",
    "\n",
    "valeurs = [ 10,15,25,35,15]\n",
    "etiquettes = [ 'tomates','pommes', 'bananes', 'poires', 'autres']\n",
    "\n",
    "plt.pie(valeurs, labels = etiquettes, shadow=True, explode=(0,0.1,0,0,0))\n",
    "\n",
    "plt.show()"
   ]
  },
  {
   "cell_type": "code",
   "execution_count": null,
   "metadata": {},
   "outputs": [],
   "source": [
    "#Exporter un graphe\n",
    "# sauvegarder dans un des formats proposés\n",
    "plt.savefig('graphique.svg') # au format svg\n",
    "plt.savefig('graphique.pdf') # en  pdf\n",
    "plt.savefig('graphique.png') # image png."
   ]
  }
 ],
 "metadata": {
  "kernelspec": {
   "display_name": "Python 3",
   "language": "python",
   "name": "python3"
  },
  "language_info": {
   "codemirror_mode": {
    "name": "ipython",
    "version": 3
   },
   "file_extension": ".py",
   "mimetype": "text/x-python",
   "name": "python",
   "nbconvert_exporter": "python",
   "pygments_lexer": "ipython3",
   "version": "3.6.8"
  }
 },
 "nbformat": 4,
 "nbformat_minor": 2
}
