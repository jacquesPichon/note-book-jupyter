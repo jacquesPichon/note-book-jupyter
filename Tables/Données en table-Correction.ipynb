{
 "cells": [
  {
   "cell_type": "markdown",
   "metadata": {},
   "source": [
    "# Introduction\n",
    "Une  des  utilisations  principales  de  l’informatique  de  nos  jours  est  le  traitement  de  quantités importantes  de  données  dans  des domaines très variés : un site de commerce en ligne peut avoir à gérer des bases données pour des dizaines de milliers (voire plus)d’articles en vente, de clients, de commandes, un hopital doit pouvoir accéder efficacement à tous les détails de traitements de ses patients, etc.\n",
    "\n",
    "Mais si les logiciels de traitement de base de données sont des programmes hautement spécialisés pour effectuer ce genre de tâches le plus efficacement possible, il est facile de mettre en œuvre les opérations de base dans un langage de programmation comme Python.\n",
    "\n",
    "Nous allons en illustrer quelque unes.\n",
    "\n"
   ]
  },
  {
   "cell_type": "markdown",
   "metadata": {},
   "source": [
    "# Fichier csv\n",
    "\n",
    "Parmis les fichiers d'échange de données en table, le format csv set très utilisé. Comma-Separated Values ! \n",
    "C'est un format texte ouvert représentant des données tabulaires sous forme de valeurs séparées par des virgules.\n",
    "\n",
    "Ce type de fichiers permet d'exporter des données dans les tableurs en bureautique. \n",
    "\n",
    "Avec python, il est simple d'extraire les données pour automatiser leurs traitements dans des programmes. \n",
    "Dans l'exemple suivant, nous allons récupérer le contenu du fichier film.csv\n"
   ]
  },
  {
   "cell_type": "code",
   "execution_count": 3,
   "metadata": {},
   "outputs": [
    {
     "name": "stdout",
     "output_type": "stream",
     "text": [
      "[['ID', 'titre', 'nationalité', 'entrées (millions)', 'année'], ['1', '007 SPECTRE', 'GRANDE BRETAGNE', '4,81', '2015'], ['2', '12 YEARS A SLAVE', 'ETATS-UNIS', '1,71', '2014'], ['3', \"20 ANS D'ECART\", 'FRANCE', '1,40', '2013'], ['4', \"300 : LA NAISSANCE D'UN EMPIRE\", 'ETATS-UNIS', '1,56', '2014'], ['5', '4 FANTASTIQUES (LES)', 'ETATS UNIS', '1,20', '2015'], ['6', '5EME VAGUE (LA)', 'ETATS UNIS', '1,00', '2016'], ['7', '8 SALOPARDS (LES)', 'ETATS UNIS', '1,78', '2016'], ['8', '9 MOIS FERME', 'FRANCE', '1,99', '2013'], ['9', 'A BRAS OUVERTS', 'FR / BE', '1,03', '2017'], ['10', 'A STAR IS BORN', 'US', '1,88', '2018'], ['11', 'ADOPTE UN VEUF', 'FRANCE', '1,09', '2016'], ['12', 'AFTER EARTH', 'ETATS UNIS', '1,28', '2013'], ['13', \"AGE DE GLACE : LES LOIS DE L'UNIVERS (L')\", 'ETATS UNIS', '3,50', '2016'], ['14', 'AGE DE GLACE 4 : LA DERIVE DES CONTINENTS (LA)', 'ETATS UNIS', '6,64', '2012'], ['15', \"AGENCE TOUS RISQUES (L')\", 'ETATS UNIS', '1,19', '2010'], ['16', 'ALAD 2', 'FR', '2,35', '2018'], ['17', 'ALCESTE A BICYCLETTE', 'FRANCE', '1,17', '2013'], ['18', 'ALIBI.COM', 'FR', '3,60', '2017'], ['19', 'ALICE AU PAYS DES MERVEILLES', 'ETATS UNIS', '4,43', '2010'], ['20', \"ALICE DE L'AUTRE COTE DU MIROIR\", 'ETATS UNIS', '1,35', '2016'], ['21', 'ALIEN COVENANT', 'US', '1,27', '2017'], ['22', 'ALVIN ET LES CHIPMUNKS : A FOND LA CAISSE', 'ETATS UNIS', '1,80', '2016'], ['23', 'ALVIN ET LES CHIPMUNKS 3', 'ETATS UNIS', '1,07', '2012'], ['24', 'ALVIN ET LES CHIPMUNKS 3', 'ETATS UNIS', '1,37', '2011'], ['25', 'AMERICAN NIGHTMARE 4 LES ORIGINES', 'US', '1,03', '2018'], ['26', 'AMERICAN PIE 4', 'ETATS UNIS', '1,52', '2012'], ['27', 'AMERICAN SNIPER', 'ETATS UNIS', '3,13', '2015'], ['28', \"AMOUR C'EST MIEUX A DEUX (L') (EX L'HOMME QUI MURMURAIT A L'OREILLE DES FEMMES)\", 'FRANCE', '1,12', '2010'], ['29', 'ANIMAUX & CIE', 'Allemagne', '1,03', '2011'], ['30', 'ANIMAUX FANTASTIQUES (LES)', 'GRANDE BRETAGNE', '3,81', '2016'], ['31', 'ANIMAUX FANTASTIQUES (LES) : LES CRIMES DE GRINDELWALD', 'GB', '3,86', '2018'], ['32', 'ANNABELLE', 'ETATS-UNIS', '1,54', '2014'], ['33', 'ANNABELLE 2 LA CREATION DU MAL', 'US', '1,25', '2017'], ['34', 'ANT-MAN', 'ETATS UNIS', '1,72', '2015'], ['35', 'ANT-MAN ET LA GUEPE', 'US', '1,80', '2018'], ['36', \"APPRENTI SORCIER (L')\", 'ETATS UNIS', '1,66', '2010'], ['37', 'AQUAMAN', 'US', '1,90', '2018'], ['38', 'ARGO', 'ETATS UNIS', '1,15', '2012'], ['39', \"ARNACOEUR (L')\", 'FRANCE', '3,78', '2010'], ['40', 'ARTHUR 3 ET LA GUERRE DES DEUX MONDES', 'FRANCE', '3,10', '2010'], ['41', \"ASSASSIN'S CREED\", 'ETATS UNIS', '1,25', '2016'], ['42', 'ASTÉRIX ET LE DOMAINE DES DIEUX', 'FRANCE', '2,68', '2014'], ['43', 'ASTERIX ET LE SECRET DE LA POTION MAGIQUE', 'FR', '2,89', '2018'], ['44', 'ASTÉRIX ET OBÉLIX : AU SERVICE DE SA MAJESTE', 'FRANCE  / HONGRIE / ESPAGNE / ITALIE', '3,79', '2012'], ['45', 'AU REVOIR LA HAUT', 'FR', '1,99', '2017'], ['46', 'AU-DELA', 'ETATS UNIS', '1,93', '2011'], ['47', 'AVATAR', 'ETATS UNIS', '8,47', '2010'], ['48', 'AVENGERS', 'ETATS UNIS', '4,41', '2012'], ['49', 'AVENGERS : INFINITY WAR', 'US', '5,04', '2018'], ['50', \"AVENGERS : L'ERE D'ULTRON\", 'ETATS UNIS', '4,24', '2015'], ['51', 'AVENTURES DE TINTIN : LE SECRET DE LA LICORNE (LES)', 'ETATS UNIS', '5,37', '2011'], ['52', \"AVENTURES EXTRAORDINAIRES D'ADELE BLANC-SEC (LES)\", 'FRANCE', '1,63', '2010'], ['53', 'BABY BOSS', 'US', '3,87', '2017'], ['54', 'BABYSITTING', 'FRANCE', '2,36', '2014'], ['55', 'BABYSITTING 2', 'FRANCE', '2,53', '2015'], ['56', 'BALLERINA', 'CANADA / FRANCE', '1,34', '2016'], ['57', 'BARBECUE', 'FRANCE', '1,61', '2014'], ['58', \"BATMAN V SUPERMAN : L'AUBE DE LA JUSTICE\", 'ETATS UNIS', '2,49', '2016'], ['59', 'BATTLESHIP', 'ETATS UNIS', '1,06', '2012'], ['60', 'BAYWATCH ALERTE A MALIBU', 'US', '1,59', '2017'], ['61', 'BELLE ET SEBASTIEN', 'FRANCE', '1,68', '2013'], ['62', 'BELLE ET SÉBASTIEN', 'FRANCE', '1,34', '2014'], ['63', \"BELLE ET SEBASTIEN : L'AVENTURE CONTINUE\", 'FRANCE', '1,37', '2015'], ['64', 'BELLE ET SEBASTIEN 3, LE DERNIER CHAPITRE', 'FR', '1,68', '2018'], ['65', 'BIENVENUE A BORD', 'FRANCE', '1,43', '2011'], ['66', 'BIS', 'FRANCE', '1,51', '2015'], ['67', 'BLACK PANTHER', 'US', '3,62', '2018'], ['68', 'BLACK SWAN', 'ETATS UNIS', '2,65', '2011'], ['69', 'BLACKKKLANSMAN', 'US', '1,31', '2018'], ['70', 'BLADE RUNNER 2049', 'US', '1,26', '2017'], ['71', 'BLANCHE-NEIGE ET LE CHASSEUR', 'ETATS UNIS', '1,98', '2012'], ['72', 'BLUE JASMINE', 'ETATS UNIS', '1,43', '2013'], ['73', \"BOB L'EPONGE, LE FILM - UN HEROS SORT DE L'EAU\", 'ETATS UNIS', '1,30', '2015'], ['74', 'BOHEMIAN RHAPSODY', 'GB', '3,72', '2018'], ['75', 'BOULE ET BILL', 'FRANCE / BELGIQUE / LUXEMBOURG', '2,01', '2013'], ['76', 'BRICE 3', 'FRANCE', '1,95', '2016'], ['77', 'BRIDGET JONES BABY', 'GRANDE BRETAGNE', '1,97', '2016'], ['78', 'CA', 'US', '2,23', '2017'], ['79', 'CAGE DOREE (LA)', 'FRANCE', '1,23', '2013'], ['80', 'CAMPING 2', 'FRANCE', '3,98', '2010'], ['81', 'CAMPING 3', 'FRANCE', '3,22', '2016'], ['82', 'CAPTAIN AMERICA - FIRST AVENGER', 'ETATS UNIS', '1,07', '2011'], ['83', 'CAPTAIN AMERICA : CIVIL WAR', 'ETATS UNIS', '2,92', '2016'], ['84', \"CAPTAIN AMERICA : LE SOLDAT DE L'HIVER\", 'ETATS-UNIS', '1,88', '2014'], ['85', 'CARS 2', 'ETATS UNIS', '2,91', '2011'], ['86', 'CARS 3', 'US', '2,72', '2017'], ['87', 'CASE DEPART', 'FRANCE', '1,77', '2011'], ['88', 'CASSE-TETE CHINOIS ', 'FRANCE / BELGIQUE', '1,27', '2013'], ['89', 'CENDRILLON', 'GRANDE BRETAGNE', '1,67', '2015'], ['90', 'CHANCE DE MA VIE (LA)', 'FRANCE / BELGIQUE', '1,04', '2011'], ['91', 'CHAT POTTE (LE)', 'ETATS UNIS', '3,43', '2011'], ['92', 'CHOC DES TITANS (LE)', 'GRANDE BRETAGNE', '1,87', '2010'], ['93', 'CHOCOLAT', 'FRANCE', '1,93', '2016'], ['94', 'CHRONICLE', 'ETATS UNIS', '1,02', '2012'], ['95', 'CHTITE FAMILLE (LA)', 'FR', '5,62', '2018'], ['96', 'CIGOGNES ET COMPAGNIE', 'ETATS UNIS', '1,02', '2016'], ['97', 'CINQ LEGENDES (LES)', 'ETATS UNIS', '2,28', '2012'], ['98', 'CINQUANTE NUANCES DE GREY', 'ETATS UNIS', '4,07', '2015'], ['99', 'CINQUANTE NUANCES PLUS CLAIRES', 'US', '2,76', '2018'], ['100', 'CINQUANTE NUANCES PLUS SOMBRES', 'US', '3,14', '2017'], ['101', 'CLOCHETTE ET LA FÉE PIRATE', 'ETATS-UNIS', '1,03', '2014'], ['102', 'CLOCHETTE ET LE SECRET DES FEES', 'ETATS UNIS', '1,44', '2012'], ['103', 'CLOCLO', 'FRANCE  / BELGIQUE', '1,76', '2012'], ['104', 'COCO', 'US', '1,35', '2018'], ['105', 'COCO', 'US', '3,26', '2017'], ['106', 'COMME DES BETES', 'ETATS UNIS', '3,76', '2016'], ['107', 'CONJURING 2 : LE CAS ENFIELD', 'ETATS UNIS', '1,47', '2016'], ['108', 'CONJURING, LES DOSSIERS WARREN', 'ETATS UNIS', '1,16', '2013'], ['109', 'CONNASSE, PRINCESSE DES CŒURS', 'FRANCE', '1,20', '2015'], ['110', \"CREED, L'HERITAGE DE ROCKY BALBOA\", 'ETATS UNIS', '1,64', '2016'], ['111', 'CROODS (LES)', 'ETATS UNIS', '2,38', '2013'], ['112', 'DANS LA MAISON', 'FRANCE', '1,18', '2012'], ['113', 'DARK SHADOWS', 'GRANDE BRETAGNE', '1,95', '2012'], ['114', \"DE L'AUTRE COTE DU PERIPH\", 'FRANCE', '1,08', '2013'], ['115', \"DE L'AUTRE COTE DU PERIPH\", 'FRANCE', '1,18', '2012'], ['116', \"DE ROUILLE ET D'OS\", 'FRANCE  / BELGIQUE', '1,91', '2012'], ['117', 'DEADPOOL', 'ETATS UNIS', '3,76', '2016'], ['118', 'DEADPOOL 2', 'US', '2,60', '2018'], ['119', 'DEMAIN TOUT COMMENCE', 'FR / GB', '1,13', '2017'], ['120', 'DEMAIN TOUT COMMENCE', 'FRANCE / GRANDE BRETAGNE', '2,07', '2016'], ['121', 'DERNIER DES TEMPLIERS (LE)', 'ETATS UNIS', '1,00', '2011'], ['122', 'DERNIER LOUP (LE)', 'CHINE / FRANCE', '1,33', '2015'], ['123', \"DERNIER MAITRE DE L'AIR (LE)\", 'ETATS UNIS', '1,18', '2010'], ['124', 'DES HOMMES ET DES DIEUX', 'FRANCE', '3,14', '2010'], ['125', 'DIE HARD : BELLE JOURNEE POUR MOURIR', 'ETATS UNIS', '1,83', '2013'], ['126', \"DISCOURS D'UN ROI (LE)\", 'GRANDE BRETAGNE', '3,03', '2011'], ['127', 'DIVERGENTE', 'ETATS-UNIS', '1,50', '2014'], ['128', \"DIVERGENTE 2 : L'INSURRECTION\", 'ETATS UNIS', '2,42', '2015'], ['129', 'DIVERGENTE 3 : AU-DELA DU MUR', 'ETATS UNIS', '2,11', '2016'], ['130', 'DJANGO UNCHAINED', 'ETATS UNIS', '4,31', '2013'], ['131', 'DOCTOR STRANGE', 'ETATS UNIS', '1,92', '2016'], ['132', 'DRAGONS', 'ETATS UNIS', '2,32', '2010'], ['133', 'DRAGONS 2', 'ETATS-UNIS', '3,38', '2014'], ['134', 'DRIVE', 'ETATS UNIS', '1,54', '2011'], ['135', 'DUNKERQUE', 'GB', '2,55', '2017'], ['136', \"ECOLE BUISSONNIERE (L')\", '#NOM ?', '1,90', '2017'], ['137', 'EDGE OF TOMORROW', 'ETATS-UNIS', '1,22', '2014'], ['138', \"ELEVE DUCOBU (L')\", 'FRANCE', '1,49', '2011'], ['139', 'ELYSIUM', 'ETATS UNIS', '1,52', '2013'], ['140', 'EN EAUX TROUBLES', 'US', '1,62', '2018'], ['141', 'EN ROUTE !', 'ETATS UNIS', '1,22', '2015'], ['142', 'EPIC : LA BATAILLE DU ROYAUME SECRET', 'ETATS UNIS', '1,21', '2013'], ['143', 'EPOUSE MOI MON POTE', 'FR', '2,47', '2017'], ['144', 'EXPENDABLES : UNITE SPECIALE', 'ETATS UNIS', '1,65', '2010'], ['145', 'EXPENDABLES 2 : UNITE SPECIALE', 'ETATS UNIS', '1,96', '2012'], ['146', 'EXPENDABLES 3', 'ETATS-UNIS', '1,06', '2014'], ['147', 'EYJAFJALLOJOKULL', 'FRANCE', '1,77', '2013'], ['148', 'FAMILLE BELIER (LA)', 'FRANCE / BELGIQUE', '5,35', '2015'], ['149', 'FAST & FURIOUS 5', 'ETATS UNIS', '2,52', '2011'], ['150', 'FAST & FURIOUS 6', 'ETATS UNIS', '2,99', '2013'], ['151', 'FAST & FURIOUS 7', 'ETATS UNIS', '4,63', '2015'], ['152', 'FAST AND FURIOUS 8', 'US', '3,87', '2017'], ['153', 'FATAL', 'CANADA  / FRANCE', '1,21', '2010'], ['154', 'FEMMES DU 6EME ETAGE (LES)', 'FRANCE', '2,28', '2011'], ['155', 'FERDINAND', 'US', '1,42', '2018'], ['156', 'FERDINAND', 'US', '1,06', '2017'], ['157', 'FILLE DU PUISATIER (LA)', 'FRANCE', '1,40', '2011'], ['158', 'FILS A JO (LE)', 'FRANCE', '1,20', '2011'], ['159', 'FISTON', 'FRANCE', '1,93', '2014'], ['160', 'FOLLE HISTOIRE DE MAX ET LEON (LA)', 'FRANCE / BELGIQUE', '1,22', '2016'], ['161', 'GAINSBOURG (VIE HEROÏQUE)', 'FRANCE', '1,20', '2010'], ['162', 'GAMINS (LES)', 'FRANCE', '1,65', '2013'], ['163', 'GARÇONS ET GUILLAUME, A TABLE ! (LES)', 'FRANCE', '2,20', '2013'], ['164', 'GATSBY LE MAGNIFIQUE', 'AUSTRALIE', '1,58', '2013'], ['165', 'GET OUT', 'US', '1,15', '2017'], ['166', 'GHOST IN THE SHELL', 'US', '1,02', '2017'], ['167', 'GODZILLA', 'ETATS-UNIS', '1,37', '2014'], ['168', 'GONE GIRL', 'ETATS-UNIS', '1,91', '2014'], ['169', 'GRAND BAIN (LE)', 'FR', '4,21', '2018'], ['170', 'GRAVITY', 'GRANDE BRETAGNE', '4,08', '2013'], ['171', 'GUERRE DES BOUTONS (LA)', 'FRANCE', '1,48', '2011'], ['172', 'HAPPINESS THERAPY', 'ETATS UNIS', '1,07', '2013'], ['173', 'HARRY POTTER ET LES RELIQUES DE LA MORT (1ÈRE PARTIE)', 'GRANDE BRETAGNE', '5,51', '2010'], ['174', 'HARRY POTTER ET LES RELIQUES DE LA MORT (2E PARTIE)', 'GRANDE BRETAGNE', '6,52', '2011'], ['175', 'HOBBIT : LA DESOLATION DE SMAUG (LE)', 'ETATS UNIS', '3,80', '2013'], ['176', 'HOBBIT : UN VOYAGE INATTENDU (LE)', 'NOUVELLE ZELANDE', '1,18', '2013'], ['177', 'HOBBIT : UN VOYAGE INATTENDU (LE)', 'NOUVELLE ZELANDE', '3,35', '2012'], ['178', 'HOLLYWOO', 'FRANCE', '1,88', '2011'], ['179', \"HOMME QUI VOULAIT VIVRE SA VIE (L')\", 'FRANCE', '1,18', '2010'], ['180', 'HOTEL TRANSYLVANIE', 'ETATS UNIS', '1,70', '2013'], ['181', 'HOTEL TRANSYLVANIE 2', 'ETATS UNIS', '2,30', '2015'], ['182', 'HOTEL TRANSYLVANIE 3 : DES VACANCES MONSTRUEUSES', 'US', '3,07', '2018'], ['183', 'HUNGER GAMES', 'ETATS UNIS', '1,73', '2012'], ['184', 'HUNGER GAMES - LA RÉVOLTE PARTIE 1', 'ETATS-UNIS', '3,12', '2014'], ['185', \"HUNGER GAMES : L'EMBRASEMENT\", 'ETATS UNIS', '2,92', '2013'], ['186', 'HUNGER GAMES : LA REVOLTE, 2e PARTIE', 'ETATS UNIS', '2,77', '2015'], ['187', 'IL A DEJA TES YEUX', 'FR', '1,39', '2017'], ['188', 'IMITATION GAME', 'GRANDE BRETAGNE / ETATS UNIS', '1,09', '2015'], ['189', \"IMMORTEL (L')\", 'FRANCE', '1,13', '2010'], ['190', 'INCEPTION', 'GRANDE BRETAGNE', '4,94', '2010'], ['191', 'INDEPENDENCE DAY  : RESURGENCE', 'ETATS UNIS', '1,29', '2016'], ['192', 'INFIDÈLES (LES)', 'FRANCE', '2,26', '2012'], ['193', 'INSAISISSABLES', 'ETATS UNIS', '3,01', '2013'], ['194', 'INSAISISSABLES 2', 'ETATS UNIS', '2,10', '2016'], ['195', 'INTERSTELLAR', 'ETATS-UNIS', '2,58', '2014'], ['196', 'INTOUCHABLES', 'FRANCE', '2,83', '2012'], ['197', 'INTOUCHABLES', 'FRANCE', '16,67', '2011'], ['198', 'INVICTUS', 'ETATS UNIS', '3,17', '2010'], ['199', 'IRON MAN 2', 'ETATS UNIS', '2,58', '2010'], ['200', 'IRON MAN 3', 'ETATS UNIS', '4,31', '2013'], ['201', \"ITALIEN (L')\", 'FRANCE', '1,11', '2010'], ['202', 'J. EDGAR', 'ETATS UNIS', '1,45', '2012'], ['203', 'JAPPELOUP', 'FRANCE  / CANADA', '1,82', '2013'], ['204', 'JASON BOURNE', 'ETATS UNIS', '1,49', '2016'], ['205', 'JEU (LE)', 'FR', '1,59', '2018'], ['206', 'JUMANJI BIENVENUE DANS LA JUNGLE', 'US', '2,00', '2018'], ['207', 'JUMANJI BIENVENUE DANS LA JUNGLE', 'US', '1,39', '2017'], ['208', 'JURASSIC WORLD', 'ETATS UNIS', '5,21', '2015'], ['209', 'JURASSIC WORLD FALLEN KINGDOM', 'US', '3,63', '2018'], ['210', 'JUSTE LA FIN DU MONDE', 'CANADA / FRANCE', '1,03', '2016'], ['211', 'JUSTICE LEAGUE', 'GB', '1,71', '2017'], ['212', 'KAIRA (LES)', 'FRANCE', '1,02', '2012'], ['213', 'KINGSMAN : SERVICES SECRETS', 'GRANDE BRETAGNE / ETATS UNIS', '1,67', '2015'], ['214', \"KINGSMAN LE CERCLE D'OR\", 'GB', '1,74', '2017'], ['215', 'KONG SKULL ISLAND', 'US', '1,62', '2017'], ['216', 'KUNG FU PANDA 2', 'ETATS UNIS', '2,70', '2011'], ['217', 'KUNG FU PANDA 3', 'ETATS UNIS', '2,58', '2016'], ['218', 'L ASCENSION', 'FR', '1,12', '2017'], ['219', 'LA BELLE ET LA BETE', 'GB / US', '3,49', '2017'], ['220', 'LA BELLE ET LA BÊTE ', 'FRANCE', '1,83', '2014'], ['221', 'LA FAMILLE BÉLIER ', 'FRANCE', '2,35', '2014'], ['222', \"LA FORME DE L'EAU\", 'US', '1,38', '2018'], ['223', 'LA FRENCH ', 'FRANCE', '1,33', '2014'], ['224', 'LA GRANDE AVENTURE LEGO ', 'ETATS-UNIS', '1,54', '2014'], ['225', 'LA LA LAND', 'US', '2,75', '2017'], ['226', 'LA MOMIE', 'US', '1,38', '2017'], ['227', 'LA NONNE', 'US', '1,39', '2018'], ['228', \"LA PLANETE DES SINGES : L'AFFRONTEMENT \", 'ETATS-UNIS', '3,78', '2014'], ['229', 'LA PLANETE DES SINGES SUPREMATIE', 'US', '2,81', '2017'], ['230', 'LA REINE DES NEIGES ', 'ETATS-UNIS', '1,26', '2014'], ['231', 'LABYRINTHE : LA TERRE BRULEE (LE)', 'ETATS UNIS', '3,12', '2015'], ['232', 'LARGO WINCH 2', 'FRANCE / BELGIQUE / ALLEMAGNE', '1,34', '2011'], ['233', 'LE BRIO', 'FR', '1,05', '2017'], ['234', 'LE CROCODILE DU BOTSWANGA ', 'FRANCE', '1,19', '2014'], ['235', 'LE GRINCH', 'US', '2,05', '2018'], ['236', 'LE HOBBIT : LA BATAILLE DES CINQ ARMÉES ', 'NOUVELLE ZELANDE', '4,07', '2014'], ['237', 'LE LABYRINTHE ', 'ETATS-UNIS', '3,13', '2014'], ['238', 'LE LABYRINTHE: LE REMEDE MORTEL', 'US', '2,85', '2018'], ['239', 'LE LOUP DE WALL STREET ', 'ETATS-UNIS', '2,00', '2014'], ['240', 'LES GARDIENS DE LA GALAXIE ', 'ETATS-UNIS', '2,34', '2014'], ['241', 'LES GARDIENS DE LA GALAXIE VOL 2', 'US', '3,14', '2017'], ['242', 'LES INDESTRUCTIBLES 2', 'US', '5,74', '2018'], ['243', 'LES PINGOUINS DE MADAGASCAR ', 'ETATS-UNIS', '1,59', '2014'], ['244', 'LES SCHTROUMPFS ET LE VILLAGE PERDU', 'US', '1,84', '2017'], ['245', 'LES TROIS FRÈRES, LE RETOUR ', 'FRANCE', '2,24', '2014'], ['246', 'LES TUCHE 3', 'FR', '5,69', '2018'], ['247', 'LES VACANCES DU PETIT NICOLAS ', 'FRANCE', '2,41', '2014'], ['248', 'LINCOLN', 'ETATS UNIS', '1,36', '2013'], ['249', 'LION', 'AUS', '1,79', '2017'], ['250', 'LIVRE DE LA JUNGLE (LE)', 'ETATS UNIS', '3,65', '2016'], ['251', 'LOGAN', 'US', '2,27', '2017'], ['252', \"LONE RANGER, NAISSANCE D'UN HEROS\", 'ETATS UNIS', '1,15', '2013'], ['253', 'LOUP DE WALL STREET (LE)', 'ETATS UNIS', '1,02', '2013'], ['254', 'LUCY', 'FRANCE', '5,20', '2014'], ['255', 'LYONNAIS (LES)', 'FRANCE', '1,09', '2011'], ['256', 'M. PEABODY ET SHERMAN : LES VOYAGES DANS LE TEMPS', 'ETATS-UNIS', '1,42', '2014'], ['257', 'MA PART DU GATEAU', 'FRANCE', '1,03', '2011'], ['258', 'MAC (LE)', 'FRANCE', '1,46', '2010'], ['259', 'MAD MAX : FURY ROAD', 'AUSTRALIE', '2,36', '2015'], ['260', \"MADAGASCAR 3 : BONS BAISERS D'EUROPE\", 'ETATS UNIS', '3,41', '2012'], ['261', 'MAGIC IN THE MOONLIGHT', 'GB', '1,04', '2014'], ['262', 'MAJORDOME (LE)', 'ETATS UNIS', '1,95', '2013'], ['263', 'MALÉFIQUE', 'ETATS-UNIS', '2,00', '2014'], ['264', 'MAN OF STEEL', 'CANADA', '2,32', '2013'], ['265', 'MARGUERITE', 'FRANCE / REPUBLIQUE TCHEQUE/ BELGIQUE', '1,01', '2015'], ['266', 'MEDECIN DE CAMPAGNE', 'FRANCE', '1,51', '2016'], ['267', 'MEN IN BLACK 3', 'ETATS UNIS', '2,12', '2012'], ['268', \"MILLENIUM : LES HOMMES QUI N'AIMAIENT PAS LES FEMMES\", 'ETATS UNIS', '1,08', '2012'], ['269', 'MINCE ALORS !', 'FRANCE', '1,45', '2012'], ['270', 'MINIONS (LES)', 'ETATS UNIS', '6,66', '2015'], ['271', 'MINUIT A PARIS', 'ESPAGNE', '1,73', '2011'], ['272', 'MINUSCULE, LA VALLÉE DES FOURMIS PERDUES', 'FRANCE', '1,50', '2014'], ['273', 'MISS PEREGRINE ET LES ENFANTS PARTICULIERS', 'GRANDE BRETAGNE', '2,71', '2016'], ['274', 'MISSION : IMPOSSIBLE PROTOCOLE FANTOME', 'ETATS UNIS', '1,75', '2011'], ['275', 'MISSION : IMPOSSIBLE, ROGUE NATION', 'ETATS UNIS', '2,80', '2015'], ['276', 'MISSION IMPOSSIBLE FALL OUT', 'US', '3,02', '2018'], ['277', 'MOBIUS', 'FRANCE / LUXEMBOURG / BELGIQUE', '1,10', '2013'], ['278', 'MOI MOCHE ET MECHANT 3', 'US', '5,74', '2017'], ['279', 'MOI, MOCHE ET MECHANT', 'ETATS UNIS', '3,01', '2010'], ['280', 'MOI, MOCHE ET MECHANT 2', 'ETATS UNIS', '4,65', '2013'], ['281', 'MOMMY', 'CA', '1,13', '2014'], ['282', 'MONDE DE DORY (LE)', 'ETATS UNIS', '3,37', '2016'], ['283', \"MONDE DE NARNIA - CHAPITRE 3 - L'ODYSSEE DU PASSEUR D'AURORE (LE)\", 'ETATS UNIS', '2,33', '2010'], ['284', \"MONDE FANTASTIQUE D'OZ (LE)\", 'ETATS UNIS', '1,56', '2013'], ['285', 'MONDES DE RALPH (LES)', 'ETATS UNIS', '1,20', '2012'], ['286', 'MONSTRES ACADEMY', 'ETATS UNIS', '2,08', '2013'], ['287', 'MONUMENTS MEN', 'ETATS-UNIS', '1,29', '2014'], ['288', 'NEUILLY SA MERE, SA MERE', 'FR', '1,15', '2018'], ['289', 'NIGHT AND DAY', 'ETATS UNIS', '1,76', '2010'], ['290', 'NINJA TURTLES', 'ETATS-UNIS', '1,79', '2014'], ['291', 'NOE', 'ETATS-UNIS', '1,32', '2014'], ['292', 'NON-STOP', 'GB', '1,22', '2014'], ['293', 'NOS ÉTOILES CONTRAIRES', 'ETATS-UNIS', '1,04', '2014'], ['294', 'NOUVEAUX HEROS (LES)', 'ETATS UNIS', '1,66', '2015'], ['295', 'NOUVELLE GUERRE DES BOUTONS (LA)', 'FRANCE', '1,54', '2011'], ['296', \"NOUVELLES AVENTURES D'ALADIN (LES)\", 'FRANCE', '4,43', '2015'], ['297', 'NUIT AU MUSEE : LE SECRET DES PHARAONS (LA)', 'ETATS UNIS', '1,59', '2015'], ['298', 'OBLIVION', 'ETATS UNIS', '1,33', '2013'], ['299', 'OCÉANS', 'FRANCE', '2,86', '2010'], ['300', \"ODYSSÉE (L')\", 'FRANCE', '1,22', '2016'], ['301', 'OPÉRATION CASSE-NOISETTE', 'ETATS-UNIS', '1,20', '2014'], ['302', 'PACIFIC RIM', 'ETATS UNIS', '1,02', '2013'], ['303', 'PADDINGTON', 'FRANCE', '2,20', '2014'], ['304', 'PADDINGTON 2', 'FR', '1,31', '2017'], ['305', 'PAPA OU MAMAN', 'FRANCE', '2,89', '2015'], ['306', 'PAPA OU MAMAN 2', 'FRANCE / BELGIQUE', '1,20', '2016'], ['307', 'PATIENTS', 'FR', '1,27', '2017'], ['308', 'PATTAYA', 'FRANCE', '1,95', '2016'], ['309', 'PAULETTE', 'FRANCE', '1,03', '2013'], ['310', 'PENTAGON PAPERS', 'US', '1,34', '2018'], ['311', 'PERCY JACKSON : LA MER DES MONSTRES', 'ETATS UNIS', '1,47', '2013'], ['312', 'PERCY JACKSON LE VOLEUR DE FOUDRE', 'ETATS UNIS', '1,23', '2010'], ['313', 'PETIT PRINCE (LE)', 'FRANCE / ITALIE', '1,93', '2015'], ['314', 'PETITS MOUCHOIRS (LES)', 'FRANCE', '5,33', '2010'], ['315', 'PIERRE LAPIN', 'US', '1,74', '2018'], ['316', 'PIRATES DES CARAIBES : LA FONTAINE DE JOUVENCE', 'ETATS UNIS / GRANDE BRETAGNE', '4,67', '2011'], ['317', 'PIRATES DES CARAIBES: LA VENGEANCE DE SALAZAR', 'US', '3,59', '2017'], ['318', 'PLANES', 'ETATS UNIS', '1,63', '2013'], ['319', 'PLANES 2', 'ETATS-UNIS', '1,02', '2014'], ['320', 'PLANETE DES SINGES : LES ORIGINES (LA)', 'ETATS UNIS', '3,26', '2011'], ['321', 'POLISSE', 'FRANCE', '2,32', '2011'], ['322', 'POPULAIRE', 'FRANCE  / BELGIQUE', '1,01', '2012'], ['323', 'POTICHE', 'FRANCE / BELGIQUE', '2,25', '2010'], ['324', \"POURQUOI J'AI (PAS) MANGE MON PERE\", 'FRANCE / ITALIE', '2,41', '2015'], ['325', 'PREMIERE ANNEE', 'FR', '1,01', '2018'], ['326', 'PRÉNOM (LE)', 'FRANCE', '3,34', '2012'], ['327', 'PRINCE OF PERSIA : LES SABLES DU TEMPS', 'ETATS UNIS', '2,11', '2010'], ['328', 'PRINCESSE ET LA GRENOUILLE (LA)', 'ETATS UNIS', '3,66', '2010'], ['329', 'PRISONERS', 'ETATS UNIS', '1,13', '2013'], ['330', 'PROFS (LES)', 'FRANCE', '3,95', '2013'], ['331', 'PROFS 2 (LES)', 'FRANCE / BELGIQUE', '3,49', '2015'], ['332', 'PROJET X', 'ETATS UNIS', '1,85', '2012'], ['333', 'PROMETHEUS', 'ETATS UNIS', '1,84', '2012'], ['334', \"QU'EST-CE QU'ON A FAIT AU BON DIEU ?\", 'FRANCE', '12,34', '2014'], ['335', 'RADIN !', 'FRANCE', '2,95', '2016'], ['336', 'RAFLE (LA)', 'FRANCE / ALLEMAGNE / HONGRIE', '2,88', '2010'], ['337', 'RAID DINGUE', 'FR', '4,56', '2017'], ['338', 'RAIPONCE', 'ETATS UNIS', '3,17', '2010'], ['339', 'RANGO', 'ETATS UNIS', '1,27', '2011'], ['340', 'READY PLAYER ONE', 'GB', '2,28', '2018'], ['341', 'REAL STEEL', 'ETATS UNIS', '1,08', '2011'], ['342', 'REBELLE', 'ETATS UNIS', '3,16', '2012'], ['343', 'REINE DES NEIGES (LA)', 'ETATS UNIS', '3,80', '2013'], ['344', 'RETOUR CHEZ MA MERE', 'FRANCE', '2,20', '2016'], ['345', 'RIEN A DECLARER', 'FRANCE / BELGIQUE', '8,10', '2011'], ['346', 'RIO', 'ETATS UNIS', '2,44', '2011'], ['347', 'RIO 2', 'ETATS-UNIS', '3,26', '2014'], ['348', 'ROBIN DES BOIS', 'GRANDE BRETAGNE', '2,39', '2010'], ['349', 'ROCK N ROLL', 'FR', '1,30', '2017'], ['350', 'ROGUE ONE A STAR WARS STORY', 'US', '1,06', '2017'], ['351', 'ROGUE ONE A STAR WARS STORY', 'ETATS UNIS', '3,92', '2016'], ['352', 'SAHARA', 'FR / CA', '1,13', '2017'], ['353', 'SAISONS (LES)', 'FRANCE', '1,02', '2016'], ['354', 'SALT', 'ETATS UNIS', '1,47', '2010'], ['355', 'SAMBA', 'FRANCE', '3,15', '2014'], ['356', 'SAN ANDREAS', 'ETATS UNIS', '1,15', '2015'], ['357', 'SANS IDENTITE', 'ALLEMAGNE / GRANDE BRETAGNE / FRANCE', '1,00', '2011'], ['358', 'SANTA ET CIE', 'FR / BE', '1,65', '2017'], ['359', 'SCHTROUMPFS (LES)', 'ETATS UNIS', '2,81', '2011'], ['360', 'SCHTROUMPFS 2 (LES)', 'ETATS UNIS', '2,25', '2013'], ['361', 'SCREAM 4', 'ETATS UNIS', '1,07', '2011'], ['362', 'SEIGNEURS (LES)', 'FRANCE', '2,73', '2012'], ['363', 'SENS DE LA FETE (LE)', '#NOM ?', '3,02', '2017'], ['364', 'SEUL SUR MARS', 'ETATS UNIS', '2,52', '2015'], ['365', 'SEVEN SISTERS', 'GB', '1,86', '2017'], ['366', 'SEX AND THE CITY 2', 'ETATS UNIS', '1,31', '2010'], ['367', 'SEXY DANCE 4 : MIAMI HEAT', 'ETATS UNIS', '1,13', '2012'], ['368', 'SHAUN LE MOUTON', 'GRANDE BRETAGNE', '1,06', '2015'], ['369', 'SHERLOCK HOLMES', 'GRANDE BRETAGNE', '2,15', '2010'], ['370', \"SHERLOCK HOLMES : JEU D'OMBRES\", 'GRANDE BRETAGNE', '2,39', '2012'], ['371', 'SHREK 4, IL ÉTAIT UNE FIN', 'ETATS UNIS', '4,63', '2010'], ['372', 'SHUTTER ISLAND', 'ETATS UNIS', '3,11', '2010'], ['373', 'SKYFALL', 'GRANDE BRETAGNE', '6,81', '2012'], ['374', 'SOLO : A STAR WARS STORY', 'US', '1,37', '2018'], ['375', 'SOUS LES JUPES DES FILLES', 'FRANCE', '1,36', '2014'], ['376', 'SOUVENIRS (LES)', 'FRANCE / BELGIQUE', '1,06', '2015'], ['377', 'SPIDER MAN HOMECOMING', 'US', '2,32', '2017'], ['378', 'SPLIT', 'US', '1,79', '2017'], ['379', 'STAR WARS : EPISODE 7, LE REVEIL DE LA FORCE', 'ETATS UNIS', '3,00', '2016'], ['380', 'STAR WARS : EPISODE 7, LE REVEIL DE LA FORCE', 'ETATS UNIS', '7,33', '2015'], ['381', 'STAR WARS LES DERNIERS JEDI', 'US', '1,73', '2018'], ['382', 'STAR WARS LES DERNIERS JEDI', 'US', '5,35', '2017'], ['383', 'STARS 80', 'FRANCE', '1,83', '2012'], ['384', 'SUICIDE SQUAD', 'ETATS UNIS', '2,28', '2016'], ['385', 'SULLY', 'ETATS UNIS', '1,11', '2016'], ['386', 'SUPER 8', 'ETATS UNIS', '1,53', '2011'], ['387', 'SUPERCONDRIAQUE', 'FRANCE', '5,27', '2014'], ['388', 'SUR LA PISTE DU MARSUPILAMI', 'FRANCE', '5,30', '2012'], ['389', \"SUR LE CHEMIN DE L'ECOLE\", 'FRANCE', '1,17', '2013'], ['390', 'TAKEN 2', 'FRANCE', '2,91', '2012'], ['391', 'TAKEN 3', 'FRANCE', '2,61', '2015'], ['392', 'TARZAN', 'GRANDE BRETAGNE', '1,38', '2016'], ['393', 'TAXI 5', 'FR', '3,65', '2018'], ['394', 'TED', 'ETATS UNIS', '1,38', '2012'], ['395', 'TED 2', 'ETATS UNIS', '1,14', '2015'], ['396', 'TERMINATOR : GENISYS', 'ETATS UNIS', '1,43', '2015'], ['397', 'TETE EN FRICHE (LA)', 'FRANCE', '1,27', '2010'], ['398', 'THE AMAZING SPIDER-MAN', 'ETATS UNIS', '2,54', '2012'], ['399', \"THE AMAZING SPIDER-MAN : LE DESTIN D'UN HÉROS\", 'ETATS-UNIS', '2,31', '2014'], ['400', 'THE ARTIST', 'FRANCE', '1,58', '2012'], ['401', 'THE ARTIST', 'FRANCE', '1,58', '2011'], ['402', 'THE DARK KNIGHT RISES', 'GRANDE BRETAGNE', '4,41', '2012'], ['403', 'THE GHOST WRITER', 'FRANCE / ALLEMAGNE / GRANDE BRETAGNE', '1,05', '2010'], ['404', 'THE GRAND BUDAPEST HOTEL', 'ETATS-UNIS', '1,47', '2014'], ['405', 'THE KARATE KID', 'ETATS UNIS', '1,28', '2010'], ['406', 'THE REVENANT', 'ETATS UNIS', '3,84', '2016'], ['407', 'THE SOCIAL NETWORK', 'ETATS UNIS', '1,44', '2010'], ['408', 'THE TOWN', 'ETATS UNIS', '1,08', '2010'], ['409', 'THOR', 'ETATS UNIS', '1,73', '2011'], ['410', 'THOR : LE MONDE DES TENEBRES', 'ETATS UNIS', '2,29', '2013'], ['411', 'THOR RAGNAROK', 'US', '2,46', '2017'], ['412', 'TIME OUT', 'ETATS UNIS', '1,05', '2011'], ['413', 'TITANIC', 'ETATS UNIS', '1,14', '2012'], ['414', 'TITEUF, LE FILM', 'FRANCE / SUISSE', '1,27', '2011'], ['415', 'TOMB RAIDER', 'GB', '1,26', '2018'], ['416', 'TOTAL RECALL : MEMOIRES PROGRAMMEES', 'ETATS UNIS', '1,28', '2012'], ['417', 'TOUS EN SCENE', 'US', '3,61', '2017'], ['418', 'TOUT CE QUI BRILLE', 'FRANCE', '1,42', '2010'], ['419', 'TOUT LE MONDE DEBOUT', 'FR', '2,42', '2018'], ['420', 'TOY STORY 3', 'ETATS UNIS', '4,26', '2010'], ['421', \"TRANSFORMERS : L'ÂGE DE L'EXTINCTION\", 'ETATS-UNIS', '2,34', '2014'], ['422', 'TRANSFORMERS 3 : LA FACE CACHEE DE LA LUNE', 'ETATS UNIS', '2,62', '2011'], ['423', 'TRANSFORMERS THE LAST KNIGHT', 'US', '1,42', '2017'], ['424', 'TROLLS (LES)', 'ETATS UNIS', '2,74', '2016'], ['425', \"TRON L'HERITAGE\", 'ETATS UNIS', '1,19', '2011'], ['426', 'TRUE GRIT', 'ETATS UNIS', '1,41', '2011'], ['427', 'TU VEUX OU TU VEUX PAS', 'FRANCE', '1,08', '2014'], ['428', 'TUCHE (LES)', 'FRANCE', '1,53', '2011'], ['429', 'TUCHE 2 : LE REVE AMERICAIN (LES)', 'FRANCE', '4,60', '2016'], ['430', 'TURBO', 'ETATS UNIS', '2,47', '2013'], ['431', 'TWILIGHT - CHAPITRE 3 : HESITATION', 'ETATS UNIS', '3,94', '2010'], ['432', 'TWILIGHT - CHAPITRE 4 : REVELATION 1ÈRE PARTIE', 'ETATS UNIS', '3,61', '2011'], ['433', 'TWILIGHT - CHAPITRE 5 : REVELATION (2E PARTIE)', 'ETATS UNIS', '4,43', '2012'], ['434', \"UN BONHEUR N'ARRIVE JAMAIS SEUL\", 'FRANCE', '1,83', '2012'], ['435', 'UN MONSTRE A PARIS', 'FRANCE', '1,74', '2011'], ['436', 'UN PLAN PARFAIT', 'FRANCE  / BELGIQUE', '1,22', '2012'], ['437', 'UN SAC DE BILLES', 'FR / CA', '1,33', '2017'], ['438', 'VACANCES DE DUCOBU (LES)', 'FRANCE', '1,06', '2012'], ['439', 'VACHE (LA)', 'FRANCE / MAROC', '1,30', '2016'], ['440', 'VAIANA LA LEGENDE DU BOUT DU MONDE', 'US', '1,02', '2017'], ['441', 'VAIANA, LA LÉGENDE DU BOUT DU MONDE', 'ETATS UNIS', '4,53', '2016'], ['442', \"VALENTINE'S DAY\", 'ETATS UNIS', '1,19', '2010'], ['443', 'VALERIAN ET LA CITE DES MILLE PLANETES', 'FR', '4,04', '2017'], ['444', 'VENOM', 'US', '2,28', '2018'], ['445', 'VERITE SI JE MENS 3 (LA)', 'FRANCE', '4,11', '2012'], ['446', 'VERY BAD TRIP 2', 'ETATS UNIS', '2,51', '2011'], ['447', 'VERY BAD TRIP 3', 'ETATS UNIS', '1,93', '2013'], ['448', 'VICE-VERSA', 'ETATS UNIS', '4,41', '2015'], ['449', 'VISITEURS : LA REVOLUTION (LES)', 'FRANCE / BELGIQUE', '2,20', '2016'], ['450', 'VIVE LA FRANCE', 'FRANCE', '1,11', '2013'], ['451', \"VOYAGE AU CENTRE DE LA TERRE 2 : L'ILE MYSTERIEUSE\", 'ETATS UNIS', '1,32', '2012'], ['452', \"VOYAGE D'ARLO (LE)\", 'ETATS UNIS', '2,32', '2015'], ['453', 'VOYAGE EXTRAORDINAIRE DE SAMY (LE)', 'Belgique', '1,31', '2010'], ['454', 'WARCRAFT : LE COMMENCEMENT', 'ETATS UNIS', '1,73', '2016'], ['455', \"WOLVERINE : LE COMBAT DE L'IMMORTEL\", 'ETATS UNIS', '1,99', '2013'], ['456', 'WONDER WOMAN', 'GB', '2,15', '2017'], ['457', 'WORLD WAR Z', 'ETATS UNIS', '2,46', '2013'], ['458', 'X-MEN : APOCALYPSE', 'ETATS UNIS', '2,16', '2016'], ['459', 'X-MEN : DAY OF FUTURE PAST', 'ETATS-UNIS', '3,28', '2014'], ['460', 'X-MEN : LE COMMENCEMENT', 'ETATS UNIS', '2,10', '2011'], ['461', 'YETI ET COMPAGNIE', 'US', '1,85', '2018'], ['462', 'YVES SAINT LAURENT', 'FRANCE', '1,65', '2014'], ['463', 'ZARAFA', 'FRANCE', '1,44', '2012'], ['464', 'ZOOTOPIE', 'ETATS UNIS', '4,75', '2016']]\n"
     ]
    }
   ],
   "source": [
    "import csv\n",
    "\n",
    "films = []\n",
    "\n",
    "with open('films.csv', newline='') as csvfile:     # newline='' le caractère de fin de ligne n'est pas précisé.\n",
    "    spamreader = csv.reader(csvfile, delimiter=';')# il peut prendre différente forme selon le fichier ou l'OS\n",
    "    for row in spamreader : \n",
    "        films.append(row)\n",
    "print(films)\n",
    "csvfile.close()"
   ]
  },
  {
   "cell_type": "markdown",
   "metadata": {},
   "source": [
    "Cette liste contient les données extraites du fichier csv. Le premier élément de la liste est l'entête des colonnes de données. \n",
    "Afficher la première ligne de la liste:\n"
   ]
  },
  {
   "cell_type": "code",
   "execution_count": 4,
   "metadata": {},
   "outputs": [
    {
     "ename": "SyntaxError",
     "evalue": "unexpected EOF while parsing (<ipython-input-4-0f51d13907c9>, line 1)",
     "output_type": "error",
     "traceback": [
      "\u001b[0;36m  File \u001b[0;32m\"<ipython-input-4-0f51d13907c9>\"\u001b[0;36m, line \u001b[0;32m1\u001b[0m\n\u001b[0;31m    films[\u001b[0m\n\u001b[0m          ^\u001b[0m\n\u001b[0;31mSyntaxError\u001b[0m\u001b[0;31m:\u001b[0m unexpected EOF while parsing\n"
     ]
    }
   ],
   "source": [
    "films["
   ]
  },
  {
   "cell_type": "markdown",
   "metadata": {},
   "source": [
    "Afficher les 5 premiers films de la liste:"
   ]
  },
  {
   "cell_type": "code",
   "execution_count": null,
   "metadata": {},
   "outputs": [],
   "source": [
    "for i in range(1,6):\n",
    "    print(films[i])"
   ]
  },
  {
   "cell_type": "markdown",
   "metadata": {},
   "source": [
    "## type des données\n",
    "Avec ce traitement automatique, la ligne est lue directement au format texte (str). Les données chiffrées ne sont pas utilisables. \n",
    "\n",
    "La façon plus élégante de construire la liste consiste à convertir les données au moment de la construction de la liste. \n",
    "Chaque ligne sera interprétée, les types attribués puis la ligne 'propre' sera ajoutée dans la liste.\n",
    "\n",
    "Le programme en python suivant affiche les deux premières lignes pour bien identifier les types de données d'une ligne."
   ]
  },
  {
   "cell_type": "code",
   "execution_count": null,
   "metadata": {},
   "outputs": [],
   "source": [
    "import csv\n",
    "\n",
    "films = []\n",
    "\n",
    "with open('films.csv', newline='') as csvfile:\n",
    "    spamreader = csv.reader(csvfile, delimiter=';')\n",
    "    print(next(spamreader))  # affichage des 2 premières lignes pour\n",
    "    print(next(spamreader))  # visualiser les types que l'on souhaite\n",
    "    \n",
    "    "
   ]
  },
  {
   "cell_type": "markdown",
   "metadata": {},
   "source": [
    "Quels sont les types que vous attribuez aux données?\n",
    "\n",
    "Chaque ligne que nous nommerons 'row' est une liste. Vous allez convertir les données de chaque ligne avec une répétition pour toutes les lignes de spamreader.\n",
    "\n",
    "Par exemple, la première donnée, ID est un entier _int_, TITRE est une chaîne de caractères _str_, etc... \n",
    "\n",
    "\n",
    "Programmer la construction des autres données ainsi que la boucle pour traiter tout le spamreader. Vous devez:\n",
    "\n",
    " - construire la ligne sous la forme d'une liste, que nous appellerons 'ligne[]' avec les données converties dans le bon type,\n",
    "    - la ligne sera construite avec append:  ligne.append(.....)\n",
    "    - les 5 informations sur le film d'une 'row' seront traitées.\n",
    " - ajouter la ligne dans la liste films.\n",
    " - afficher la liste films avec un print pour vérifier les types des données.\n",
    " \n",
    "Compléter le programme ci-dessus pour réaliser ces opérations."
   ]
  },
  {
   "cell_type": "code",
   "execution_count": 1,
   "metadata": {
    "scrolled": false
   },
   "outputs": [
    {
     "name": "stdout",
     "output_type": "stream",
     "text": [
      "[[1, '007 SPECTRE', 'GRANDE BRETAGNE', 4.81, 2015], [2, '12 YEARS A SLAVE', 'ETATS-UNIS', 1.71, 2014], [3, \"20 ANS D'ECART\", 'FRANCE', 1.4, 2013], [4, \"300 : LA NAISSANCE D'UN EMPIRE\", 'ETATS-UNIS', 1.56, 2014], [5, '4 FANTASTIQUES (LES)', 'ETATS UNIS', 1.2, 2015], [6, '5EME VAGUE (LA)', 'ETATS UNIS', 1.0, 2016], [7, '8 SALOPARDS (LES)', 'ETATS UNIS', 1.78, 2016], [8, '9 MOIS FERME', 'FRANCE', 1.99, 2013], [9, 'A BRAS OUVERTS', 'FR / BE', 1.03, 2017], [10, 'A STAR IS BORN', 'US', 1.88, 2018], [11, 'ADOPTE UN VEUF', 'FRANCE', 1.09, 2016], [12, 'AFTER EARTH', 'ETATS UNIS', 1.28, 2013], [13, \"AGE DE GLACE : LES LOIS DE L'UNIVERS (L')\", 'ETATS UNIS', 3.5, 2016], [14, 'AGE DE GLACE 4 : LA DERIVE DES CONTINENTS (LA)', 'ETATS UNIS', 6.64, 2012], [15, \"AGENCE TOUS RISQUES (L')\", 'ETATS UNIS', 1.19, 2010], [16, 'ALAD 2', 'FR', 2.35, 2018], [17, 'ALCESTE A BICYCLETTE', 'FRANCE', 1.17, 2013], [18, 'ALIBI.COM', 'FR', 3.6, 2017], [19, 'ALICE AU PAYS DES MERVEILLES', 'ETATS UNIS', 4.43, 2010], [20, \"ALICE DE L'AUTRE COTE DU MIROIR\", 'ETATS UNIS', 1.35, 2016], [21, 'ALIEN COVENANT', 'US', 1.27, 2017], [22, 'ALVIN ET LES CHIPMUNKS : A FOND LA CAISSE', 'ETATS UNIS', 1.8, 2016], [23, 'ALVIN ET LES CHIPMUNKS 3', 'ETATS UNIS', 1.07, 2012], [24, 'ALVIN ET LES CHIPMUNKS 3', 'ETATS UNIS', 1.37, 2011], [25, 'AMERICAN NIGHTMARE 4 LES ORIGINES', 'US', 1.03, 2018], [26, 'AMERICAN PIE 4', 'ETATS UNIS', 1.52, 2012], [27, 'AMERICAN SNIPER', 'ETATS UNIS', 3.13, 2015], [28, \"AMOUR C'EST MIEUX A DEUX (L') (EX L'HOMME QUI MURMURAIT A L'OREILLE DES FEMMES)\", 'FRANCE', 1.12, 2010], [29, 'ANIMAUX & CIE', 'Allemagne', 1.03, 2011], [30, 'ANIMAUX FANTASTIQUES (LES)', 'GRANDE BRETAGNE', 3.81, 2016], [31, 'ANIMAUX FANTASTIQUES (LES) : LES CRIMES DE GRINDELWALD', 'GB', 3.86, 2018], [32, 'ANNABELLE', 'ETATS-UNIS', 1.54, 2014], [33, 'ANNABELLE 2 LA CREATION DU MAL', 'US', 1.25, 2017], [34, 'ANT-MAN', 'ETATS UNIS', 1.72, 2015], [35, 'ANT-MAN ET LA GUEPE', 'US', 1.8, 2018], [36, \"APPRENTI SORCIER (L')\", 'ETATS UNIS', 1.66, 2010], [37, 'AQUAMAN', 'US', 1.9, 2018], [38, 'ARGO', 'ETATS UNIS', 1.15, 2012], [39, \"ARNACOEUR (L')\", 'FRANCE', 3.78, 2010], [40, 'ARTHUR 3 ET LA GUERRE DES DEUX MONDES', 'FRANCE', 3.1, 2010], [41, \"ASSASSIN'S CREED\", 'ETATS UNIS', 1.25, 2016], [42, 'ASTÉRIX ET LE DOMAINE DES DIEUX', 'FRANCE', 2.68, 2014], [43, 'ASTERIX ET LE SECRET DE LA POTION MAGIQUE', 'FR', 2.89, 2018], [44, 'ASTÉRIX ET OBÉLIX : AU SERVICE DE SA MAJESTE', 'FRANCE  / HONGRIE / ESPAGNE / ITALIE', 3.79, 2012], [45, 'AU REVOIR LA HAUT', 'FR', 1.99, 2017], [46, 'AU-DELA', 'ETATS UNIS', 1.93, 2011], [47, 'AVATAR', 'ETATS UNIS', 8.47, 2010], [48, 'AVENGERS', 'ETATS UNIS', 4.41, 2012], [49, 'AVENGERS : INFINITY WAR', 'US', 5.04, 2018], [50, \"AVENGERS : L'ERE D'ULTRON\", 'ETATS UNIS', 4.24, 2015], [51, 'AVENTURES DE TINTIN : LE SECRET DE LA LICORNE (LES)', 'ETATS UNIS', 5.37, 2011], [52, \"AVENTURES EXTRAORDINAIRES D'ADELE BLANC-SEC (LES)\", 'FRANCE', 1.63, 2010], [53, 'BABY BOSS', 'US', 3.87, 2017], [54, 'BABYSITTING', 'FRANCE', 2.36, 2014], [55, 'BABYSITTING 2', 'FRANCE', 2.53, 2015], [56, 'BALLERINA', 'CANADA / FRANCE', 1.34, 2016], [57, 'BARBECUE', 'FRANCE', 1.61, 2014], [58, \"BATMAN V SUPERMAN : L'AUBE DE LA JUSTICE\", 'ETATS UNIS', 2.49, 2016], [59, 'BATTLESHIP', 'ETATS UNIS', 1.06, 2012], [60, 'BAYWATCH ALERTE A MALIBU', 'US', 1.59, 2017], [61, 'BELLE ET SEBASTIEN', 'FRANCE', 1.68, 2013], [62, 'BELLE ET SÉBASTIEN', 'FRANCE', 1.34, 2014], [63, \"BELLE ET SEBASTIEN : L'AVENTURE CONTINUE\", 'FRANCE', 1.37, 2015], [64, 'BELLE ET SEBASTIEN 3, LE DERNIER CHAPITRE', 'FR', 1.68, 2018], [65, 'BIENVENUE A BORD', 'FRANCE', 1.43, 2011], [66, 'BIS', 'FRANCE', 1.51, 2015], [67, 'BLACK PANTHER', 'US', 3.62, 2018], [68, 'BLACK SWAN', 'ETATS UNIS', 2.65, 2011], [69, 'BLACKKKLANSMAN', 'US', 1.31, 2018], [70, 'BLADE RUNNER 2049', 'US', 1.26, 2017], [71, 'BLANCHE-NEIGE ET LE CHASSEUR', 'ETATS UNIS', 1.98, 2012], [72, 'BLUE JASMINE', 'ETATS UNIS', 1.43, 2013], [73, \"BOB L'EPONGE, LE FILM - UN HEROS SORT DE L'EAU\", 'ETATS UNIS', 1.3, 2015], [74, 'BOHEMIAN RHAPSODY', 'GB', 3.72, 2018], [75, 'BOULE ET BILL', 'FRANCE / BELGIQUE / LUXEMBOURG', 2.01, 2013], [76, 'BRICE 3', 'FRANCE', 1.95, 2016], [77, 'BRIDGET JONES BABY', 'GRANDE BRETAGNE', 1.97, 2016], [78, 'CA', 'US', 2.23, 2017], [79, 'CAGE DOREE (LA)', 'FRANCE', 1.23, 2013], [80, 'CAMPING 2', 'FRANCE', 3.98, 2010], [81, 'CAMPING 3', 'FRANCE', 3.22, 2016], [82, 'CAPTAIN AMERICA - FIRST AVENGER', 'ETATS UNIS', 1.07, 2011], [83, 'CAPTAIN AMERICA : CIVIL WAR', 'ETATS UNIS', 2.92, 2016], [84, \"CAPTAIN AMERICA : LE SOLDAT DE L'HIVER\", 'ETATS-UNIS', 1.88, 2014], [85, 'CARS 2', 'ETATS UNIS', 2.91, 2011], [86, 'CARS 3', 'US', 2.72, 2017], [87, 'CASE DEPART', 'FRANCE', 1.77, 2011], [88, 'CASSE-TETE CHINOIS ', 'FRANCE / BELGIQUE', 1.27, 2013], [89, 'CENDRILLON', 'GRANDE BRETAGNE', 1.67, 2015], [90, 'CHANCE DE MA VIE (LA)', 'FRANCE / BELGIQUE', 1.04, 2011], [91, 'CHAT POTTE (LE)', 'ETATS UNIS', 3.43, 2011], [92, 'CHOC DES TITANS (LE)', 'GRANDE BRETAGNE', 1.87, 2010], [93, 'CHOCOLAT', 'FRANCE', 1.93, 2016], [94, 'CHRONICLE', 'ETATS UNIS', 1.02, 2012], [95, 'CHTITE FAMILLE (LA)', 'FR', 5.62, 2018], [96, 'CIGOGNES ET COMPAGNIE', 'ETATS UNIS', 1.02, 2016], [97, 'CINQ LEGENDES (LES)', 'ETATS UNIS', 2.28, 2012], [98, 'CINQUANTE NUANCES DE GREY', 'ETATS UNIS', 4.07, 2015], [99, 'CINQUANTE NUANCES PLUS CLAIRES', 'US', 2.76, 2018], [100, 'CINQUANTE NUANCES PLUS SOMBRES', 'US', 3.14, 2017], [101, 'CLOCHETTE ET LA FÉE PIRATE', 'ETATS-UNIS', 1.03, 2014], [102, 'CLOCHETTE ET LE SECRET DES FEES', 'ETATS UNIS', 1.44, 2012], [103, 'CLOCLO', 'FRANCE  / BELGIQUE', 1.76, 2012], [104, 'COCO', 'US', 1.35, 2018], [105, 'COCO', 'US', 3.26, 2017], [106, 'COMME DES BETES', 'ETATS UNIS', 3.76, 2016], [107, 'CONJURING 2 : LE CAS ENFIELD', 'ETATS UNIS', 1.47, 2016], [108, 'CONJURING, LES DOSSIERS WARREN', 'ETATS UNIS', 1.16, 2013], [109, 'CONNASSE, PRINCESSE DES CŒURS', 'FRANCE', 1.2, 2015], [110, \"CREED, L'HERITAGE DE ROCKY BALBOA\", 'ETATS UNIS', 1.64, 2016], [111, 'CROODS (LES)', 'ETATS UNIS', 2.38, 2013], [112, 'DANS LA MAISON', 'FRANCE', 1.18, 2012], [113, 'DARK SHADOWS', 'GRANDE BRETAGNE', 1.95, 2012], [114, \"DE L'AUTRE COTE DU PERIPH\", 'FRANCE', 1.08, 2013], [115, \"DE L'AUTRE COTE DU PERIPH\", 'FRANCE', 1.18, 2012], [116, \"DE ROUILLE ET D'OS\", 'FRANCE  / BELGIQUE', 1.91, 2012], [117, 'DEADPOOL', 'ETATS UNIS', 3.76, 2016], [118, 'DEADPOOL 2', 'US', 2.6, 2018], [119, 'DEMAIN TOUT COMMENCE', 'FR / GB', 1.13, 2017], [120, 'DEMAIN TOUT COMMENCE', 'FRANCE / GRANDE BRETAGNE', 2.07, 2016], [121, 'DERNIER DES TEMPLIERS (LE)', 'ETATS UNIS', 1.0, 2011], [122, 'DERNIER LOUP (LE)', 'CHINE / FRANCE', 1.33, 2015], [123, \"DERNIER MAITRE DE L'AIR (LE)\", 'ETATS UNIS', 1.18, 2010], [124, 'DES HOMMES ET DES DIEUX', 'FRANCE', 3.14, 2010], [125, 'DIE HARD : BELLE JOURNEE POUR MOURIR', 'ETATS UNIS', 1.83, 2013], [126, \"DISCOURS D'UN ROI (LE)\", 'GRANDE BRETAGNE', 3.03, 2011], [127, 'DIVERGENTE', 'ETATS-UNIS', 1.5, 2014], [128, \"DIVERGENTE 2 : L'INSURRECTION\", 'ETATS UNIS', 2.42, 2015], [129, 'DIVERGENTE 3 : AU-DELA DU MUR', 'ETATS UNIS', 2.11, 2016], [130, 'DJANGO UNCHAINED', 'ETATS UNIS', 4.31, 2013], [131, 'DOCTOR STRANGE', 'ETATS UNIS', 1.92, 2016], [132, 'DRAGONS', 'ETATS UNIS', 2.32, 2010], [133, 'DRAGONS 2', 'ETATS-UNIS', 3.38, 2014], [134, 'DRIVE', 'ETATS UNIS', 1.54, 2011], [135, 'DUNKERQUE', 'GB', 2.55, 2017], [136, \"ECOLE BUISSONNIERE (L')\", '#NOM ?', 1.9, 2017], [137, 'EDGE OF TOMORROW', 'ETATS-UNIS', 1.22, 2014], [138, \"ELEVE DUCOBU (L')\", 'FRANCE', 1.49, 2011], [139, 'ELYSIUM', 'ETATS UNIS', 1.52, 2013], [140, 'EN EAUX TROUBLES', 'US', 1.62, 2018], [141, 'EN ROUTE !', 'ETATS UNIS', 1.22, 2015], [142, 'EPIC : LA BATAILLE DU ROYAUME SECRET', 'ETATS UNIS', 1.21, 2013], [143, 'EPOUSE MOI MON POTE', 'FR', 2.47, 2017], [144, 'EXPENDABLES : UNITE SPECIALE', 'ETATS UNIS', 1.65, 2010], [145, 'EXPENDABLES 2 : UNITE SPECIALE', 'ETATS UNIS', 1.96, 2012], [146, 'EXPENDABLES 3', 'ETATS-UNIS', 1.06, 2014], [147, 'EYJAFJALLOJOKULL', 'FRANCE', 1.77, 2013], [148, 'FAMILLE BELIER (LA)', 'FRANCE / BELGIQUE', 5.35, 2015], [149, 'FAST & FURIOUS 5', 'ETATS UNIS', 2.52, 2011], [150, 'FAST & FURIOUS 6', 'ETATS UNIS', 2.99, 2013], [151, 'FAST & FURIOUS 7', 'ETATS UNIS', 4.63, 2015], [152, 'FAST AND FURIOUS 8', 'US', 3.87, 2017], [153, 'FATAL', 'CANADA  / FRANCE', 1.21, 2010], [154, 'FEMMES DU 6EME ETAGE (LES)', 'FRANCE', 2.28, 2011], [155, 'FERDINAND', 'US', 1.42, 2018], [156, 'FERDINAND', 'US', 1.06, 2017], [157, 'FILLE DU PUISATIER (LA)', 'FRANCE', 1.4, 2011], [158, 'FILS A JO (LE)', 'FRANCE', 1.2, 2011], [159, 'FISTON', 'FRANCE', 1.93, 2014], [160, 'FOLLE HISTOIRE DE MAX ET LEON (LA)', 'FRANCE / BELGIQUE', 1.22, 2016], [161, 'GAINSBOURG (VIE HEROÏQUE)', 'FRANCE', 1.2, 2010], [162, 'GAMINS (LES)', 'FRANCE', 1.65, 2013], [163, 'GARÇONS ET GUILLAUME, A TABLE ! (LES)', 'FRANCE', 2.2, 2013], [164, 'GATSBY LE MAGNIFIQUE', 'AUSTRALIE', 1.58, 2013], [165, 'GET OUT', 'US', 1.15, 2017], [166, 'GHOST IN THE SHELL', 'US', 1.02, 2017], [167, 'GODZILLA', 'ETATS-UNIS', 1.37, 2014], [168, 'GONE GIRL', 'ETATS-UNIS', 1.91, 2014], [169, 'GRAND BAIN (LE)', 'FR', 4.21, 2018], [170, 'GRAVITY', 'GRANDE BRETAGNE', 4.08, 2013], [171, 'GUERRE DES BOUTONS (LA)', 'FRANCE', 1.48, 2011], [172, 'HAPPINESS THERAPY', 'ETATS UNIS', 1.07, 2013], [173, 'HARRY POTTER ET LES RELIQUES DE LA MORT (1ÈRE PARTIE)', 'GRANDE BRETAGNE', 5.51, 2010], [174, 'HARRY POTTER ET LES RELIQUES DE LA MORT (2E PARTIE)', 'GRANDE BRETAGNE', 6.52, 2011], [175, 'HOBBIT : LA DESOLATION DE SMAUG (LE)', 'ETATS UNIS', 3.8, 2013], [176, 'HOBBIT : UN VOYAGE INATTENDU (LE)', 'NOUVELLE ZELANDE', 1.18, 2013], [177, 'HOBBIT : UN VOYAGE INATTENDU (LE)', 'NOUVELLE ZELANDE', 3.35, 2012], [178, 'HOLLYWOO', 'FRANCE', 1.88, 2011], [179, \"HOMME QUI VOULAIT VIVRE SA VIE (L')\", 'FRANCE', 1.18, 2010], [180, 'HOTEL TRANSYLVANIE', 'ETATS UNIS', 1.7, 2013], [181, 'HOTEL TRANSYLVANIE 2', 'ETATS UNIS', 2.3, 2015], [182, 'HOTEL TRANSYLVANIE 3 : DES VACANCES MONSTRUEUSES', 'US', 3.07, 2018], [183, 'HUNGER GAMES', 'ETATS UNIS', 1.73, 2012], [184, 'HUNGER GAMES - LA RÉVOLTE PARTIE 1', 'ETATS-UNIS', 3.12, 2014], [185, \"HUNGER GAMES : L'EMBRASEMENT\", 'ETATS UNIS', 2.92, 2013], [186, 'HUNGER GAMES : LA REVOLTE, 2e PARTIE', 'ETATS UNIS', 2.77, 2015], [187, 'IL A DEJA TES YEUX', 'FR', 1.39, 2017], [188, 'IMITATION GAME', 'GRANDE BRETAGNE / ETATS UNIS', 1.09, 2015], [189, \"IMMORTEL (L')\", 'FRANCE', 1.13, 2010], [190, 'INCEPTION', 'GRANDE BRETAGNE', 4.94, 2010], [191, 'INDEPENDENCE DAY  : RESURGENCE', 'ETATS UNIS', 1.29, 2016], [192, 'INFIDÈLES (LES)', 'FRANCE', 2.26, 2012], [193, 'INSAISISSABLES', 'ETATS UNIS', 3.01, 2013], [194, 'INSAISISSABLES 2', 'ETATS UNIS', 2.1, 2016], [195, 'INTERSTELLAR', 'ETATS-UNIS', 2.58, 2014], [196, 'INTOUCHABLES', 'FRANCE', 2.83, 2012], [197, 'INTOUCHABLES', 'FRANCE', 16.67, 2011], [198, 'INVICTUS', 'ETATS UNIS', 3.17, 2010], [199, 'IRON MAN 2', 'ETATS UNIS', 2.58, 2010], [200, 'IRON MAN 3', 'ETATS UNIS', 4.31, 2013], [201, \"ITALIEN (L')\", 'FRANCE', 1.11, 2010], [202, 'J. EDGAR', 'ETATS UNIS', 1.45, 2012], [203, 'JAPPELOUP', 'FRANCE  / CANADA', 1.82, 2013], [204, 'JASON BOURNE', 'ETATS UNIS', 1.49, 2016], [205, 'JEU (LE)', 'FR', 1.59, 2018], [206, 'JUMANJI BIENVENUE DANS LA JUNGLE', 'US', 2.0, 2018], [207, 'JUMANJI BIENVENUE DANS LA JUNGLE', 'US', 1.39, 2017], [208, 'JURASSIC WORLD', 'ETATS UNIS', 5.21, 2015], [209, 'JURASSIC WORLD FALLEN KINGDOM', 'US', 3.63, 2018], [210, 'JUSTE LA FIN DU MONDE', 'CANADA / FRANCE', 1.03, 2016], [211, 'JUSTICE LEAGUE', 'GB', 1.71, 2017], [212, 'KAIRA (LES)', 'FRANCE', 1.02, 2012], [213, 'KINGSMAN : SERVICES SECRETS', 'GRANDE BRETAGNE / ETATS UNIS', 1.67, 2015], [214, \"KINGSMAN LE CERCLE D'OR\", 'GB', 1.74, 2017], [215, 'KONG SKULL ISLAND', 'US', 1.62, 2017], [216, 'KUNG FU PANDA 2', 'ETATS UNIS', 2.7, 2011], [217, 'KUNG FU PANDA 3', 'ETATS UNIS', 2.58, 2016], [218, 'L ASCENSION', 'FR', 1.12, 2017], [219, 'LA BELLE ET LA BETE', 'GB / US', 3.49, 2017], [220, 'LA BELLE ET LA BÊTE ', 'FRANCE', 1.83, 2014], [221, 'LA FAMILLE BÉLIER ', 'FRANCE', 2.35, 2014], [222, \"LA FORME DE L'EAU\", 'US', 1.38, 2018], [223, 'LA FRENCH ', 'FRANCE', 1.33, 2014], [224, 'LA GRANDE AVENTURE LEGO ', 'ETATS-UNIS', 1.54, 2014], [225, 'LA LA LAND', 'US', 2.75, 2017], [226, 'LA MOMIE', 'US', 1.38, 2017], [227, 'LA NONNE', 'US', 1.39, 2018], [228, \"LA PLANETE DES SINGES : L'AFFRONTEMENT \", 'ETATS-UNIS', 3.78, 2014], [229, 'LA PLANETE DES SINGES SUPREMATIE', 'US', 2.81, 2017], [230, 'LA REINE DES NEIGES ', 'ETATS-UNIS', 1.26, 2014], [231, 'LABYRINTHE : LA TERRE BRULEE (LE)', 'ETATS UNIS', 3.12, 2015], [232, 'LARGO WINCH 2', 'FRANCE / BELGIQUE / ALLEMAGNE', 1.34, 2011], [233, 'LE BRIO', 'FR', 1.05, 2017], [234, 'LE CROCODILE DU BOTSWANGA ', 'FRANCE', 1.19, 2014], [235, 'LE GRINCH', 'US', 2.05, 2018], [236, 'LE HOBBIT : LA BATAILLE DES CINQ ARMÉES ', 'NOUVELLE ZELANDE', 4.07, 2014], [237, 'LE LABYRINTHE ', 'ETATS-UNIS', 3.13, 2014], [238, 'LE LABYRINTHE: LE REMEDE MORTEL', 'US', 2.85, 2018], [239, 'LE LOUP DE WALL STREET ', 'ETATS-UNIS', 2.0, 2014], [240, 'LES GARDIENS DE LA GALAXIE ', 'ETATS-UNIS', 2.34, 2014], [241, 'LES GARDIENS DE LA GALAXIE VOL 2', 'US', 3.14, 2017], [242, 'LES INDESTRUCTIBLES 2', 'US', 5.74, 2018], [243, 'LES PINGOUINS DE MADAGASCAR ', 'ETATS-UNIS', 1.59, 2014], [244, 'LES SCHTROUMPFS ET LE VILLAGE PERDU', 'US', 1.84, 2017], [245, 'LES TROIS FRÈRES, LE RETOUR ', 'FRANCE', 2.24, 2014], [246, 'LES TUCHE 3', 'FR', 5.69, 2018], [247, 'LES VACANCES DU PETIT NICOLAS ', 'FRANCE', 2.41, 2014], [248, 'LINCOLN', 'ETATS UNIS', 1.36, 2013], [249, 'LION', 'AUS', 1.79, 2017], [250, 'LIVRE DE LA JUNGLE (LE)', 'ETATS UNIS', 3.65, 2016], [251, 'LOGAN', 'US', 2.27, 2017], [252, \"LONE RANGER, NAISSANCE D'UN HEROS\", 'ETATS UNIS', 1.15, 2013], [253, 'LOUP DE WALL STREET (LE)', 'ETATS UNIS', 1.02, 2013], [254, 'LUCY', 'FRANCE', 5.2, 2014], [255, 'LYONNAIS (LES)', 'FRANCE', 1.09, 2011], [256, 'M. PEABODY ET SHERMAN : LES VOYAGES DANS LE TEMPS', 'ETATS-UNIS', 1.42, 2014], [257, 'MA PART DU GATEAU', 'FRANCE', 1.03, 2011], [258, 'MAC (LE)', 'FRANCE', 1.46, 2010], [259, 'MAD MAX : FURY ROAD', 'AUSTRALIE', 2.36, 2015], [260, \"MADAGASCAR 3 : BONS BAISERS D'EUROPE\", 'ETATS UNIS', 3.41, 2012], [261, 'MAGIC IN THE MOONLIGHT', 'GB', 1.04, 2014], [262, 'MAJORDOME (LE)', 'ETATS UNIS', 1.95, 2013], [263, 'MALÉFIQUE', 'ETATS-UNIS', 2.0, 2014], [264, 'MAN OF STEEL', 'CANADA', 2.32, 2013], [265, 'MARGUERITE', 'FRANCE / REPUBLIQUE TCHEQUE/ BELGIQUE', 1.01, 2015], [266, 'MEDECIN DE CAMPAGNE', 'FRANCE', 1.51, 2016], [267, 'MEN IN BLACK 3', 'ETATS UNIS', 2.12, 2012], [268, \"MILLENIUM : LES HOMMES QUI N'AIMAIENT PAS LES FEMMES\", 'ETATS UNIS', 1.08, 2012], [269, 'MINCE ALORS !', 'FRANCE', 1.45, 2012], [270, 'MINIONS (LES)', 'ETATS UNIS', 6.66, 2015], [271, 'MINUIT A PARIS', 'ESPAGNE', 1.73, 2011], [272, 'MINUSCULE, LA VALLÉE DES FOURMIS PERDUES', 'FRANCE', 1.5, 2014], [273, 'MISS PEREGRINE ET LES ENFANTS PARTICULIERS', 'GRANDE BRETAGNE', 2.71, 2016], [274, 'MISSION : IMPOSSIBLE PROTOCOLE FANTOME', 'ETATS UNIS', 1.75, 2011], [275, 'MISSION : IMPOSSIBLE, ROGUE NATION', 'ETATS UNIS', 2.8, 2015], [276, 'MISSION IMPOSSIBLE FALL OUT', 'US', 3.02, 2018], [277, 'MOBIUS', 'FRANCE / LUXEMBOURG / BELGIQUE', 1.1, 2013], [278, 'MOI MOCHE ET MECHANT 3', 'US', 5.74, 2017], [279, 'MOI, MOCHE ET MECHANT', 'ETATS UNIS', 3.01, 2010], [280, 'MOI, MOCHE ET MECHANT 2', 'ETATS UNIS', 4.65, 2013], [281, 'MOMMY', 'CA', 1.13, 2014], [282, 'MONDE DE DORY (LE)', 'ETATS UNIS', 3.37, 2016], [283, \"MONDE DE NARNIA - CHAPITRE 3 - L'ODYSSEE DU PASSEUR D'AURORE (LE)\", 'ETATS UNIS', 2.33, 2010], [284, \"MONDE FANTASTIQUE D'OZ (LE)\", 'ETATS UNIS', 1.56, 2013], [285, 'MONDES DE RALPH (LES)', 'ETATS UNIS', 1.2, 2012], [286, 'MONSTRES ACADEMY', 'ETATS UNIS', 2.08, 2013], [287, 'MONUMENTS MEN', 'ETATS-UNIS', 1.29, 2014], [288, 'NEUILLY SA MERE, SA MERE', 'FR', 1.15, 2018], [289, 'NIGHT AND DAY', 'ETATS UNIS', 1.76, 2010], [290, 'NINJA TURTLES', 'ETATS-UNIS', 1.79, 2014], [291, 'NOE', 'ETATS-UNIS', 1.32, 2014], [292, 'NON-STOP', 'GB', 1.22, 2014], [293, 'NOS ÉTOILES CONTRAIRES', 'ETATS-UNIS', 1.04, 2014], [294, 'NOUVEAUX HEROS (LES)', 'ETATS UNIS', 1.66, 2015], [295, 'NOUVELLE GUERRE DES BOUTONS (LA)', 'FRANCE', 1.54, 2011], [296, \"NOUVELLES AVENTURES D'ALADIN (LES)\", 'FRANCE', 4.43, 2015], [297, 'NUIT AU MUSEE : LE SECRET DES PHARAONS (LA)', 'ETATS UNIS', 1.59, 2015], [298, 'OBLIVION', 'ETATS UNIS', 1.33, 2013], [299, 'OCÉANS', 'FRANCE', 2.86, 2010], [300, \"ODYSSÉE (L')\", 'FRANCE', 1.22, 2016], [301, 'OPÉRATION CASSE-NOISETTE', 'ETATS-UNIS', 1.2, 2014], [302, 'PACIFIC RIM', 'ETATS UNIS', 1.02, 2013], [303, 'PADDINGTON', 'FRANCE', 2.2, 2014], [304, 'PADDINGTON 2', 'FR', 1.31, 2017], [305, 'PAPA OU MAMAN', 'FRANCE', 2.89, 2015], [306, 'PAPA OU MAMAN 2', 'FRANCE / BELGIQUE', 1.2, 2016], [307, 'PATIENTS', 'FR', 1.27, 2017], [308, 'PATTAYA', 'FRANCE', 1.95, 2016], [309, 'PAULETTE', 'FRANCE', 1.03, 2013], [310, 'PENTAGON PAPERS', 'US', 1.34, 2018], [311, 'PERCY JACKSON : LA MER DES MONSTRES', 'ETATS UNIS', 1.47, 2013], [312, 'PERCY JACKSON LE VOLEUR DE FOUDRE', 'ETATS UNIS', 1.23, 2010], [313, 'PETIT PRINCE (LE)', 'FRANCE / ITALIE', 1.93, 2015], [314, 'PETITS MOUCHOIRS (LES)', 'FRANCE', 5.33, 2010], [315, 'PIERRE LAPIN', 'US', 1.74, 2018], [316, 'PIRATES DES CARAIBES : LA FONTAINE DE JOUVENCE', 'ETATS UNIS / GRANDE BRETAGNE', 4.67, 2011], [317, 'PIRATES DES CARAIBES: LA VENGEANCE DE SALAZAR', 'US', 3.59, 2017], [318, 'PLANES', 'ETATS UNIS', 1.63, 2013], [319, 'PLANES 2', 'ETATS-UNIS', 1.02, 2014], [320, 'PLANETE DES SINGES : LES ORIGINES (LA)', 'ETATS UNIS', 3.26, 2011], [321, 'POLISSE', 'FRANCE', 2.32, 2011], [322, 'POPULAIRE', 'FRANCE  / BELGIQUE', 1.01, 2012], [323, 'POTICHE', 'FRANCE / BELGIQUE', 2.25, 2010], [324, \"POURQUOI J'AI (PAS) MANGE MON PERE\", 'FRANCE / ITALIE', 2.41, 2015], [325, 'PREMIERE ANNEE', 'FR', 1.01, 2018], [326, 'PRÉNOM (LE)', 'FRANCE', 3.34, 2012], [327, 'PRINCE OF PERSIA : LES SABLES DU TEMPS', 'ETATS UNIS', 2.11, 2010], [328, 'PRINCESSE ET LA GRENOUILLE (LA)', 'ETATS UNIS', 3.66, 2010], [329, 'PRISONERS', 'ETATS UNIS', 1.13, 2013], [330, 'PROFS (LES)', 'FRANCE', 3.95, 2013], [331, 'PROFS 2 (LES)', 'FRANCE / BELGIQUE', 3.49, 2015], [332, 'PROJET X', 'ETATS UNIS', 1.85, 2012], [333, 'PROMETHEUS', 'ETATS UNIS', 1.84, 2012], [334, \"QU'EST-CE QU'ON A FAIT AU BON DIEU ?\", 'FRANCE', 12.34, 2014], [335, 'RADIN !', 'FRANCE', 2.95, 2016], [336, 'RAFLE (LA)', 'FRANCE / ALLEMAGNE / HONGRIE', 2.88, 2010], [337, 'RAID DINGUE', 'FR', 4.56, 2017], [338, 'RAIPONCE', 'ETATS UNIS', 3.17, 2010], [339, 'RANGO', 'ETATS UNIS', 1.27, 2011], [340, 'READY PLAYER ONE', 'GB', 2.28, 2018], [341, 'REAL STEEL', 'ETATS UNIS', 1.08, 2011], [342, 'REBELLE', 'ETATS UNIS', 3.16, 2012], [343, 'REINE DES NEIGES (LA)', 'ETATS UNIS', 3.8, 2013], [344, 'RETOUR CHEZ MA MERE', 'FRANCE', 2.2, 2016], [345, 'RIEN A DECLARER', 'FRANCE / BELGIQUE', 8.1, 2011], [346, 'RIO', 'ETATS UNIS', 2.44, 2011], [347, 'RIO 2', 'ETATS-UNIS', 3.26, 2014], [348, 'ROBIN DES BOIS', 'GRANDE BRETAGNE', 2.39, 2010], [349, 'ROCK N ROLL', 'FR', 1.3, 2017], [350, 'ROGUE ONE A STAR WARS STORY', 'US', 1.06, 2017], [351, 'ROGUE ONE A STAR WARS STORY', 'ETATS UNIS', 3.92, 2016], [352, 'SAHARA', 'FR / CA', 1.13, 2017], [353, 'SAISONS (LES)', 'FRANCE', 1.02, 2016], [354, 'SALT', 'ETATS UNIS', 1.47, 2010], [355, 'SAMBA', 'FRANCE', 3.15, 2014], [356, 'SAN ANDREAS', 'ETATS UNIS', 1.15, 2015], [357, 'SANS IDENTITE', 'ALLEMAGNE / GRANDE BRETAGNE / FRANCE', 1.0, 2011], [358, 'SANTA ET CIE', 'FR / BE', 1.65, 2017], [359, 'SCHTROUMPFS (LES)', 'ETATS UNIS', 2.81, 2011], [360, 'SCHTROUMPFS 2 (LES)', 'ETATS UNIS', 2.25, 2013], [361, 'SCREAM 4', 'ETATS UNIS', 1.07, 2011], [362, 'SEIGNEURS (LES)', 'FRANCE', 2.73, 2012], [363, 'SENS DE LA FETE (LE)', '#NOM ?', 3.02, 2017], [364, 'SEUL SUR MARS', 'ETATS UNIS', 2.52, 2015], [365, 'SEVEN SISTERS', 'GB', 1.86, 2017], [366, 'SEX AND THE CITY 2', 'ETATS UNIS', 1.31, 2010], [367, 'SEXY DANCE 4 : MIAMI HEAT', 'ETATS UNIS', 1.13, 2012], [368, 'SHAUN LE MOUTON', 'GRANDE BRETAGNE', 1.06, 2015], [369, 'SHERLOCK HOLMES', 'GRANDE BRETAGNE', 2.15, 2010], [370, \"SHERLOCK HOLMES : JEU D'OMBRES\", 'GRANDE BRETAGNE', 2.39, 2012], [371, 'SHREK 4, IL ÉTAIT UNE FIN', 'ETATS UNIS', 4.63, 2010], [372, 'SHUTTER ISLAND', 'ETATS UNIS', 3.11, 2010], [373, 'SKYFALL', 'GRANDE BRETAGNE', 6.81, 2012], [374, 'SOLO : A STAR WARS STORY', 'US', 1.37, 2018], [375, 'SOUS LES JUPES DES FILLES', 'FRANCE', 1.36, 2014], [376, 'SOUVENIRS (LES)', 'FRANCE / BELGIQUE', 1.06, 2015], [377, 'SPIDER MAN HOMECOMING', 'US', 2.32, 2017], [378, 'SPLIT', 'US', 1.79, 2017], [379, 'STAR WARS : EPISODE 7, LE REVEIL DE LA FORCE', 'ETATS UNIS', 3.0, 2016], [380, 'STAR WARS : EPISODE 7, LE REVEIL DE LA FORCE', 'ETATS UNIS', 7.33, 2015], [381, 'STAR WARS LES DERNIERS JEDI', 'US', 1.73, 2018], [382, 'STAR WARS LES DERNIERS JEDI', 'US', 5.35, 2017], [383, 'STARS 80', 'FRANCE', 1.83, 2012], [384, 'SUICIDE SQUAD', 'ETATS UNIS', 2.28, 2016], [385, 'SULLY', 'ETATS UNIS', 1.11, 2016], [386, 'SUPER 8', 'ETATS UNIS', 1.53, 2011], [387, 'SUPERCONDRIAQUE', 'FRANCE', 5.27, 2014], [388, 'SUR LA PISTE DU MARSUPILAMI', 'FRANCE', 5.3, 2012], [389, \"SUR LE CHEMIN DE L'ECOLE\", 'FRANCE', 1.17, 2013], [390, 'TAKEN 2', 'FRANCE', 2.91, 2012], [391, 'TAKEN 3', 'FRANCE', 2.61, 2015], [392, 'TARZAN', 'GRANDE BRETAGNE', 1.38, 2016], [393, 'TAXI 5', 'FR', 3.65, 2018], [394, 'TED', 'ETATS UNIS', 1.38, 2012], [395, 'TED 2', 'ETATS UNIS', 1.14, 2015], [396, 'TERMINATOR : GENISYS', 'ETATS UNIS', 1.43, 2015], [397, 'TETE EN FRICHE (LA)', 'FRANCE', 1.27, 2010], [398, 'THE AMAZING SPIDER-MAN', 'ETATS UNIS', 2.54, 2012], [399, \"THE AMAZING SPIDER-MAN : LE DESTIN D'UN HÉROS\", 'ETATS-UNIS', 2.31, 2014], [400, 'THE ARTIST', 'FRANCE', 1.58, 2012], [401, 'THE ARTIST', 'FRANCE', 1.58, 2011], [402, 'THE DARK KNIGHT RISES', 'GRANDE BRETAGNE', 4.41, 2012], [403, 'THE GHOST WRITER', 'FRANCE / ALLEMAGNE / GRANDE BRETAGNE', 1.05, 2010], [404, 'THE GRAND BUDAPEST HOTEL', 'ETATS-UNIS', 1.47, 2014], [405, 'THE KARATE KID', 'ETATS UNIS', 1.28, 2010], [406, 'THE REVENANT', 'ETATS UNIS', 3.84, 2016], [407, 'THE SOCIAL NETWORK', 'ETATS UNIS', 1.44, 2010], [408, 'THE TOWN', 'ETATS UNIS', 1.08, 2010], [409, 'THOR', 'ETATS UNIS', 1.73, 2011], [410, 'THOR : LE MONDE DES TENEBRES', 'ETATS UNIS', 2.29, 2013], [411, 'THOR RAGNAROK', 'US', 2.46, 2017], [412, 'TIME OUT', 'ETATS UNIS', 1.05, 2011], [413, 'TITANIC', 'ETATS UNIS', 1.14, 2012], [414, 'TITEUF, LE FILM', 'FRANCE / SUISSE', 1.27, 2011], [415, 'TOMB RAIDER', 'GB', 1.26, 2018], [416, 'TOTAL RECALL : MEMOIRES PROGRAMMEES', 'ETATS UNIS', 1.28, 2012], [417, 'TOUS EN SCENE', 'US', 3.61, 2017], [418, 'TOUT CE QUI BRILLE', 'FRANCE', 1.42, 2010], [419, 'TOUT LE MONDE DEBOUT', 'FR', 2.42, 2018], [420, 'TOY STORY 3', 'ETATS UNIS', 4.26, 2010], [421, \"TRANSFORMERS : L'ÂGE DE L'EXTINCTION\", 'ETATS-UNIS', 2.34, 2014], [422, 'TRANSFORMERS 3 : LA FACE CACHEE DE LA LUNE', 'ETATS UNIS', 2.62, 2011], [423, 'TRANSFORMERS THE LAST KNIGHT', 'US', 1.42, 2017], [424, 'TROLLS (LES)', 'ETATS UNIS', 2.74, 2016], [425, \"TRON L'HERITAGE\", 'ETATS UNIS', 1.19, 2011], [426, 'TRUE GRIT', 'ETATS UNIS', 1.41, 2011], [427, 'TU VEUX OU TU VEUX PAS', 'FRANCE', 1.08, 2014], [428, 'TUCHE (LES)', 'FRANCE', 1.53, 2011], [429, 'TUCHE 2 : LE REVE AMERICAIN (LES)', 'FRANCE', 4.6, 2016], [430, 'TURBO', 'ETATS UNIS', 2.47, 2013], [431, 'TWILIGHT - CHAPITRE 3 : HESITATION', 'ETATS UNIS', 3.94, 2010], [432, 'TWILIGHT - CHAPITRE 4 : REVELATION 1ÈRE PARTIE', 'ETATS UNIS', 3.61, 2011], [433, 'TWILIGHT - CHAPITRE 5 : REVELATION (2E PARTIE)', 'ETATS UNIS', 4.43, 2012], [434, \"UN BONHEUR N'ARRIVE JAMAIS SEUL\", 'FRANCE', 1.83, 2012], [435, 'UN MONSTRE A PARIS', 'FRANCE', 1.74, 2011], [436, 'UN PLAN PARFAIT', 'FRANCE  / BELGIQUE', 1.22, 2012], [437, 'UN SAC DE BILLES', 'FR / CA', 1.33, 2017], [438, 'VACANCES DE DUCOBU (LES)', 'FRANCE', 1.06, 2012], [439, 'VACHE (LA)', 'FRANCE / MAROC', 1.3, 2016], [440, 'VAIANA LA LEGENDE DU BOUT DU MONDE', 'US', 1.02, 2017], [441, 'VAIANA, LA LÉGENDE DU BOUT DU MONDE', 'ETATS UNIS', 4.53, 2016], [442, \"VALENTINE'S DAY\", 'ETATS UNIS', 1.19, 2010], [443, 'VALERIAN ET LA CITE DES MILLE PLANETES', 'FR', 4.04, 2017], [444, 'VENOM', 'US', 2.28, 2018], [445, 'VERITE SI JE MENS 3 (LA)', 'FRANCE', 4.11, 2012], [446, 'VERY BAD TRIP 2', 'ETATS UNIS', 2.51, 2011], [447, 'VERY BAD TRIP 3', 'ETATS UNIS', 1.93, 2013], [448, 'VICE-VERSA', 'ETATS UNIS', 4.41, 2015], [449, 'VISITEURS : LA REVOLUTION (LES)', 'FRANCE / BELGIQUE', 2.2, 2016], [450, 'VIVE LA FRANCE', 'FRANCE', 1.11, 2013], [451, \"VOYAGE AU CENTRE DE LA TERRE 2 : L'ILE MYSTERIEUSE\", 'ETATS UNIS', 1.32, 2012], [452, \"VOYAGE D'ARLO (LE)\", 'ETATS UNIS', 2.32, 2015], [453, 'VOYAGE EXTRAORDINAIRE DE SAMY (LE)', 'Belgique', 1.31, 2010], [454, 'WARCRAFT : LE COMMENCEMENT', 'ETATS UNIS', 1.73, 2016], [455, \"WOLVERINE : LE COMBAT DE L'IMMORTEL\", 'ETATS UNIS', 1.99, 2013], [456, 'WONDER WOMAN', 'GB', 2.15, 2017], [457, 'WORLD WAR Z', 'ETATS UNIS', 2.46, 2013], [458, 'X-MEN : APOCALYPSE', 'ETATS UNIS', 2.16, 2016], [459, 'X-MEN : DAY OF FUTURE PAST', 'ETATS-UNIS', 3.28, 2014], [460, 'X-MEN : LE COMMENCEMENT', 'ETATS UNIS', 2.1, 2011], [461, 'YETI ET COMPAGNIE', 'US', 1.85, 2018], [462, 'YVES SAINT LAURENT', 'FRANCE', 1.65, 2014], [463, 'ZARAFA', 'FRANCE', 1.44, 2012], [464, 'ZOOTOPIE', 'ETATS UNIS', 4.75, 2016]]\n"
     ]
    }
   ],
   "source": [
    "import csv\n",
    "\n",
    "films = []\n",
    "\n",
    "with open('films.csv', newline='') as csvfile:\n",
    "    spamreader = csv.reader(csvfile, delimiter=';')\n",
    "    next(spamreader)  # on passe l'entête pour avoir directement les données\n",
    "    \n",
    "    for row in (spamreader):\n",
    "        ligne=[]\n",
    "        ligne.append(int(row[0]))\n",
    "        ligne.append(str(row[1]))\n",
    "        ligne.append(str(row[2]))\n",
    "        row[3] = row[3].replace(',','.')\n",
    "        ligne.append(float(row[3]))\n",
    "        ligne.append(int(row[4]))\n",
    "             \n",
    "        films.append(ligne)\n",
    "    print(films)\n",
    "    csvfile.close()\n",
    "    \n",
    "        \n",
    "        \n",
    "    \n",
    "    "
   ]
  },
  {
   "cell_type": "markdown",
   "metadata": {},
   "source": [
    " Complément : '4,515' ... ça ne passe pas en float ! La virgule n'est pas le bon caractère, python attend un '.'\n",
    " faites une petite conversion avec la méthode [_replace_](https://www.tutorialspoint.com/python/string_replace.htm)  change ',' en '.' dans les entrées avant de convertir en float, et le tour est joué. Attention, il ne faut pas oublier d'affecter le résultat de la modification dans la donnée ! (pour changer la valeur en mémoire)\n",
    " \n",
    " donnée = donnée.replace(';','.')\n",
    " "
   ]
  },
  {
   "cell_type": "markdown",
   "metadata": {},
   "source": [
    "# Exploitation des données\n",
    "\n",
    "## interrogation\n",
    "\n",
    "On peut traduire en python une question simple. Par exemple, quels sont les films Français? \n",
    "\n",
    "Cette question se traduit par une recherche dans chaque ligne de la liste de film avec comme critère de selection la nationalité qui doit être égale à 'FRANCE' (en majuscule dans notre cas). Le résultat attendu est le film donc son titre. Il est également possible d'isoler le résultat dans une liste qui recopie toutes les informations sur le film répondant au critère.\n",
    "\n",
    "Proposer le programme python qui traduit cette recherche.\n",
    "Les données sont dans films[] suite à votre premier travail sur le fichier CSV."
   ]
  },
  {
   "cell_type": "code",
   "execution_count": null,
   "metadata": {},
   "outputs": [],
   "source": [
    "francais=[]\n",
    "for film in films:\n",
    "    \n",
    "    if str(film[2]) == 'FRANCE':\n",
    "        print(film)\n",
    "        francais.append(film)\n",
    "print(len(francais))"
   ]
  },
  {
   "cell_type": "markdown",
   "metadata": {},
   "source": [
    "A vous de construire les programmes pour répondre aux questions suivantes:\n",
    "\n",
    " 1. Combien y a t-il de films dans la base de donnée?\n",
    " 2. Combien de films sont français?\n",
    " 3. Dans les films français, combien sont des collaborations internationales?\n",
    " 4. Quel est le pourcentage de films Français (avec les films internationaux où la france à participée) dans la liste des films?\n",
    " 5. Quel film dans la liste a fait le plus grand nombre d'entrées?\n",
    " 6. Quelle année a le plus grand nombre de films ?\n",
    " 7. Les données suivent l'évolution du box-office depuis combien d'années? (rechercher le début et la fin)\n",
    " 8. Les films de quel pays ont fait le plus d'entrées, toutes années confondues?\n",
    " 9. Quelle est la répartition des films par pays?(exprimer cette répartition par pays en pourcentage de l'ensemble des films) Classer les pays du plus productif au moins productif. La réponse sera une liste des pays classée, vous utiliserez une structure de type tuple avec le couple ('pays',pourcentage)\n",
    " 10. Quel est le pays dont les films font le plus d'entrées?\n",
    " \n",
    "Pour chaque question, vous décrirez votre démarche dans un commentaire pour préciser votre stratégie.\n",
    " \n",
    " \n",
    " "
   ]
  },
  {
   "cell_type": "code",
   "execution_count": 9,
   "metadata": {},
   "outputs": [
    {
     "name": "stdout",
     "output_type": "stream",
     "text": [
      "question 1\n",
      "464\n",
      "question 2\n",
      "il y a : 98  films français dans la liste.\n",
      "il y a : 157  films où la france a participé.\n",
      "question3\n",
      "nombre de films français avec collaboration internationale: 59\n",
      "question 4\n",
      "Pourcentage de films français : 33.83620689655172 %\n",
      "question 5\n",
      "le film qui a fait le splus d'entrées est: INTOUCHABLES avec  16.67 places vendues.\n",
      "question 6\n",
      "51\n",
      "53\n",
      "53\n",
      "55\n",
      "57\n",
      "44\n",
      "53\n",
      "56\n",
      "42\n",
      "la meilleure année est 2014 avec  57 films\n",
      "[(2014, 57)]\n",
      "question 7\n",
      "2010\n",
      "2018\n",
      "l'évolution de ce box-office dure depuis  8  années\n"
     ]
    }
   ],
   "source": [
    "# 1 ) \n",
    "print(\"question 1\")\n",
    "print(len(films))\n",
    "\n",
    "\n",
    "# 2 )\n",
    "print(\"question 2\")\n",
    "francais=[]\n",
    "for film in films:\n",
    "    \n",
    "    if str(film[2]) == 'FRANCE':\n",
    "        francais.append(film)\n",
    "print(\"il y a :\",str(len(francais)),\" films français dans la liste.\")\n",
    "\n",
    "# avec les internationaux\n",
    "francais_et_inter=[]\n",
    "for film in films:\n",
    "    \n",
    "    if 'FR' in str(film[2]) :\n",
    "        francais_et_inter.append(film)\n",
    "print(\"il y a :\",str(len(francais_et_inter)),\" films où la france a participé.\")\n",
    "\n",
    "# 3 )\n",
    "print(\"question3\")\n",
    "print(\"nombre de films français avec collaboration internationale:\", str(len(francais_et_inter)-len(francais)))\n",
    "\n",
    "# 4 )\n",
    "print (\"question 4\")\n",
    "print(\"Pourcentage de films français :\", str((len(francais_et_inter)*100)/len(films)), \"%\")\n",
    "\n",
    "# 5 )\n",
    "print(\"question 5\")\n",
    "plusentrees = ''\n",
    "nbentrees = 0\n",
    "for film in films:\n",
    "    if film[3]>nbentrees:\n",
    "        plusentrees = film[1]\n",
    "        nbentrees = film[3]\n",
    "print(\"le film qui a fait le splus d'entrées est:\", plusentrees, \"avec \", str(nbentrees), \"places vendues.\")\n",
    "# 6 ) Quelle année a le plus grand nombre de films ?\n",
    "#Pour cette question, il faut compter le nombre de film par année puis trouver la mailleure année.\n",
    "#faire des compteurs dans une liste de compteur. \n",
    "#faire une liste des annees depuis la liste des films \n",
    "#compter le nombre de fois que l'année est présente dans cette liste des années. \n",
    "# trier la liste des années par nombre d'occurence pour avoir la meilleire année.\n",
    "\n",
    "print(\"question 6\")\n",
    "# on isole des années depuis la liste films[]\n",
    "lesannees = []   \n",
    "for f in films:\n",
    "    lesannees.append(f[4])\n",
    "lesannees.sort()\n",
    "\n",
    "\n",
    "# variable pour stocker la meilleure année\n",
    "lameilleureannee = lesannees[0]\n",
    "#tableau pour noter les années déjà traitées.\n",
    "dejavu=[]\n",
    "# variable pour stocker le meilleur nombre de films par année.\n",
    "nbfilm_par_annee = 0\n",
    "\n",
    "for a in lesannees:\n",
    "    if a not in dejavu:\n",
    "        print(lesannees.count(a))\n",
    "        if lesannees.count(a)> nbfilm_par_annee:\n",
    "            lameilleureannee=a\n",
    "            nbfilm_par_annee=lesannees.count(a)\n",
    "        dejavu.append(a)\n",
    "print(\"la meilleure année est\",lameilleureannee,\"avec \", nbfilm_par_annee,\"films\")\n",
    "\n",
    "# Solution avec les outils de python\n",
    "# cette opération de recherche dans une liste est courante. \n",
    "# la bibliothèque collections de python comporte un outil pour recherche les occurences dans une liste.\n",
    "# l'appel de la bibliothèque est rapide et le code en un ligne...\n",
    "from collections import Counter\n",
    "print(Counter(lesannees).most_common(1)) \n",
    "\n",
    "# 7 ) Les données suivent l'évolution du box-office depuis combien d'années? (rechercher le début et la fin)\n",
    "# on recherche ici les limites des valeurs de la liste des années\n",
    "print(\"question 7\")\n",
    "print(min(lesannees))\n",
    "print(max(lesannees))\n",
    "print(\"l'évolution de ce box-office dure depuis \",max(lesannees)-min(lesannees), \" années\")\n",
    "\n",
    "\n",
    "# 8 ) Les films de quel pays ont fait le plus d'entrées, toutes années confondues?\n",
    "# il faut dans cette question avoir la somme des entrées par pays\n",
    "# puis trouver le pays qui a le plus d'entrées\n",
    "#Premiere étape: construire une liste des pays\n",
    "# utilisation d'un set qui isole une occurence de chaque élément d'une liste. Les doublons sont effacés.\n",
    "\n",
    "#deuxième etape compter le nombre d'entrées faite par chaque pays et l'associer au pays.\n",
    "\n",
    "#dernière étape: trouver le pays qui fait le plus grand nombre d'entrée !\n",
    "\n",
    "# 9 )Quelle est la répartition des films par pays?(exprimer cette répartition par \n",
    "#pays en pourcentage de l'ensemble des films) Classer les pays du plus productif \n",
    "#au moins productif. La réponse sera une liste des pays classée, vous utiliserez\n",
    "#une structure de type tuple avec le couple ('pays',pourcentage)\n",
    "\n",
    "# 10 ) Quel est le pays dont les films font le plus d'entrées?\n",
    "\n",
    "\n"
   ]
  },
  {
   "cell_type": "code",
   "execution_count": null,
   "metadata": {},
   "outputs": [],
   "source": []
  }
 ],
 "metadata": {
  "kernelspec": {
   "display_name": "Python 3",
   "language": "python",
   "name": "python3"
  },
  "language_info": {
   "codemirror_mode": {
    "name": "ipython",
    "version": 3
   },
   "file_extension": ".py",
   "mimetype": "text/x-python",
   "name": "python",
   "nbconvert_exporter": "python",
   "pygments_lexer": "ipython3",
   "version": "3.6.8"
  }
 },
 "nbformat": 4,
 "nbformat_minor": 2
}
