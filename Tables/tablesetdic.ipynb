{
 "cells": [
  {
   "cell_type": "markdown",
   "metadata": {},
   "source": [
    "On constate, qu'il est difficile de comprendre le contenu des données. Pour rendre l'ensemble plus lisible, nous allons utiliser un dictionnaire pour associer une clé à une valeur. Par exemple: clé = 'nom du film'. \n",
    "\n",
    "Pour construire ce dictionnaire à partir du fichier csv, nous avons des outils dans la bibliothèque csv. "
   ]
  },
  {
   "cell_type": "markdown",
   "metadata": {},
   "source": [
    "csv.DictReader crée un objet qui opère comme un lecteur ordinaire mais assemble les informations de chaque ligne dans un dict dont les clés sont données par le paramètre optionnel fieldnames.\n",
    "\n",
    "Si le fieldnames n'est pas renseigné, alors les valeurs de la première ligne du fichier f sont utilisées comme noms de champs. Sans se soucier de comment sont déterminés les noms de champs, le dictionnaire préserve leur ordre original.\n",
    "\n"
   ]
  },
  {
   "cell_type": "code",
   "execution_count": null,
   "metadata": {},
   "outputs": [],
   "source": [
    "[f['titre'] for f in films if f['nationalité']== 'FRANCE']\n"
   ]
  },
  {
   "cell_type": "markdown",
   "metadata": {},
   "source": [
    "Le résultat de cette interrogation est une liste. Les réponse positive au test  if f['nationalité']== 'FRANCE' pour tous les films de la liste des films vient compléter la liste f avec le titre issu du dictionnaire.\n",
    "\n",
    "De la même façon, afficher les films sortis en 2016:"
   ]
  },
  {
   "cell_type": "markdown",
   "metadata": {},
   "source": [
    "## tri\n",
    "\n",
    "Pour exploiter les données, il peut être intéressant de les trier. Une utilisation possible est l’obtention du classement des entréesselon  tel  ou  tel  critère.\n",
    "\n",
    "Tri selon un unique critère:\n",
    "\n",
    "On ne peut pas directement trier le tableau fimls... car cela ne veut rien dire. Il faut indiquer selon quels critères on veut effectuer ce tri. Pour cela, on appelle la fonction sorted ou la méthode sort avec l’argument supplémentaire key qui est une fonction renvoyant la valeur utilisée pour le tri.\n",
    "\n",
    "remarque : sort trie la liste en place alors que sorted() renvoie une nouvelle liste triée, la liste initiale reste intacte.\n",
    "\n",
    "Classer les films par année.\n",
    "\n"
   ]
  },
  {
   "cell_type": "code",
   "execution_count": null,
   "metadata": {},
   "outputs": [],
   "source": []
  }
 ],
 "metadata": {
  "kernelspec": {
   "display_name": "Python 3",
   "language": "python",
   "name": "python3"
  },
  "language_info": {
   "codemirror_mode": {
    "name": "ipython",
    "version": 3
   },
   "file_extension": ".py",
   "mimetype": "text/x-python",
   "name": "python",
   "nbconvert_exporter": "python",
   "pygments_lexer": "ipython3",
   "version": "3.6.8"
  }
 },
 "nbformat": 4,
 "nbformat_minor": 2
}
