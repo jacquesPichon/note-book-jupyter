{
 "cells": [
  {
   "cell_type": "markdown",
   "metadata": {},
   "source": [
    "# Mise au point sur la portée des variables\n",
    "\n",
    "Les variables sont utilisées dans les programmes. Une variable va contenir une donnée qui sera stockée dans une zone de la mémoire de l'ordinateur. \n",
    "\n",
    "On peut la modifier, la consulter, l'effacer ...\n",
    "\n",
    "La variable peut contenir des données simples comme des données plus complexes avec une structure plus organisée. \n",
    "\n",
    "Pour modifier une variable, il convient d'êtr vigilant sur l'accès à la variable. Dans certains cas, on pourra consulter le contenu de la variable mais pas le modifier. Dans d'autres situations, le contenu sera modifié par 'erreur' en modifiant une autre variable liée.\n",
    "\n",
    "## Variable globale\n",
    "\n",
    "Dans un programme, les variables définies en dans le programme principal sont complètement disponibles."
   ]
  },
  {
   "cell_type": "code",
   "execution_count": null,
   "metadata": {},
   "outputs": [],
   "source": [
    "var1 = 4\n",
    "mon = 'paul'\n",
    "\n",
    "if nom == 'paul': \n",
    "    nom = 'Paul'\n",
    "\n",
    "print(nom)\n"
   ]
  },
  {
   "cell_type": "markdown",
   "metadata": {},
   "source": [
    "## Utilisation d'une variable dans une fonction\n",
    "\n",
    "Si on définit une fonction qui utilise une variable. Cette variable est lisible par la fonction. La focntion va consulter le contenu de la memoire associée à la variable.\n",
    "\n",
    "Dans l'exempl ci-dessous, on a une procérdure qui utilise la variable a.\n",
    "\n"
   ]
  },
  {
   "cell_type": "code",
   "execution_count": 1,
   "metadata": {},
   "outputs": [
    {
     "name": "stdout",
     "output_type": "stream",
     "text": [
      "11\n"
     ]
    }
   ],
   "source": [
    "a = 5\n",
    "\n",
    "def fonction1():\n",
    "    resultat = a + 6\n",
    "    print(resultat)\n",
    "\n",
    "fonction1()"
   ]
  },
  {
   "cell_type": "markdown",
   "metadata": {},
   "source": [
    "Ca fonctionne correctement tant que la variable a existe avant l'appel de la fonction. Si on souhaite utiliser la fonction1 dans un autre programme sans la variable 'a', on est coincé !!!\n",
    "\n",
    "\n",
    "Le programme suivant avec la focntion2 utilise le passage d'un paramètre dans la fonction.\n"
   ]
  },
  {
   "cell_type": "code",
   "execution_count": 3,
   "metadata": {},
   "outputs": [
    {
     "name": "stdout",
     "output_type": "stream",
     "text": [
      "11\n"
     ]
    }
   ],
   "source": [
    "a = 5\n",
    "\n",
    "def fonction2(valeur):\n",
    "    resultat = valeur + 6\n",
    "    print(resultat)\n",
    "\n",
    "fonction2(a)"
   ]
  },
  {
   "cell_type": "markdown",
   "metadata": {},
   "source": [
    "\n",
    "La fonction2 peut être utilisée avec tous les programme. Dans sa définition, l'argument 'valeur' va permettre de passer des paramètres dans la fonction.\n",
    "\n",
    " - a l'appel de focntion2(a): valeur prend le contenu de la variable a\n",
    " - la focntion s'exécute avec le contenu de a dans la variable locale 'valeur'\n",
    " - à aucun moment on modifie 'a', on l'utilise\n",
    " \n",
    "Si maintenant je souhaite modifier 'a' dans par une fonction3:\n",
    " "
   ]
  },
  {
   "cell_type": "code",
   "execution_count": 6,
   "metadata": {},
   "outputs": [
    {
     "name": "stdout",
     "output_type": "stream",
     "text": [
      "5\n"
     ]
    }
   ],
   "source": [
    "a= 5\n",
    "\n",
    "def fonction3(valeur):\n",
    "    resultat = valeur + 6\n",
    "    a = resultat     \n",
    "    \n",
    "fonction3(a)\n",
    "print(a)"
   ]
  },
  {
   "cell_type": "markdown",
   "metadata": {},
   "source": [
    " Attention !!!!  a est toujours égal à 5 !!!\n",
    " 'a' est une variable du programme principal. On ne peut pas la modifier dans une fonction. Pendant l'exécution de la fonction3, une nouvelle variable a est créée. Elle existe uniquement dans la fonction3. \n",
    "\n",
    "## Variable globale ou variable locale\n",
    "\n",
    " On dit que la portée de la variable est locale ou globale. \n",
    " \n",
    "  - Variable locale : ne peut pas être modifiée en dehors d'une fonction\n",
    "  - Variable globale : peut être modifiée dans le programme d'une fonction\n",
    "  \n",
    " \n",
    " Alors on peut tricher et rendre une variable du programme principal global avec une portée globale sur tous les éléments où elles est définie global. C'est une pratique à éviter, car il est plus élégant et efficace de passer les paramètres à l'appel de la fonction.\n",
    " \n",
    "Pour modifier a dans une focntion,on modifie la fonction3 comme ceci:"
   ]
  },
  {
   "cell_type": "code",
   "execution_count": 7,
   "metadata": {},
   "outputs": [
    {
     "name": "stdout",
     "output_type": "stream",
     "text": [
      "11\n"
     ]
    }
   ],
   "source": [
    "def fonction3(valeur):\n",
    "    global a              # la vaiable du programme principal est intégrée dans la fonction. \n",
    "    resultat = valeur + 6\n",
    "    a = resultat           # on affecte resultat dans la variable 'globale' donc du programme principal\n",
    "    \n",
    "fonction3(a)\n",
    "print(a)"
   ]
  },
  {
   "cell_type": "markdown",
   "metadata": {},
   "source": [
    "Ceci est bien joli mais , on ne peut pas exploiter la fontion4 dans un autre programme. Cette fonction est liée à son programme. Sur des projets importants, cette dépendance du code et des variables n'est pas fiable. Chaque fonction doit pouvoir s'exécuter sans dépendre des variables globales. \n",
    "\n",
    "\n",
    "## Retour d'une fonction\n",
    "\n",
    "Une fonction que=i ne renvoie pas de résultat est une procédure. elle s'éxécute sans changer les variables. \n",
    "\n",
    "Si une fonction doit rendre un résultat après un traitement, elle contient un ou plusieurs \"return\".\n",
    "\n",
    "L'exemple suivant reprend la fonction1  avec un return pour rendre le résultat au programme principal.\n"
   ]
  },
  {
   "cell_type": "code",
   "execution_count": 8,
   "metadata": {},
   "outputs": [
    {
     "name": "stdout",
     "output_type": "stream",
     "text": [
      "11\n"
     ]
    }
   ],
   "source": [
    "a = 5 \n",
    "\n",
    "def fonc1(valeur):\n",
    "    resultat = valeur + 6\n",
    "    return resultat\n",
    "\n",
    "\n",
    "print(fonc1(a))\n"
   ]
  },
  {
   "cell_type": "markdown",
   "metadata": {},
   "source": [
    "Interprétation du code:\n",
    " - print(fonc1(a)) : \n",
    "         - va prendre la valeur de la variable a .\n",
    "         - execute fonc1 avec valeur qui prend la valeur de la variable a.\n",
    "         - le résultat est calculé et affecté dans resultat.\n",
    "         - resultat est renvoyé par return resultat.\n",
    " - le résultat est affiché en console: 11"
   ]
  },
  {
   "cell_type": "markdown",
   "metadata": {},
   "source": [
    "Donc si on doit modifier une valeur du programme principal, il faut affecter le retour d'un fonction dans la variable du programme principal. De cette façon, la focntion reste complètement indépendant mais on fait évoluer les données du programme principal. \n",
    "\n",
    "Dans le code ci-dessous, fonc2 va modifier a en affectant le résultat du traitement réalisé par la fonction dans a:"
   ]
  },
  {
   "cell_type": "code",
   "execution_count": 9,
   "metadata": {},
   "outputs": [
    {
     "name": "stdout",
     "output_type": "stream",
     "text": [
      "11\n"
     ]
    }
   ],
   "source": [
    "a= 5\n",
    "\n",
    "def fonc2(valeur):\n",
    "    resultat = valeur + 6\n",
    "    return resultat\n",
    "\n",
    "a = fonc2(a)    # le traitemetn de la fonction fait évoluer la valeur contenue dans la variable a.\n",
    "print(a)"
   ]
  },
  {
   "cell_type": "markdown",
   "metadata": {},
   "source": [
    "# Conclusion\n",
    "\n",
    "il est important de savoir ce qui change en mémoire après une fonction. La maitrise du passage des paramètres est une étape importante dans l'apprentissage de la programmation. \n",
    "\n",
    "L'utilisation des variables globales en python doit selimiter à des petits exercices. Dès que la complexté augmente, il faut impérativement dissocier le programme principal du contenu des variables. Les fonctions doivent être autonomes et pouvoir s'utiliser dans d'autres applications. C'est la notion de bibliothèque de fonctions ou de module. "
   ]
  },
  {
   "cell_type": "markdown",
   "metadata": {},
   "source": [
    "# Exercices\n",
    "\n",
    "Pour mettre en pratique cette notion de variable globale ou locale, voici des applications simples. \n",
    "\n",
    "Vous pouvez voir le défilement du votre programme en mode débug pour voir les variables locales et globales avec python tutor ou avec le débugger de Thonny.\n"
   ]
  },
  {
   "cell_type": "markdown",
   "metadata": {},
   "source": [
    "## Exercice 1 : procédure\n",
    "\n",
    "Un gardien de phare va aux toilettes cinq fois par jour. Or les WC sont au rez-de-chaussée…\n",
    "\n",
    "Écrire une procédure (donc sans return) hauteurParcourue qui reçoit deux paramètres, le nombre de marches du phare et la hauteur de chaque marche (en cm), et qui affiche :\n",
    "\n",
    " -Pour x marches de y cm, il parcourt z.zz m par semaine.\n",
    " \n",
    "On n'oubliera pas :\n",
    "\n",
    "    - qu'une semaine comporte 7 jours ;\n",
    "    - qu'une fois en bas, le gardien doit remonter ;\n",
    "    - que le résultat est à exprimer en m.\n",
    "    \n",
    "Pour bien visualiser le passage des paramètres dans la focntion utilisez le mode débug de Thonny.\n"
   ]
  },
  {
   "cell_type": "code",
   "execution_count": null,
   "metadata": {},
   "outputs": [],
   "source": []
  },
  {
   "cell_type": "markdown",
   "metadata": {},
   "source": [
    "## Exercice 2\n",
    "\n",
    "\n",
    "\n",
    "Il s'agit d'écrire, d'une part, un programme principal et, d'autre part, une fonction utilisée dans le programme principal.\n",
    "\n",
    "La fonction listAleaInt(n, a, b) retourne une liste de n entiers aléatoires dans [a .. b] en utilisant la fonction randint(a, b) du module random.\n",
    "\n",
    "Dans le programme principal :\n",
    "\n",
    "    construire la liste en appelant la fonction listAleaInt() ;\n",
    "    calculer l'index de la case qui contient le minimum ;\n",
    "    échangez le premier élément du tableau avec son minimum.\n",
    "\n",
    "Dans cet exercice, vous pourrez voir la constructiond e la liste avec l'affectation par le retuen. (toujours avec le mode debug )"
   ]
  },
  {
   "cell_type": "code",
   "execution_count": null,
   "metadata": {},
   "outputs": [],
   "source": []
  },
  {
   "cell_type": "markdown",
   "metadata": {},
   "source": [
    "## Exercice 2 '\n",
    "\n",
    "Vous pouvez transformer votre programme en écrivant une fonction pour: \n",
    "    - echanger deux éléments dans une liste.\n",
    "    - trouver le plus petit élément d'une liste et renvoyer l'index de celui-ci.\n",
    "    "
   ]
  },
  {
   "cell_type": "code",
   "execution_count": null,
   "metadata": {},
   "outputs": [],
   "source": []
  },
  {
   "cell_type": "markdown",
   "metadata": {},
   "source": [
    "## exercice 3\n",
    "\n",
    "\n",
    "Comme précédemment, il s'agit d'écrire, d'une part, un programme principal et, d'autre part, des fonctions utilisées dans le programme principal.\n",
    "\n",
    "La fonction listAleaFloat(n) retourne une liste de n flottants aléatoires en utilisant la fonction random() du module random.\n",
    "\n",
    "Dans le programme principal :\n",
    "\n",
    "    - saisir un entier n dans l'intervalle : [2 .. 100] ;\n",
    "    - construire la liste en appelant la fonction listAleaFloat() ;\n",
    "    - afficher l'amplitude du tableau (écart entre sa plus grande et sa plus petite valeur) ;\n",
    "    - afficher la moyenne du tableau.\n",
    "\n",
    "Vous pouvez si vous le souhaitez faire des sous fonctions pour découper votre programme en opérations simples.\n"
   ]
  },
  {
   "cell_type": "code",
   "execution_count": null,
   "metadata": {},
   "outputs": [],
   "source": []
  }
 ],
 "metadata": {
  "kernelspec": {
   "display_name": "Python 3",
   "language": "python",
   "name": "python3"
  },
  "language_info": {
   "codemirror_mode": {
    "name": "ipython",
    "version": 3
   },
   "file_extension": ".py",
   "mimetype": "text/x-python",
   "name": "python",
   "nbconvert_exporter": "python",
   "pygments_lexer": "ipython3",
   "version": "3.6.8"
  }
 },
 "nbformat": 4,
 "nbformat_minor": 2
}
