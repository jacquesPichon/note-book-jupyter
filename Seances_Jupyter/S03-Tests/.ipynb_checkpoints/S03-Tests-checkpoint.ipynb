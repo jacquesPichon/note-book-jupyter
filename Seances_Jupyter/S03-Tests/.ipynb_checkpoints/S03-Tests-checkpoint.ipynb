{
 "cells": [
  {
   "cell_type": "markdown",
   "metadata": {},
   "source": [
    "\n",
    "# Tests et conditions\n",
    "\n",
    "## Des outils pour comparer\n",
    "\n",
    "Ce sont les *opérateurs de comparaison* :\n",
    "\n",
    "<img src=\"img/comparaison.png\" width=100%>\n",
    "\n",
    "Evalue les cellules suivantes pour comprendre la syntaxe."
   ]
  },
  {
   "cell_type": "code",
   "execution_count": 1,
   "metadata": {},
   "outputs": [],
   "source": [
    "a = 2"
   ]
  },
  {
   "cell_type": "code",
   "execution_count": 2,
   "metadata": {},
   "outputs": [
    {
     "data": {
      "text/plain": [
       "True"
      ]
     },
     "execution_count": 2,
     "metadata": {},
     "output_type": "execute_result"
    }
   ],
   "source": [
    "a == 2"
   ]
  },
  {
   "cell_type": "code",
   "execution_count": 3,
   "metadata": {},
   "outputs": [
    {
     "data": {
      "text/plain": [
       "False"
      ]
     },
     "execution_count": 3,
     "metadata": {},
     "output_type": "execute_result"
    }
   ],
   "source": [
    "a == 3"
   ]
  },
  {
   "cell_type": "code",
   "execution_count": 4,
   "metadata": {},
   "outputs": [
    {
     "data": {
      "text/plain": [
       "True"
      ]
     },
     "execution_count": 4,
     "metadata": {},
     "output_type": "execute_result"
    }
   ],
   "source": [
    "a == 2.0"
   ]
  },
  {
   "cell_type": "code",
   "execution_count": 5,
   "metadata": {},
   "outputs": [
    {
     "data": {
      "text/plain": [
       "False"
      ]
     },
     "execution_count": 5,
     "metadata": {},
     "output_type": "execute_result"
    }
   ],
   "source": [
    "a is 2.0"
   ]
  },
  {
   "cell_type": "code",
   "execution_count": 6,
   "metadata": {},
   "outputs": [
    {
     "data": {
      "text/plain": [
       "True"
      ]
     },
     "execution_count": 6,
     "metadata": {},
     "output_type": "execute_result"
    }
   ],
   "source": [
    "a != 100"
   ]
  },
  {
   "cell_type": "code",
   "execution_count": 7,
   "metadata": {},
   "outputs": [
    {
     "data": {
      "text/plain": [
       "False"
      ]
     },
     "execution_count": 7,
     "metadata": {},
     "output_type": "execute_result"
    }
   ],
   "source": [
    "a > 2"
   ]
  },
  {
   "cell_type": "code",
   "execution_count": 8,
   "metadata": {},
   "outputs": [
    {
     "data": {
      "text/plain": [
       "True"
      ]
     },
     "execution_count": 8,
     "metadata": {},
     "output_type": "execute_result"
    }
   ],
   "source": [
    "a >= 2"
   ]
  },
  {
   "cell_type": "code",
   "execution_count": 9,
   "metadata": {},
   "outputs": [
    {
     "data": {
      "text/plain": [
       "True"
      ]
     },
     "execution_count": 9,
     "metadata": {},
     "output_type": "execute_result"
    }
   ],
   "source": [
    "a = \"Alice\"\n",
    "b = \"Bob\"\n",
    "a < b"
   ]
  },
  {
   "cell_type": "code",
   "execution_count": 10,
   "metadata": {},
   "outputs": [
    {
     "data": {
      "text/plain": [
       "True"
      ]
     },
     "execution_count": 10,
     "metadata": {},
     "output_type": "execute_result"
    }
   ],
   "source": [
    "\"e\" in a"
   ]
  },
  {
   "cell_type": "code",
   "execution_count": 11,
   "metadata": {},
   "outputs": [
    {
     "data": {
      "text/plain": [
       "False"
      ]
     },
     "execution_count": 11,
     "metadata": {},
     "output_type": "execute_result"
    }
   ],
   "source": [
    "\"e\" in b"
   ]
  },
  {
   "cell_type": "code",
   "execution_count": 12,
   "metadata": {},
   "outputs": [
    {
     "data": {
      "text/plain": [
       "False"
      ]
     },
     "execution_count": 12,
     "metadata": {},
     "output_type": "execute_result"
    }
   ],
   "source": [
    "ma_liste = [1, 10, 100]\n",
    "2 in ma_liste"
   ]
  },
  {
   "cell_type": "markdown",
   "metadata": {},
   "source": [
    "Ces opérateurs permettent de réaliser des tests basiques. Pour des tests plus évolués on utilisera des \"mots de liaison\" logiques.\n"
   ]
  },
  {
   "cell_type": "markdown",
   "metadata": {},
   "source": [
    "## Les connecteurs logiques\n",
    "\n",
    "- `and` permet de vérifier que 2 conditions sont *vérifiées simultanément*;\n",
    "- `or` permet de vérifier qu' *au moins une des deux conditions* est vérifiée;\n",
    "- `not` est un opérateur de *négation* très utile si on veut vérifier qu'une condition est fausse.\n",
    "\n",
    "Voici les tables de vérité de `and` et de `not`\n",
    "\n",
    "<img src=\"img/tables.png\" width=50%>\n",
    "\n",
    "\n",
    "À ceci on peut ajouter que `not True` vaut `False` et vice-versa.\n",
    "\n",
    "Evalue les cellules suivantes."
   ]
  },
  {
   "cell_type": "code",
   "execution_count": null,
   "metadata": {},
   "outputs": [],
   "source": [
    "True and False"
   ]
  },
  {
   "cell_type": "code",
   "execution_count": null,
   "metadata": {},
   "outputs": [],
   "source": [
    "True or False"
   ]
  },
  {
   "cell_type": "code",
   "execution_count": null,
   "metadata": {},
   "outputs": [],
   "source": [
    "not True"
   ]
  },
  {
   "cell_type": "code",
   "execution_count": null,
   "metadata": {},
   "outputs": [],
   "source": [
    "resultats = 12.8\n",
    "mention_bien = resultats >= 14 and resultats < 16\n",
    "print(\"On a défini une variable de type\", type(mention_bien))\n",
    "print(\"Sa valeur est \", mention_bien)"
   ]
  },
  {
   "cell_type": "markdown",
   "metadata": {},
   "source": [
    "## test `if`"
   ]
  },
  {
   "cell_type": "markdown",
   "metadata": {},
   "source": [
    "Voici le schéma de fonctionnement d'un test `if` :\n",
    "<img src=\"img/if.png\" width=50%>\n",
    "\n",
    "**Attention :** Un bloc conditionnel doit être *tabulé* par rapport à la ligne précédente : il n'y a ni *DébutSi*  ni *FinSi*\n",
    "en Python, ce sont les tabulations qui délimitent les blocs.\n",
    "\n",
    "Executer la cellule suivante 2 fois:\n",
    "- la première fois en répondant O;\n",
    "- la deuxième fois en répondant N.\n"
   ]
  },
  {
   "cell_type": "code",
   "execution_count": null,
   "metadata": {},
   "outputs": [],
   "source": [
    "phrase = \"Je vous trouve très joli\"\n",
    "reponse = input(\"Etes vous une femme ?(O/N) : \")\n",
    "if reponse == \"O\":  # voici le test, la ligne se termine par les deux points (:)\n",
    "    phrase = (\n",
    "        phrase + \"e\"\n",
    "    )  # voici ce qui doit être éxecuté si la condition est vraie, cette ligne est tabulée.\n",
    "phrase += \".\"  # on a terminé le bloc conditionnel\n",
    "print(phrase)"
   ]
  },
  {
   "cell_type": "markdown",
   "metadata": {},
   "source": [
    "Remarquer l'importance de la tabulation : éxecuter cette cellule (qui comporte un code correct)."
   ]
  },
  {
   "cell_type": "code",
   "execution_count": null,
   "metadata": {},
   "outputs": [],
   "source": [
    "age = input(\"Entre ton âge :\")\n",
    "# on demande à l'utilisateur son age, mais input renvoie un str\n",
    "age = int(age)  # pour convertir  le str en int on utilise donc la fonction int\n",
    "if age > 100:\n",
    "    print(\"Wow, tu es en forme pour ton âge !\")"
   ]
  },
  {
   "cell_type": "markdown",
   "metadata": {},
   "source": [
    "Et celle-ci (code mal tabulé)."
   ]
  },
  {
   "cell_type": "code",
   "execution_count": null,
   "metadata": {},
   "outputs": [],
   "source": [
    "age = input(\"Entre ton âge :\")\n",
    "# on demande à l'utilisateur son age, mais input renvoie un str\n",
    "age = int(age)  # pour convertir  le str en int on utilise donc la fonction int\n",
    "if age > 100:\n",
    "    print(\"Vraiment ?\")\n",
    "print(\"Wow, tu es en forme pour ton âge !\")"
   ]
  },
  {
   "cell_type": "markdown",
   "metadata": {},
   "source": [
    "**Il faudra bien faire attention aux tabulations : \n",
    "un script mal tabulé ne génére pas nécessairement une erreur mais ne produit pas le résultat attendu.**"
   ]
  },
  {
   "cell_type": "markdown",
   "metadata": {},
   "source": [
    "## Test `if` ... `else`\n",
    "Voici le schéma de fonctionnement d'un test `if`...`else` :\n",
    "\n",
    "Il correspond à : \n",
    "- si *condition* alors *fais quelquechose* \n",
    "- sinon *fais autre chose*.\n",
    "<img src=\"img/if.png\" width=50%>"
   ]
  },
  {
   "cell_type": "code",
   "execution_count": null,
   "metadata": {},
   "outputs": [],
   "source": [
    "print('Bonjour')\n",
    "age = int(input('Entrez votre age : '))\n",
    "if age >= 18:\n",
    "    print('Vous etes majeur')\n",
    "else:\n",
    "    print('Vous etes mineur.')\n",
    "print('Au revoir.')"
   ]
  },
  {
   "cell_type": "markdown",
   "metadata": {},
   "source": [
    "## Test `if` ... `elif` ...\n",
    "\n",
    "Il correspond à :\n",
    "- si *condition* alors *fais quelquechose*\n",
    "- sinon si *autre condition* alors  *fait autre chose*\n",
    "- on peut mettre autant de *sinon si* que nécessaire\n",
    "- il peut y avoir un dernier *sinon* à la fin **MAIS CE N'EST PAS OBLIGATOIRE**\n",
    "<img src=\"img/elif.png\" width=100%>\n",
    "\n",
    "Voici un exemple à éxecuter :"
   ]
  },
  {
   "cell_type": "code",
   "execution_count": null,
   "metadata": {},
   "outputs": [],
   "source": [
    "print('Bonjour')\n",
    "prenom = input('Entrez un prénom : ')\n",
    "if prenom == 'Robert':\n",
    "    print(\"Robert, c'est le prénom de mon grand-père.\")\n",
    "elif prenom == 'Raoul':\n",
    "    print(\"Mon oncle s'appelle Raoul.\")\n",
    "elif prenom == 'Médor':\n",
    "    print(\"Médor, comme mon chien !\")\n",
    "else:\n",
    "    print(\"Connais pas\")\n",
    "print('Au revoir.')"
   ]
  },
  {
   "cell_type": "markdown",
   "metadata": {},
   "source": [
    "### <font color=red>EXERCICE 1 :</font>\n",
    "Le numéro de sécurité sociale (NSS) est constitué de 13 chiffres auquel s’ajoute la clé de\n",
    "contrôle (2 chiffres).\n",
    "\n",
    "Exemple : <font color=blue>1 89 11 26 108 268</font> <font color=red>91</font> est un NSS : les chiffres en rouge sont la clé de contrôle.\n",
    "\n",
    "Cette clé permet de détecter si le NSS est valide ou non (au cas où il aurait été mal tapé ou recopié).\n",
    "\n",
    "On trouve la clé à partir des 13 chiffres en faisant\n",
    "\n",
    "<center> 97 - (le nombre à 13 chiffres, modulo 97) </center>\n",
    "\n",
    "Ecrire un script qui demande à un utilisateur son numéro de sécurité sociale, puis qui vérifie si la clé est valide ou non.>"
   ]
  },
  {
   "cell_type": "code",
   "execution_count": null,
   "metadata": {},
   "outputs": [],
   "source": []
  },
  {
   "cell_type": "markdown",
   "metadata": {},
   "source": [
    "### <font color=red>EXERCICE 2 :</font>\n",
    "Écrire un script qui demande l’âge d’un enfant à l’utilisateur puis qui l’informe ensuite\n",
    "de sa catégorie :\n",
    "- Poussin de 6 à 7 ans.\n",
    "- Pupille de 8 à 9 ans.\n",
    "- Minime de 10 à 11 ans.\n",
    "- Cadet après 12 ans."
   ]
  },
  {
   "cell_type": "code",
   "execution_count": null,
   "metadata": {},
   "outputs": [],
   "source": []
  },
  {
   "cell_type": "markdown",
   "metadata": {},
   "source": [
    "### <font color=red>EXERCICE 3 :</font>\n",
    "[Faire le QCM suivant](http://fabrice.sincere.free.fr/qcm/qcm.php?nom=qcm_python3x_2)"
   ]
  }
 ],
 "metadata": {
  "kernelspec": {
   "display_name": "Python 3",
   "language": "python",
   "name": "python3"
  },
  "language_info": {
   "codemirror_mode": {
    "name": "ipython",
    "version": 3
   },
   "file_extension": ".py",
   "mimetype": "text/x-python",
   "name": "python",
   "nbconvert_exporter": "python",
   "pygments_lexer": "ipython3",
   "version": "3.6.8"
  }
 },
 "nbformat": 4,
 "nbformat_minor": 2
}
