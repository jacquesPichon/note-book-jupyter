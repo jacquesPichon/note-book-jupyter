{
 "cells": [
  {
   "cell_type": "markdown",
   "metadata": {},
   "source": [
    "# Entrées - Sorties\n",
    "\n",
    "## Sortie : la fonction `print`\n",
    "Pour afficher quelquechose à l'écran, il faut utiliser la fonction `print`"
   ]
  },
  {
   "cell_type": "code",
   "execution_count": null,
   "metadata": {},
   "outputs": [],
   "source": [
    "print(\"Salut\")"
   ]
  },
  {
   "cell_type": "markdown",
   "metadata": {},
   "source": [
    "On peut afficher le contenu des variables."
   ]
  },
  {
   "cell_type": "code",
   "execution_count": null,
   "metadata": {},
   "outputs": [],
   "source": [
    "a = 2\n",
    "b = 4\n",
    "print(a + b)"
   ]
  },
  {
   "cell_type": "markdown",
   "metadata": {},
   "source": [
    "On peut afficher plusieurs choses en les séparant par une virgule."
   ]
  },
  {
   "cell_type": "code",
   "execution_count": null,
   "metadata": {},
   "outputs": [],
   "source": [
    "print(\"a vaut\", a, \"et b vaut\", b)"
   ]
  },
  {
   "cell_type": "markdown",
   "metadata": {},
   "source": [
    "## Entrée : la fonction `input`\n",
    "\n",
    "En entrée, elle prend un `str`, en sortie elle donne un `str` :"
   ]
  },
  {
   "cell_type": "code",
   "execution_count": null,
   "metadata": {},
   "outputs": [],
   "source": [
    "reponse = input(\"Dis moi ton nom : \")\n",
    "print(type(reponse))"
   ]
  },
  {
   "cell_type": "markdown",
   "metadata": {},
   "source": [
    "Si on veut par exemple récupérer un `int`, alors il faut convertir le résultat de `input` :"
   ]
  },
  {
   "cell_type": "code",
   "execution_count": null,
   "metadata": {},
   "outputs": [],
   "source": [
    "age = input(\"Quel est ton âge ? \")\n",
    "age = int(age)"
   ]
  },
  {
   "cell_type": "markdown",
   "metadata": {},
   "source": [
    "On peut raccourcir :"
   ]
  },
  {
   "cell_type": "code",
   "execution_count": null,
   "metadata": {},
   "outputs": [],
   "source": [
    "age = int(input(\"Donne moi ton âge : \"))"
   ]
  },
  {
   "cell_type": "markdown",
   "metadata": {},
   "source": [
    "**Remarque :** Si on demande un int et que l'utilisateur entre autre chose, cela produira une erreur, mais nous ne traiterons pas ce cas maintenant : on suppose que l'utilisateur ne commet pas d'erreur. "
   ]
  },
  {
   "cell_type": "markdown",
   "metadata": {},
   "source": [
    "### <font color=red>EXERCICE 1 :</font>\n",
    "Le script suivant produit une erreur. Execute-le :"
   ]
  },
  {
   "cell_type": "code",
   "execution_count": null,
   "metadata": {},
   "outputs": [],
   "source": [
    "age = input(\"Quel est ton age ? \")\n",
    "vieux = 10 + age\n",
    "print(\"Dans 10 ans tu auras \", vieux, \" ans.\")"
   ]
  },
  {
   "cell_type": "markdown",
   "metadata": {},
   "source": [
    "À l'aide d'une conversion de type, rectifie ce script dans la cellule suivante :"
   ]
  },
  {
   "cell_type": "code",
   "execution_count": null,
   "metadata": {},
   "outputs": [],
   "source": [
    "age = input('Quel est ton age ? ')\n",
    "vieux = 10 + age\n",
    "print('Dans 10 ans tu auras ', vieux, ' ans.')"
   ]
  },
  {
   "cell_type": "markdown",
   "metadata": {},
   "source": [
    "### <font color=red>EXERCICE 2 :</font>\n",
    "Le numéro de sécurité sociale (NSS) est constitué de 13 chiffres auquel s’ajoute la clé de\n",
    "contrôle (2 chiffres).\n",
    "\n",
    "Exemple : <font color=blue>1 89 11 26 108 268</font> <font color=red>91</font> est un NSS : les chiffres en rouge sont la clé de contrôle.\n",
    "\n",
    "Cette clé permet de détecter si le NSS est valide ou non (au cas où il aurait été mal tapé ou recopié).\n",
    "\n",
    "On trouve la clé à partir des 13 chiffres en faisant\n",
    "\n",
    "<center> 97 - (le nombre à 13 chiffres, modulo 97) </center>\n",
    "\n",
    "Ecrire un script qui, à partir des 13 chiffres, affiche le numéro complet."
   ]
  },
  {
   "cell_type": "code",
   "execution_count": null,
   "metadata": {},
   "outputs": [],
   "source": []
  },
  {
   "cell_type": "markdown",
   "metadata": {},
   "source": [
    "### <font color=red>EXERCICE 3 :</font>\n",
    "\n",
    "L’identifiant d’accès au réseau du lycée est construit de la manière suivante : initiale du\n",
    "prénom puis les 8 premiers caractères du nom (le tout en minuscule).\n",
    "\n",
    "\n",
    "Exemple : Alexandre Lecouturier donne `alecoutur`.\n",
    "\n",
    "\n",
    "Écrire un script qui, à partir des deux variables prenom et nom, affiche l’identifiant.\n",
    "\n",
    "Tu pourras créer une variable nom , une variable prenom et utiliser la fonction `input`.\n",
    "Pour passer nom et prenom en minuscule, il suffit de taper :\n",
    "```python\n",
    "nom = nom.lower()\n",
    "prenom = prenom.lower()\n",
    "```"
   ]
  },
  {
   "cell_type": "markdown",
   "metadata": {},
   "source": [
    "### <font color=red>EXERCICE 4 :</font>\n",
    "\n",
    "[Faire le QCM de M. Sincère]( http://fabrice.sincere.free.fr/qcm/qcm.php?nom=qcm_python3x_1)"
   ]
  },
  {
   "cell_type": "code",
   "execution_count": null,
   "metadata": {},
   "outputs": [],
   "source": []
  }
 ],
 "metadata": {
  "kernelspec": {
   "display_name": "Python 3",
   "language": "python",
   "name": "python3"
  },
  "language_info": {
   "codemirror_mode": {
    "name": "ipython",
    "version": 3
   },
   "file_extension": ".py",
   "mimetype": "text/x-python",
   "name": "python",
   "nbconvert_exporter": "python",
   "pygments_lexer": "ipython3",
   "version": "3.7.3"
  }
 },
 "nbformat": 4,
 "nbformat_minor": 2
}
