{
 "cells": [
  {
   "cell_type": "markdown",
   "metadata": {},
   "source": [
    "# Script python\n",
    "Dès lors qu'il y a plusieurs instructions à exécuter ou que l'on utilise des structures de contrôle ou que l'on définit des fonctions, il faut mettre le code dans un script, que l'on peut alors enregistrer dans un fichier à l'extension .py . Les IDE possèdent tous une fenêtre pour saisir des scripts. Tout script python doit commencer par les lignes suivantes :"
   ]
  },
  {
   "cell_type": "code",
   "execution_count": null,
   "metadata": {},
   "outputs": [],
   "source": [
    "#!/usr/bin/env python\n",
    "# -*- coding: utf-8 -*-"
   ]
  },
  {
   "cell_type": "markdown",
   "metadata": {},
   "source": [
    " - La 1ère permet, sous les systèmes Linux, de spécifier l'emplacement (et donc la version) de Python\n",
    " - la 2ème permet d'utiliser les caractères accentués dans le script sans risque de voir apparaitre des [mojibakes] (https://fr.wikipedia.org/wiki/Mojibake)"
   ]
  },
  {
   "cell_type": "markdown",
   "metadata": {},
   "source": [
    "## Structure de base d'un programme (ou module) Python"
   ]
  },
  {
   "cell_type": "code",
   "execution_count": null,
   "metadata": {},
   "outputs": [],
   "source": [
    "#!/usr/bin/env python\n",
    "# -*- coding: utf-8 -*-\n",
    " \n",
    "###########################################\n",
    "# Constantes (variables globales)\n",
    "###########################################\n",
    " \n",
    " \n",
    "############################################\n",
    "# Définition des fonctions\n",
    "############################################\n",
    " \n",
    " \n",
    "############################################ \n",
    "# Instructions à exécuter \n",
    "############################################ \n",
    " \n",
    "if __name__ == \"__main__\":\n",
    "   #instructions à ne pas exécuter lors d'un import\n",
    "   ..."
   ]
  },
  {
   "cell_type": "markdown",
   "metadata": {},
   "source": [
    "## Les fonctions et les procédures\n",
    "Lorsqu'un morceau de programme est utilisé plusieurs fois, il est nécessaire de construire une fonction ou une procédure qui va être appelée aussi souvent que nécessaire dans un programme principal. \n",
    " - la procédure traite les instructions sans retourner de résultat\n",
    " - la fonction rend un résultat dans le programme principal.\n",
    " \n",
    " Ces fonctions seront placées devant le programme principal qui les utilise.\n",
    " Une fonction peut avoir un ou plusieurs paramètres. Ces paramètres sont associés à la fonction entre parenthèses. \n",
    " Quant on appelle une fonction, on associe des données pour remplacer les paramètres. Ces données utilisées par la fonction sont appellés arguments.\n",
    " L'exemple suivant définit une fonction addition qui a deux paramètres . Pour utiliser cette fonction, les arguments utilisés passe dans la fonction au moment de l'appel puis la fonction rend le résultat du traitement à la place de la fonction dans le programme. Le résultat va donc être affecté dans résultat pour notre exemple de fonction addition."
   ]
  },
  {
   "cell_type": "code",
   "execution_count": 2,
   "metadata": {},
   "outputs": [
    {
     "name": "stdout",
     "output_type": "stream",
     "text": [
      "entrer une valeur: 12\n",
      "entrer une seconde valeur: 10\n",
      "22\n"
     ]
    }
   ],
   "source": [
    "#!/usr/bin/env python\n",
    "# -*- coding: utf-8 -*-\n",
    "\n",
    "############################################\n",
    "# Définition des fonctions\n",
    "############################################\n",
    "def addition( a, b):\n",
    "    return a+b\n",
    "\n",
    "\n",
    " \n",
    "############################################ \n",
    "# Instructions à exécuter \n",
    "############################################ \n",
    "premier = int(input(\"entrer une valeur: \"))\n",
    "second = int(input(\"entrer une seconde valeur: \"))\n",
    "resultat = addition(premier,second)\n",
    "print(\"le résultat de l'addistion est : \",resultat)"
   ]
  },
  {
   "cell_type": "markdown",
   "metadata": {},
   "source": [
    "__A retenir__\n",
    "Une fonction est définit par : \n",
    " * le mot clé __def__ suivi du nom de la fonction\n",
    " * les paramètres de la fonction entre parenthèses\n",
    " * l'entête de la fonction se termine par deux point :\n",
    " * les instructions à réaliser sont indentées\n",
    " * l'instruction __return__ marque la fin de la fonction et renvoie le résultat, s'il n'y a pas de return, la fonction est appelée procédure .\n",
    " * la fin de la fonction est marquée par deux retours à la ligne.\n",
    " \n",
    " \n"
   ]
  },
  {
   "cell_type": "code",
   "execution_count": null,
   "metadata": {},
   "outputs": [],
   "source": [
    "# gabari pour une fonction utilisant 3 paramètres.\n",
    "def nomdelafocntion( parametre1, parametre2, parametre3):  #entête de la fonction\n",
    "        <suite d'instructions>\n",
    "        return <resultat>\n",
    "    \n",
    "    "
   ]
  },
  {
   "cell_type": "markdown",
   "metadata": {},
   "source": [
    "#  Exercie 1\n",
    "## Au tour du cercle\n",
    "Ecrire les fonctions permettant de calculer les caractèristiques associées à un cercle :\n",
    "Pour un rayon donnée, calculer:\n",
    " * le périmètre\n",
    " * la surface\n",
    " vous rédigez des fonctions à utiliser dans un programme principal qui demande à l'utilisateur le rayon d'un cercle. Le resultat de l'utilisation des fonctions sera affiché en console à partir du programme principal.\n",
    " "
   ]
  },
  {
   "cell_type": "code",
   "execution_count": null,
   "metadata": {},
   "outputs": [],
   "source": []
  },
  {
   "cell_type": "markdown",
   "metadata": {},
   "source": [
    "## option 1\n",
    "Programmer une fonction qui détermine le coté d'un carré qui a la même aire qu'un disque de rayon donnée.\n",
    "Le paramètre de la fonction est le rayon du disque, le retour est le coté du carré de même aire.\n",
    "\n",
    "Intégrez cette option dans votre programme précédent.\n"
   ]
  },
  {
   "cell_type": "code",
   "execution_count": null,
   "metadata": {},
   "outputs": [],
   "source": []
  }
 ],
 "metadata": {
  "kernelspec": {
   "display_name": "Python 3",
   "language": "python",
   "name": "python3"
  },
  "language_info": {
   "codemirror_mode": {
    "name": "ipython",
    "version": 3
   },
   "file_extension": ".py",
   "mimetype": "text/x-python",
   "name": "python",
   "nbconvert_exporter": "python",
   "pygments_lexer": "ipython3",
   "version": "3.7.3"
  }
 },
 "nbformat": 4,
 "nbformat_minor": 2
}
