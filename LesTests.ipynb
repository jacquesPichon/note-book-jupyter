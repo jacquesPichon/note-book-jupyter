{
 "cells": [
  {
   "cell_type": "markdown",
   "metadata": {},
   "source": [
    "# Structure d'un programme en python\n",
    "## Introduction\n",
    "Ce notebook vous montre la structure d'un programme en python. Certains point sont nécessaires pour le bon fonctionnement des programmes. D'autres sont des conseils pour produire un code lisible et facilement compréhensible.\n"
   ]
  },
  {
   "cell_type": "markdown",
   "metadata": {},
   "source": [
    "# Test\n",
    "Les tests sont réalisés avec l'instruction \"if\".\n",
    "Si une condition est vérifiée, alors on exécute les instructions sinon, on peut programmer une alternative avec \"else\":sinon.\n",
    "\n",
    "Dans l'exemple suivant, vous pouvez tester le comportement du test avec la variable condition, une variable booléenne, initialisée à False. Après avoir exécuté le bloc, vous pouvez modifier la variable à True pour constater l'exécution de la bonne branche."
   ]
  },
  {
   "cell_type": "code",
   "execution_count": 8,
   "metadata": {},
   "outputs": [
    {
     "name": "stdout",
     "output_type": "stream",
     "text": [
      "a une prochaine fois pour une découverte de la programmation !\n"
     ]
    }
   ],
   "source": [
    "condition = bool(False)\n",
    "if (condition):\n",
    "    print(\"bienvenue en NSI\")\n",
    "else:\n",
    "    print(\"a une prochaine fois pour une découverte de la programmation !\")"
   ]
  },
  {
   "cell_type": "markdown",
   "metadata": {},
   "source": [
    "## condition dans un if\n",
    "La condition testée est une variable booléenne qui ne peut avoir que deux état, vrai ou faux. La condition est la réponse à une question sans ambiguité. \n",
    "La condition peut résulter d'une association de paramètres avec des ET et des OU: AND et OR en python.\n",
    "\n",
    "Exercice:\n",
    "Ecrire les conditions pour afficher correctement les réponses avec les affichages proposés:"
   ]
  },
  {
   "cell_type": "code",
   "execution_count": null,
   "metadata": {},
   "outputs": [],
   "source": [
    "Genre = feminin\n",
    "age = 18\n",
    "if ( ):\n",
    "    print(\"Bonjour Madame\")\n",
    "else:\n",
    "    print(\"Bonjour Mademoiselle\")"
   ]
  },
  {
   "cell_type": "markdown",
   "metadata": {},
   "source": [
    "# Exercice\n",
    "## Exercice 1\n",
    "Ecrire une programme en python pour calculer l'age d'un chien comparée à un humain.\n",
    "indication: Pour calculer l'age de nos amis canins, pendant les deux premières années une année de chien compte deux années puis chaque année suplémentaire vaut l'équivalent de quatre années humaines.\n",
    "\n",
    "Pour calculer l'age du chien, nous passons par sa date de naissance. Avec la date, vous devez calculer son age réelle puis la convertir en age équivalent humain.\n",
    "\n",
    "Remarque: la date sera obtenue avec la bibliothèque datetime. avec l'instruction suivante, vous pouvez prendre la date avec datetime.now() et isoler l'année avec l'attribut year\n"
   ]
  },
  {
   "cell_type": "code",
   "execution_count": 21,
   "metadata": {},
   "outputs": [
    {
     "name": "stdout",
     "output_type": "stream",
     "text": [
      "2019-09-06 18:43:03.971833\n",
      "2019\n"
     ]
    },
    {
     "data": {
      "text/plain": [
       "int"
      ]
     },
     "execution_count": 21,
     "metadata": {},
     "output_type": "execute_result"
    }
   ],
   "source": [
    "from datetime import datetime\n",
    "maintenant = datetime.now() \n",
    "print(maintenant)        # date complète\n",
    "print(maintenant.year)   # année uniquement\n",
    "type(maintenant.year)\n"
   ]
  },
  {
   "cell_type": "code",
   "execution_count": 20,
   "metadata": {},
   "outputs": [
    {
     "name": "stdout",
     "output_type": "stream",
     "text": [
      "quelle est la date de naissance de votre chien2015\n",
      "2019-09-06 18:30:11.004088\n"
     ]
    }
   ],
   "source": [
    "\"\"\"Votre programme\"\"\"\n",
    "age_chien=input(\"quelle est la date de naissance de votre chien? \")\n"
   ]
  },
  {
   "cell_type": "markdown",
   "metadata": {},
   "source": [
    "# Exercice de programmation\n",
    "Ecrire un programme en python pour vérifier la validité d'un mot de passe proposé par un utilisateur.\n",
    "Le mot de passe doit contenir:\n",
    "    au moins une lettre munuscule dans [a-z] et une lettre majuscule dans [A-Z].\n",
    "    au moins un chiffre dans [0-9].\n",
    "    Au moins un des caractères spéciaux de la liste suivante [$#@].\n",
    "    il doit être d'une longueur comprise entre  6 et 16 caractères.\n",
    "    \n",
    "Le mot de passe est une entrée en chaîne de caractère. A vous de programmer les tests sur la chaine de caractère.Pour vous aider, vous avez la documentation interactive sur le type string de python. "
   ]
  },
  {
   "cell_type": "code",
   "execution_count": 11,
   "metadata": {},
   "outputs": [
    {
     "name": "stdout",
     "output_type": "stream",
     "text": [
      "quel est votre mot de passe?rsgfb\n",
      "rsgfb\n"
     ]
    }
   ],
   "source": [
    "mot_de_passe=input(\"quel est votre mot de passe?\")\n",
    "print(mot_de_passe)\n",
    "#\"\"\" votre code à placer ici\"\"\"\n"
   ]
  },
  {
   "cell_type": "code",
   "execution_count": null,
   "metadata": {},
   "outputs": [],
   "source": []
  },
  {
   "cell_type": "code",
   "execution_count": null,
   "metadata": {},
   "outputs": [],
   "source": []
  }
 ],
 "metadata": {
  "kernelspec": {
   "display_name": "Python 3",
   "language": "python",
   "name": "python3"
  },
  "language_info": {
   "codemirror_mode": {
    "name": "ipython",
    "version": 3
   },
   "file_extension": ".py",
   "mimetype": "text/x-python",
   "name": "python",
   "nbconvert_exporter": "python",
   "pygments_lexer": "ipython3",
   "version": "3.6.8"
  }
 },
 "nbformat": 4,
 "nbformat_minor": 2
}
