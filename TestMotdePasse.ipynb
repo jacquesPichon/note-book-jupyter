{
 "cells": [
  {
   "cell_type": "markdown",
   "metadata": {},
   "source": [
    "# Exercice de programmation\n",
    "\n",
    "Ecrire un programme en python pour vérifier la validité d'un mot de passe proposé par un utilisateur. Le mot de passe doit contenir: au moins une lettre munuscule dans [a-z] et une lettre majuscule dans [A-Z]. au moins un chiffre dans [0-9]. Au moins un des caractères spéciaux de la liste suivante [$#@]. il doit être d'une longueur comprise entre 6 et 16 caractères.\n",
    "\n",
    "Le mot de passe est une entrée en chaîne de caractère. A vous de programmer les tests sur la chaine de caractère.Pour vous aider, vous avez la documentation interactive sur le type string de python.\n"
   ]
  },
  {
   "cell_type": "code",
   "execution_count": null,
   "metadata": {},
   "outputs": [],
   "source": [
    "mot_de_passe=input(\"quel est votre mot de passe?\")\n",
    "\n",
    "print(mot_de_passe)\n",
    "\n",
    "#\"\"\" votre code à placer ici\"\"\"\n"
   ]
  }
 ],
 "metadata": {
  "kernelspec": {
   "display_name": "Python 3",
   "language": "python",
   "name": "python3"
  },
  "language_info": {
   "codemirror_mode": {
    "name": "ipython",
    "version": 3
   },
   "file_extension": ".py",
   "mimetype": "text/x-python",
   "name": "python",
   "nbconvert_exporter": "python",
   "pygments_lexer": "ipython3",
   "version": "3.6.8"
  }
 },
 "nbformat": 4,
 "nbformat_minor": 2
}
