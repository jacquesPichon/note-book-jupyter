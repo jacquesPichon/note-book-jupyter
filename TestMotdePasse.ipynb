{
 "cells": [
  {
   "cell_type": "markdown",
   "metadata": {},
   "source": [
    "#  Validation de mot de passe\n",
    "## Présentation\n",
    "\n",
    "L'identification de l'utilisateur est souvent associée à un mot de passe. On en utilise tous les jours pour nous connecter... Pour des raisons de sécurité, il est fortement conseillé d'utiliser un mot de passe fort, avec une certaine complexité. Un mot de passe existant dans le dictionnaire est facilement 'piratable' par des robots d'attaque qui vont mettre peu de temps à usurper votre identité. \n",
    "\n",
    "## Travail demandé\n",
    "L'objectif de ce travail consiste à écrire un programme en python pour vérifier la validité d'un mot de passe proposé par un utilisateur. Le mot de passe doit contenir: \n",
    " - au moins une lettre minuscule dans [a-z]\n",
    " - une lettre majuscule dans [A-Z] \n",
    " - au moins un chiffre dans [0-9]\n",
    " - au moins un des caractères spéciaux de la liste suivante [$#@].\n",
    " \n",
    " \n",
    "Il doit être d'une longueur comprise entre 9 et 16 caractères.\n",
    "Si le mot de passe n'est pas conforme aux exigences, alors, il faut redemander un nouveau mot de passe en précisant les exigences non remplies par le mot de passe proposé. \n",
    "\n",
    "Le mot de passe est une entrée en chaîne de caractère.\n",
    "\n",
    "A vous de programmer les tests sur la chaine de caractère.\n",
    "Vous ferez un découpage en fonctions, avec une fonction pour chaque condition à tester.\n",
    "\n",
    "## Les étapes:\n",
    " 1 Analyser le problème: rédigez un paragraphe pour expliquer votre démarche et les grandes lignes de votre stratégie pour traiter le problème.\n",
    " 2 rédiger l'algorithme complet à rendre avec votre programme\n",
    " 3 Programmer en python avec l'éditeur de votre choix:\n",
    "\n",
    " - le programme doit être commenté  \n",
    " - le programme doit être clairement présenté et structuré\n",
    " \n",
    " \n",
    "## contrat\n",
    "Le programme est le résultat de votre travail personnel. Toute version issue d'une solution copiée sur internet est sans intéret dans votre parcours de formation. Jouez le jeu ! Menez une réflexion personnelle pour progresser.\n",
    "Ne partagez pas votre code avec les camarades.\n",
    "\n",
    "## Remise du votre travail\n",
    "Les deux première étapes seront rendues sur une feuille de copie   proprement rédigées en respectant la présentation des algorithmes en pseudo code ou en algorigramme.\n",
    "Le programme python sera déposé sur moodle dans la rubrique remise de devoir.\n",
    "\n",
    "\n",
    "\n"
   ]
  },
  {
   "cell_type": "code",
   "execution_count": null,
   "metadata": {},
   "outputs": [],
   "source": [
    "mot_de_passe=input(\"quel est votre mot de passe?\")\n",
    "\n",
    "print(mot_de_passe)\n",
    "\n"
   ]
  }
 ],
 "metadata": {
  "kernelspec": {
   "display_name": "Python 3",
   "language": "python",
   "name": "python3"
  },
  "language_info": {
   "codemirror_mode": {
    "name": "ipython",
    "version": 3
   },
   "file_extension": ".py",
   "mimetype": "text/x-python",
   "name": "python",
   "nbconvert_exporter": "python",
   "pygments_lexer": "ipython3",
   "version": "3.7.3"
  }
 },
 "nbformat": 4,
 "nbformat_minor": 2
}
