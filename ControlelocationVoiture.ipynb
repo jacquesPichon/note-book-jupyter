{
 "cells": [
  {
   "cell_type": "markdown",
   "metadata": {},
   "source": [
    "# Controle de programmation en python\n",
    "Un organisme de location de voitures propose à ses clients deux tarifs :\n",
    "\n",
    "  - tarif essence : 15 euros par jour de location et 85 centimes par kilomètre.\n",
    "  - tarif diesel : 16 euros par jour de location et 66 centimes par kilomètre.\n",
    "\n",
    "Ecrire un algorithme calculant les deux tarifs pour un nombre de jours donné et une distance connue.\n",
    "Traduire votre algorithme en programme avec python.\n",
    "\n",
    "Les entrées du programme seront demandées à l'utilisateur. Par exemple,  selectionner 1 - Essence  ou 2 - Diesel ?\n",
    " 1. Analser le problème\n",
    "   * Identifier les variables nécessaires\n",
    "   * Lister les opérations à réaliser\n",
    " 2. Rédiger un algorithme sur papier\n",
    " 3. Coder votre algorithme en python \n",
    " \n",
    " Vous pouvez coder dans ce notebook Jupyter ou avec l'IDE de votre choix.\n",
    " \n",
    " \n",
    "### Restitution\n",
    " - Votre code sera déposé sur Moodle. \n",
    " - votre algorithme sera restitué à votre professeur."
   ]
  },
  {
   "cell_type": "code",
   "execution_count": null,
   "metadata": {},
   "outputs": [],
   "source": []
  }
 ],
 "metadata": {
  "kernelspec": {
   "display_name": "Python 3",
   "language": "python",
   "name": "python3"
  },
  "language_info": {
   "codemirror_mode": {
    "name": "ipython",
    "version": 3
   },
   "file_extension": ".py",
   "mimetype": "text/x-python",
   "name": "python",
   "nbconvert_exporter": "python",
   "pygments_lexer": "ipython3",
   "version": "3.7.3"
  }
 },
 "nbformat": 4,
 "nbformat_minor": 2
}
