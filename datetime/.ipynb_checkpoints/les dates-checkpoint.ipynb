{
 "cells": [
  {
   "cell_type": "markdown",
   "metadata": {},
   "source": [
    "# Les dates avec datetime\n",
    "Ce notebook introduit les outils pour gérer les données liées au temps. Pour cela, il existe une bibliothèqe nommée datetime qui facilite la programmation des problèmes liés aux dates, aux durées et à la gestion des évènements temporaires.\n",
    "\n",
    "Pour plus d'information, consulter la documentation de python.\n",
    "Documentation officielle :  https://docs.python.org/3/library/datetime.html\n"
   ]
  },
  {
   "cell_type": "code",
   "execution_count": null,
   "metadata": {},
   "outputs": [],
   "source": [
    "# import de la librairie\n",
    "import datetime\n",
    "# creation d'un objet date avec l'appel de la méthode today()\n",
    "madate = datetime.date.today()\n",
    "# affichage de la date\n",
    "print (madate)\n",
    "# création d'un objet datetime par l'appel de la méthode now()\n",
    "heure = datetime.datetime.now()\n",
    "# affichage de l'heure\n",
    "print(heure)"
   ]
  },
  {
   "cell_type": "markdown",
   "metadata": {},
   "source": [
    "La première étape consiste à importer le module datetime. Ici , il est importé de début du notebook.Il n'est pas nécessaire de le remettre dans chaque cellule du notebook. Dans vos programmes, il faudra l'importer en début de code.\n",
    "\n",
    "Comment sont organisés les éléments constituant la date et l'heure?\n",
    "A la création de la variable madate par date.today, un objet de type date est créé. Les éléments de la date sont enregistrés avec un attribut par élément de la date.\n",
    "Même chose pour l'heure avec datetime.datetime : heure, mnute, seconde, microseconde. \n",
    "L'objet heure est plus complet que l'objet date.\n"
   ]
  },
  {
   "cell_type": "code",
   "execution_count": null,
   "metadata": {},
   "outputs": [],
   "source": [
    "print(type (madate))\n",
    "print(madate.year)\n",
    "print(madate.month)\n",
    "print(madate.day)"
   ]
  },
  {
   "cell_type": "code",
   "execution_count": null,
   "metadata": {},
   "outputs": [],
   "source": [
    "print(type (heure))\n",
    "print(heure.hour)\n",
    "print(heure.minute)\n",
    "print(heure.second)\n",
    "print(heure.microsecond)"
   ]
  },
  {
   "cell_type": "markdown",
   "metadata": {},
   "source": [
    "Il est parfois intéressant de construire une structure de données qui range les attributs dans un tableau sous la forme d'un tuple.Le tuple est une sorte de tableau ou de liste mais !!! on ne peut pas changer sont contenu. Le tuple est plus rapide car optimisé pour réaliser les tâches plus rapidement qu'une liste.\n",
    "\n",
    "Dans notre exemple de date, on constate que les données sont associées à une étiquette. On peut les utiliser en utilisant l'index du tuple ou en utilisant l'étiquette.\n",
    "\n",
    "En analysant le contenu de ce tuple, on constate l'ensemble des éléments contenu dans l'objet time. \n",
    "Les informations sur l'heure ne sont pas présents dans un objet date. Elles sont à 0. La date est très complète avec le jour de la semaine de 0 pou lundi à 7 pour dimanche, le jour dans l'année ou le nombre de jours écoulé depuis le 1er janvier de l'année."
   ]
  },
  {
   "cell_type": "code",
   "execution_count": null,
   "metadata": {},
   "outputs": [],
   "source": [
    "print(date.timetuple())"
   ]
  },
  {
   "cell_type": "markdown",
   "metadata": {},
   "source": [
    "Dans notre exemple de date, on constate que les données sont associées à une étiquette. On peut les utiliser en utilisant l'index du tuple ou en utilisant l'étiquette.\n",
    "\n",
    "En analysant le contenu de ce tuple, on trouve l'ensemble des éléments contenu dans l'objet time. \n",
    "Les informations sur l'heure ne sont pas présents dans un objet date. Elles sont à 0. La date est très complète avec le jour de la semaine de 0 pou lundi à 7 pour dimanche, le jour dans l'année ou le nombre de jours écoulé depuis le 1er janvier de l'année."
   ]
  },
  {
   "cell_type": "code",
   "execution_count": null,
   "metadata": {},
   "outputs": [],
   "source": [
    "tdate = date.timetuple()\n",
    "print(tdate[6])      # indexe dans le tuple\n",
    "print(tdate.tm_wday) # contenu de tm_wday dans le tuple tdate"
   ]
  },
  {
   "cell_type": "markdown",
   "metadata": {},
   "source": [
    "## Construction d'un datetime\n",
    "\n",
    "une date est initialisée en fournissant les données sous forme d'entier, année , mois , jour.\n",
    "\n"
   ]
  },
  {
   "cell_type": "code",
   "execution_count": null,
   "metadata": {},
   "outputs": [],
   "source": [
    "debut = datetime.date(2000,1,1)\n",
    "print(debut)"
   ]
  },
  {
   "cell_type": "markdown",
   "metadata": {},
   "source": [
    "Vous pouvez construire la date de votre naissance:"
   ]
  },
  {
   "cell_type": "code",
   "execution_count": null,
   "metadata": {},
   "outputs": [],
   "source": [
    "# à compléter\n",
    "ma_naissance = \n",
    "print(ma_naissance)"
   ]
  },
  {
   "cell_type": "markdown",
   "metadata": {},
   "source": [
    "Même construction pour l'heure, sans oublier qu'il faut également une date !"
   ]
  },
  {
   "cell_type": "code",
   "execution_count": null,
   "metadata": {},
   "outputs": [],
   "source": [
    "debut_cours = datetime.datetime(2000,1,1,8,0,0)\n",
    "print(debut_cours)"
   ]
  },
  {
   "cell_type": "markdown",
   "metadata": {},
   "source": [
    "## durées\n",
    "Les opérations aritmétiques permettent de calculer des durées entre les dates et les heures. Les résultats des calculs peuvent être positifs ou négatifs, traduisant la chronologie des évènements.\n",
    "\n",
    "\n",
    "Vous pouvez donc savoir combien depuis combien de jours vous etes sur terre ! \n",
    "\n",
    "Compléter le petit programme suivant pour calculer depuis combien de jours vous êtes sur terre. \n",
    " Vous ferez la différence entre la date d'aujour'hui et votre date de naissance.\n"
   ]
  },
  {
   "cell_type": "code",
   "execution_count": null,
   "metadata": {},
   "outputs": [],
   "source": [
    "# calculer le nombre de jour de votre vie \n",
    "# nombre de jours écoulés depuis votre naissance\n",
    "nb_jour = madate-ma_naissance\n",
    "print(nb_jour)"
   ]
  },
  {
   "cell_type": "markdown",
   "metadata": {},
   "source": [
    "Les comparaisons entre les dates donnent une réponse booléenne et permettent de faire des tests sur les dates."
   ]
  },
  {
   "cell_type": "code",
   "execution_count": null,
   "metadata": {},
   "outputs": [],
   "source": [
    "d1 = datetime.date(2000,1,1)\n",
    "d2 = datetime.date(2004,1,1)\n",
    "print(d1>d2)"
   ]
  },
  {
   "cell_type": "markdown",
   "metadata": {},
   "source": [
    "Voila un petit tour d'horizon des possibités offertes par datetime. La gestion du temps et la datation sont constament utilisées en programmation.\n"
   ]
  }
 ],
 "metadata": {
  "kernelspec": {
   "display_name": "Python 3",
   "language": "python",
   "name": "python3"
  },
  "language_info": {
   "codemirror_mode": {
    "name": "ipython",
    "version": 3
   },
   "file_extension": ".py",
   "mimetype": "text/x-python",
   "name": "python",
   "nbconvert_exporter": "python",
   "pygments_lexer": "ipython3",
   "version": "3.7.3"
  }
 },
 "nbformat": 4,
 "nbformat_minor": 2
}
