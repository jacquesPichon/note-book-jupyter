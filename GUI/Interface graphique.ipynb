{
 "cells": [
  {
   "cell_type": "markdown",
   "metadata": {},
   "source": [
    "# Interface graphique avec tkinter et python\n",
    "\n",
    "https://python.doctor/page-tkinter-interface-graphique-python-tutoriel\n",
    "\n",
    "Les GUI  Graphique user Interface  !!!\n",
    "\n",
    "\n",
    "Les applications en fenêtre. \n",
    "\n",
    "\n",
    "Dans ce notebook, vous allez découvrir l'implémentation d'une application en fenêtre graphique. \n",
    "De nombreux éléments plus ou moins complexes sont disponibles dans la librairie tkinter.\n",
    "En fonction des applications, vous pourrez intégrer ces composants dans vos projets et programmer les interactions avec vos programmes.\n",
    "\n",
    "Chaque élément à un comportement modifiable par des fonctions associées( appellées methodes en programmation orientée objet).\n",
    "On parlera de réglage des attributs d'un 'widget' pour modifier le visuel, comme les informations vues par l'utilisateur. Widget est la contraction de window et gadget.\n",
    "\n",
    "Pour débuter, voici la fenêtre la plus simple. Le \"hello world\" de tkinter!"
   ]
  },
  {
   "cell_type": "code",
   "execution_count": 1,
   "metadata": {},
   "outputs": [],
   "source": [
    "from tkinter import *\n",
    "\n",
    "fenetre = Tk()  #Création de la fenetre dans la variable fenetre par l'appel d'un objet Tk()\n",
    "fenetre.title('hello world') # on personnalise la fenetre en ajoutant un titre, l'attribut title prend la valeur 'hello world'\n",
    "fenetre.mainloop()           # lancement de la fenetre avec la boucle principale 'mainloop' qui scrute en continu le programme"
   ]
  },
  {
   "cell_type": "markdown",
   "metadata": {},
   "source": [
    "La fenêtre application est ouverte et se comporte comme une fenetre, elle est redimentionnable, on peut la fermer, la mettre plein écran mais pour l'instant, elle est bien vide ..."
   ]
  },
  {
   "cell_type": "markdown",
   "metadata": {},
   "source": [
    "## Modification d'un attribut\n",
    "Pour changer un attribut d'un widget, il existe des méthodes ou fonctions associées. Par exemple, pour fixer la taille de la fenêtre à l'ouverture, il suffit de préciser la taille avec geometry('largeur x hauteur').\n",
    "Comme les widgets sont des objets, on associe la méthode geometry a l'objet fenetre:\n",
    "\n",
    "Dans la cellule ci dessous, modifier le programme python pour changer la couleur de fond de la fenetre avec la méthode backgroud( color = '...') \n",
    "pour définir la couleur,vous pouvez choisir les couleurs par leur nom : la liste des nom de couleur est disponible dans la documentation python : ici il y a deux manières générales pour indiquer une couleur dans tkinter.\n",
    "\n",
    "Vous pouvez utiliser une chaîne de caractères qui précise la proportion de rouge (red), vert (green) et bleu (blue) en hexadécimal:\n",
    "\n",
    "            #rgb : quatre bits par couleur\n",
    "            #rrggbb : huit bits par couleur\n",
    "            #rrrgggbbb: douze bits par couleur\n",
    "\n",
    "Par exemple, #fff est blanc, #000000 est noir, #000fff000 est un vert pur et #00ffff est un cyan pur (vert plus bleu).\n",
    "\n",
    "Vous pouvez aussi utiliser n’importe quelle couleur définie localement par son nom standard. Les couleurs 'white', 'black', 'red', 'green', 'blue', 'cyan', 'yellow', and 'magenta' seront toujours disponibles. D’autres noms peuvent fonctionner selon la configuration de votre ordinateur.\n",
    "\n"
   ]
  },
  {
   "cell_type": "code",
   "execution_count": 2,
   "metadata": {},
   "outputs": [],
   "source": [
    "from tkinter import *\n",
    "\n",
    "fenetre = Tk() \n",
    "fenetre.title('hello world') \n",
    "fenetre.geometry('300x400')\n",
    "fenetre.configure(bg = 'green')\n",
    "fenetre.mainloop()\n",
    "\n"
   ]
  },
  {
   "cell_type": "markdown",
   "metadata": {},
   "source": [
    "## Comportement de la fenetre\n",
    "Les widgets vont évoluer en fonction des actions de l'utilisateur. L'ensemble du comportemnet de l'application sera tributaire des fonctions associées aux actions des composants. \n",
    "\n",
    "Il n'y a plus de déroulé de programme mais une gestion des évènements dans l'application. La définition des fonctions à déclencher sur les actions de l'utilisateur sur les widgets conditionnera le bon déroulé de l'algorithme choisi.\n",
    "\n",
    "C'est une nouvelle façon de programmer."
   ]
  },
  {
   "cell_type": "markdown",
   "metadata": {},
   "source": [
    "## Bouton\n",
    "Les interactions les plus courantes avec les interfaces graphiques sont les boutons, utilisés pour valider, annuler, modifier, lancer une opération ou un traitement. \n",
    "Dans la fenetre, il faut definir son visuel puis lui associer une action ou un comportment dans le programme.\n",
    "\n",
    "    -Le bouton est associé à la fenêtre. \n",
    "    -c'est un objet, il a un nom et des attributs: position taille couleur, texte, etc...\n",
    "    -le bouton est dans la fenêtre, la fenêtre est le parent du bouton, cela apparaît dans la définition du bouton.\n",
    "    \n",
    "\n",
    "Les boutons commes les autres éléments sont ajoutés à la fenêtre avec la methode pack().\n",
    "il existe d'autrex façons d'intégrer un widget dans une application :\n",
    "\n",
    "    - par la position avec la methode place(x= 50 , y = 100 )    \n",
    "    - par un système de grille avec la methode grid. les widget sont placés dans la fenêtre suivant un cadrillage.\n",
    "    \n",
    "Dans tous les cas, la position de l'origine est en haut à gauche de la fenêtre application.\n",
    "    "
   ]
  },
  {
   "cell_type": "code",
   "execution_count": 64,
   "metadata": {},
   "outputs": [],
   "source": [
    "from tkinter import *\n",
    "\n",
    "fenetre = Tk() \n",
    "fenetre.title('hello world') \n",
    "fenetre.geometry('300x400')\n",
    "fenetre.configure(bg = 'green')\n",
    "premierbouton = Button(fenetre, text = \"hello\")\n",
    "premierbouton.pack()\n",
    "fenetre.mainloop()\n"
   ]
  },
  {
   "cell_type": "markdown",
   "metadata": {},
   "source": [
    "Le bouton est ajouté dans la fenêtre au centre. Aucune action ne lui est associée. \n",
    "\n",
    "Il est possible de personnaliser les attributs du bouton et surtout de le rendre interactif en lui associant une action par une fonction. La fonction sera exécutée quand l'utilisateur cliquera le bouton. \n",
    "\n",
    "Dans cet exemple, nous allons préciser la position du bouton dans le fenetre, avec la methode .place(x = '...' , y = '...')\n",
    "La fonction change_couleur sera exécutée par un clique sur le bouton. Cette fonction changera la couleur de la fenetre que nous avons réglée précedemment.\n"
   ]
  },
  {
   "cell_type": "code",
   "execution_count": 92,
   "metadata": {},
   "outputs": [],
   "source": [
    "from tkinter import *\n",
    "\n",
    "#fonction pour changer la couleur du fond\n",
    "def change_couleur():\n",
    "    if fenetre['bg'] == 'green':\n",
    "        fenetre.configure(bg = 'red')\n",
    "    else : \n",
    "        fenetre.configure(bg = 'green')\n",
    "\n",
    "\n",
    "fenetre = Tk() \n",
    "fenetre.title('hello world') \n",
    "fenetre.geometry('300x400')\n",
    "fenetre.configure(bg = 'green')\n",
    "premierbouton = Button(fenetre, text = \"hello\", command = change_couleur)\n",
    "premierbouton.place(x=20 , y = 5)\n",
    "\n",
    "fenetre.mainloop()\n"
   ]
  },
  {
   "cell_type": "markdown",
   "metadata": {},
   "source": [
    "## A retenir\n",
    "Les attributs d'un widget sont dans une liste d'attribut.\n",
    "\n",
    "On peut récupérer la valeur de l'attribut \n",
    "    \n",
    "    *fenetre['bg']    donne la couleur du fond, le background\n",
    "    *>>>fenetre.keys()   donne la liste des atributs existant d'un widget dans un interprèteur python\n",
    "    \n",
    "et on peut le modifier en leur affectant une valeur:\n",
    "\n",
    "    * avec configure :                 fenetre.configure(bg = 'red')       \n",
    "    * directement dans les attributs   fenetre['bg']='red'\n",
    "\n",
    "\n"
   ]
  },
  {
   "cell_type": "markdown",
   "metadata": {},
   "source": [
    "## Exercice d'application\n",
    "Changer les attributs du bouton 'premierbouton':\n",
    "\n",
    "    *couleur : en bleu\n",
    "    *couleur de la police : blanc\n",
    "    \n",
    "    Piste :\n",
    "    -chercher dans la documentation de tkinter les couleurs existantes, ou leur codage en valeur hexadécimale.    \n",
    "    -chercher les attributs à changer pour le bouton\n",
    "    \n",
    "Une documentation en français vous apportera les informations sur les principaux attributs: http://tkinter.fdex.eu/doc/sa.html\n",
    "\n",
    "    "
   ]
  },
  {
   "cell_type": "code",
   "execution_count": null,
   "metadata": {},
   "outputs": [],
   "source": [
    "from tkinter import *\n",
    "\n",
    "#fonction pour changer la couleur du fond\n",
    "def change_couleur():\n",
    "    if fenetre['bg'] == 'green':\n",
    "        fenetre.configure(bg = 'red')\n",
    "    else : \n",
    "        fenetre.configure(bg = 'green')\n",
    "\n",
    "\n",
    "fenetre = Tk() \n",
    "fenetre.title('hello world') \n",
    "fenetre.geometry('300x400')\n",
    "fenetre.configure(bg = 'green')\n",
    "premierbouton = Button(fenetre, text = \"hello\", command = change_couleur)\n",
    "premierbouton.place(x=20 , y = 5)\n",
    "fenetre.mainloop()\n"
   ]
  },
  {
   "cell_type": "markdown",
   "metadata": {},
   "source": [
    "# Exercice\n",
    "Dans les manifestations publiques, le nombre de visiteurs est un indicateur important. Pour des raisons de sécurité, il est également nécessaire de connaitre le nombre de personnes dans un salle de spectacle.\n",
    "\n",
    "* Réaliser une application en fenetre qui affiche un compteur. Le compteur sera un label.\n",
    "* Ajouter 3 boutons:\n",
    "\n",
    "    * un bouton +\n",
    "    * un bouton -\n",
    "    * un bouton remise à zéro\n",
    "    \n",
    "* Programmer les commandes associées à chaque bouton dans des fonctions.\n",
    "\n",
    "    *option 1 : ajouter un label pour memoriser le nombre maximum de visiteurs. Cette valeur sera mémorisée et affichée même s'il a une remise à zéro du compteur.\n",
    "\n",
    "    *option 2 : Si le compteur dépasse 50 personnes, il faut informer que l'on dépasse le nombre autorisé en mettant en rouge le fond du label d'affichage du compteur et afficher que le nombre maximal d'entrées est atteint.\n",
    "\n",
    "    *option 3 : avant de dépacer la valeur de 50 personnes, il faut indiquer que l'on approche de la limite en affichant une couleur orange entre 40 et 49 personnes au compteur.  \n",
    "\n"
   ]
  },
  {
   "cell_type": "code",
   "execution_count": 67,
   "metadata": {},
   "outputs": [],
   "source": [
    "from tkinter import *\n",
    "\n",
    "#fonctions \n",
    "\n",
    "\n",
    "# defintion de la fenetre\n",
    "fencompteur = Tk() \n",
    "fencompteur.title(\"Compteur de fréquentation d'un évènement\") \n",
    "fencompteur.geometry('600x200')\n",
    "fencompteur.configure(bg = 'grey')\n",
    "#Les boutons\n",
    "\n",
    "\n",
    "#Les labels pour l'affichage\n",
    "\n",
    "\n",
    "\n",
    "fencompteur.mainloop() \n"
   ]
  },
  {
   "cell_type": "markdown",
   "metadata": {},
   "source": [
    "## Zone de saisie\n",
    "    champ de saisie :  Entry\n",
    "\n",
    "Comme les autres éléments, il faut construire une variable contenant un champ de saisie. la zone de saisie sera également intégrée dans une fenêtre 'parent'.\n",
    "\n",
    "saisieperso = tk.entry (fen, texte = 'saisie')\n",
    "saisieperso.pack()\n",
    "\n",
    "Pour utiliser cette saisie clavier, il faut aller chercher dans l'attribut du widget Entry le contenu du texte saisi. Le plus simple consiste à jajoute run bouton de validation pour appeler le contenu du champ de texte saisi.\n",
    "\n",
    "L'exemple si dessous présente un champ texte avec son bouton pour récupérer le contenu dans un label.\n",
    "\n"
   ]
  },
  {
   "cell_type": "code",
   "execution_count": 89,
   "metadata": {},
   "outputs": [
    {
     "name": "stdout",
     "output_type": "stream",
     "text": [
      "jgkjfl\n",
      "jgkjfl\n",
      "jgkjfl\n",
      "jgkjfl\n",
      "jgkjfl\n"
     ]
    }
   ],
   "source": [
    "from tkinter import *\n",
    "\n",
    "def validersaisie():\n",
    "   \n",
    "    donnee = saisi.get()\n",
    "    print(donnee)\n",
    "    textsaisi['text'] = donnee\n",
    "\n",
    "\n",
    "fen = Tk()\n",
    "fen.title('saisir une donnée utilisateur')\n",
    "fen.geometry('400x400')\n",
    "saisi = Entry( fen, width = 20)\n",
    "saisi.pack()\n",
    "validerbt  = Button(fen, text='Valider', command = validersaisie)\n",
    "validerbt.pack()\n",
    "textsaisi = Label(fen, text =\"champ texte saisi \")\n",
    "textsaisi.pack()\n",
    "fen.mainloop()\n"
   ]
  },
  {
   "cell_type": "markdown",
   "metadata": {},
   "source": [
    "# Exercice d'application\n",
    "Voici un petit programme du jeu du nombre mystère. \n",
    "Cette version en mode console permet de jouer de façon austère avec l'ordinateur. Pour rendre le jeu un peu plus convivial, je vous propose de créer une interface graphique qui permettra de répondre à  l'ordinateur si le nombre mystère est supérieur ou inférieur à la proposition faite par la machine. Pour controler le jeu, vous devrez également afficher le nombre de tentatives à chaque étape.\n",
    "Si l'ordinateur gagne, vous changerez la couleur de fond de la fenetre en vert, et s'il perd, en gris. Vous ajouterez un message dans la fenetre si c'est gagné ou perdu.\n",
    "   \n",
    "Pour adapter un programme en mode console en application exécuté dans la mainloop d'une fenetre, il faut restructurer le code en fonctions à déclencher sur les évènements déclanchés par les éléments de la fenêtre, comme les boutons ou les saisies clavier.\n",
    "\n",
    "1-Avant de commencer à construire votre fenêtre, analyser le programme puis le decouper en fonction pour agir par des boutons à cliquer pour répondre à l'ordinateur. \n",
    "\n",
    "    * que faut-il faire si on clique sur le bouton c'est moins\n",
    "    * que faut-il faire si on clique sur  .....etc\n",
    "    \n",
    "    * Que faut-il modifier dans la fenètre? Avec quelle condition?\n",
    "    \n",
    "2-Quand vous aurez décomposé le programme en fonctions, alors vous pouvez associer une commande à chaque bouton. Les \"Label\" devront également évoluer dans le programme. \n",
    "\n",
    "    * Que doit afficher ce \"Label\" ? \n",
    "    * suite à quel évènement doit il changer?\n",
    "    \n",
    "Ce travail préparatoire est à faire sur feuille, en lien avec l'illustration du gabari de fenetre proposé.*\n",
    "\n",
    "### Gabari de fenetre\n",
    "\n",
    "![illustration](gabari.jpg)\n",
    "\n",
    "\n",
    "    "
   ]
  },
  {
   "cell_type": "code",
   "execution_count": null,
   "metadata": {},
   "outputs": [
    {
     "name": "stdout",
     "output_type": "stream",
     "text": [
      "Mémorisez un nombre entre 0 et 100\n",
      "Je vais essayer de le retrouver \n",
      "je commence à chercher votre nombre mystère.\n",
      "56\n"
     ]
    }
   ],
   "source": [
    "#####################################\n",
    "#  Programme nombre mystère console #\n",
    "#####################################\n",
    "import time\n",
    "from random import randint\n",
    "\n",
    "############################\n",
    "## variables              ##\n",
    "############################\n",
    "\n",
    "min = 0\n",
    "max = 100\n",
    "essais = 0\n",
    "reponse = ''\n",
    "\n",
    "############################\n",
    "## PROGRAMME PRINCIPAL    ##\n",
    "############################\n",
    "\n",
    "print(\"Mémorisez un nombre entre 0 et 100\")\n",
    "print(\"Je vais essayer de le retrouver \")\n",
    "time.sleep(3)\n",
    "\n",
    "print(\"je commence à chercher votre nombre mystère.\")\n",
    "while (essais <=10) and reponse !=\"=\":\n",
    "    proposition = randint (min, max)\n",
    "    print (proposition)\n",
    "    message = str(proposition) + \" est-il- plus grand (+) ou plus petit(-) ou égale au nombre à deviner (=) ?\"\n",
    "    reponse = input (message)\n",
    "    if reponse ==\"+\":\n",
    "        min=proposition+1\n",
    "        essais =essais + 1\n",
    "    if reponse == \"-\":\n",
    "        max = proposition-1\n",
    "        essais =essais + 1\n",
    "\n",
    "\n",
    "if essais >=10:\n",
    "    print (\"l'ordinateur n'a pas trouvé le nombre en 10 essais...\")\n",
    "else:\n",
    "    print (\"le nombre est : \", proposition,\" j'ai trouvé en \", essais, \"tentatives.\")\n"
   ]
  },
  {
   "cell_type": "markdown",
   "metadata": {},
   "source": [
    "## Modification du programme\n",
    "L'interface graphique est proposée dans la cellule ci-dessous. \n",
    "A vous de programmer les fonctions à associer aux boutons et les modifications de l'affichage des \"label\". \n",
    "\n",
    "    *pour associer une commande : ex : monbouton = tk.Button(fen , text = \"cliquer ici\" ,command = mafonction )\n",
    "    *Pour modifier le texte à afficher dans un \"Label\" associé à la variable etiquette :  etiquette['text'] = \"chaîne de caractères à afficher\"\n",
    "    "
   ]
  },
  {
   "cell_type": "code",
   "execution_count": null,
   "metadata": {},
   "outputs": [],
   "source": [
    "# propgramme nombre mystère avec interface graphique\n",
    "\n",
    "import tkinter as tk\n",
    "import time\n",
    "from random import randint\n",
    "\n",
    "\n",
    "\n",
    "\n",
    "\n",
    "##########################################\n",
    "#  Les fonctions  à associer aux boutons #\n",
    "#      A programmer pour cahque bouton   #\n",
    "##########################################\n",
    "\n",
    "\n",
    " \n",
    "    \n",
    " \n",
    " \n",
    "    \n",
    "####################\n",
    "###  La fenetre  ###\n",
    "####################\n",
    "mes =\"memorisez un nombre entre 0 et 100.\"\n",
    "\n",
    "fen = tk.Tk()\n",
    "fen.geometry('500x200')\n",
    "message = tk.Label(fen , text = mes )\n",
    "message.pack()\n",
    "boutoncommencer = tk.Button(fen, text = 'commencer', command = jouer)\n",
    "boutonplus = tk.Button(fen , text = \"c'est plus\" ,width = 10 , command = plus)\n",
    "boutonmoins =tk.Button (fen, text = \" c'est moins\" ,width = 10 , command =  moins)\n",
    "boutonegal = tk.Button ( fen , text = \" C'est trouvé !\" , width = 10 , command = egal)\n",
    "boutoncommencer.place(x=50, y = 150)\n",
    "boutonplus.place(x=5, y= 30)\n",
    "boutonmoins.place(x=100, y= 30)\n",
    "boutonegal.place(x=200, y= 30)\n",
    "proplb = tk.Label(fen, text = 'proposition:')\n",
    "proplb.place(x=300 , y= 30)\n",
    "label.place(x=10, y=90, width=120, height=30)\n",
    "fen.mainloop()\n",
    "\n",
    "\n",
    "\n",
    "\n"
   ]
  },
  {
   "cell_type": "markdown",
   "metadata": {},
   "source": []
  }
 ],
 "metadata": {
  "kernelspec": {
   "display_name": "Python 3",
   "language": "python",
   "name": "python3"
  },
  "language_info": {
   "codemirror_mode": {
    "name": "ipython",
    "version": 3
   },
   "file_extension": ".py",
   "mimetype": "text/x-python",
   "name": "python",
   "nbconvert_exporter": "python",
   "pygments_lexer": "ipython3",
   "version": "3.7.3"
  }
 },
 "nbformat": 4,
 "nbformat_minor": 2
}
