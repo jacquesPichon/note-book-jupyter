{
 "cells": [
  {
   "cell_type": "markdown",
   "metadata": {},
   "source": [
    "# Interface graphique avec tkinter et python\n",
    "\n",
    "https://python.doctor/page-tkinter-interface-graphique-python-tutoriel\n",
    "\n",
    "Les GUI  Graphique user Interface  !!!\n",
    "\n",
    "\n",
    "Les applications en fenêtre. \n",
    "\n",
    "\n",
    "Dans ce notebook, vous allez découvrir l'implémentation d'une application en fenêtre graphique. \n",
    "De nombreux éléments plus ou moins complexe sont disponibles dans la librairie tkinter.\n",
    "En fonction des applications, vous pourrez intégrer ces composants dans vos projets et programmer les interactions avec vos programmes.\n",
    "\n",
    "Chaque élément à un comportement modifiable par des fonctions associées. \n",
    "On parlera de réglage des attributs d'un 'widget' pour modifier le visuel, comme les informations vues par l'utilisateur. Widget est la contraction de window et gadget.\n",
    "\n",
    "Pour débuter, voici la fenêtre la plus simple. Le \"hello world\" de tkinter.!"
   ]
  },
  {
   "cell_type": "code",
   "execution_count": 1,
   "metadata": {},
   "outputs": [],
   "source": [
    "from tkinter import *\n",
    "\n",
    "fenetre = Tk()  #Création de la fenetre dans la variable fenetre \n",
    "fenetre.title('hello world') # on personnalise la fenetre en ajoutant un titre\n",
    "fenetre.mainloop()           # lancement de la fenetre avec la boucle principale 'mainloop' qui scrute en continu le programme"
   ]
  },
  {
   "cell_type": "markdown",
   "metadata": {},
   "source": [
    "La fenêtre application est ouverte et se comporte comme une fenetre, elle est redimentionnable, on peut la fermer, la mettre plein écran mais pour l'instant, elle est bien vide ..."
   ]
  },
  {
   "cell_type": "markdown",
   "metadata": {},
   "source": [
    "## Modification d'un attribut\n",
    "Pour changer un attribut d'un widget, il exist des méthides ou fonctions associées. Pour par exemple fixer la taille de la fenetre à l'ouverture, il suffit de préciser la taille avec gemetry('largeurxhauteur').\n",
    "Comme les widget sont des objets, on associe la méthode geometry a l'objet fenetre:\n",
    "\n",
    "Dans la cellule ci dessous, modifier le programme python pour changer la couleur de fond de la fenetre avec la méthode backgroud( color = '...') \n",
    "pour définir la couleur,vous pouvez choisir les couleurs par leur nom : la liste des nom de couleur est disponible dans la documentation python : iciIl y a deux manières générales pour indiquer une couleur dans tkinter.\n",
    "\n",
    "Vous pouvez utiliser une chaîne de caractères qui précise la proportion de rouge (red), vert (green) et bleu (blue) en hexadécimal:\n",
    "\n",
    "            #rgb : quatre bits par couleur\n",
    "            #rrggbb : huit bits par couleur\n",
    "            #rrrgggbbb: douze bits par couleur\n",
    "\n",
    "Par exemple, #fff est blanc, #000000 est noir, #000fff000 est un vert pur et #00ffff est un cyan pur (vert plus bleu).\n",
    "\n",
    "Vous pouvez aussi utiliser n’importe quelle couleur définie localement par son nom standard. Les couleurs 'white', 'black', 'red', 'green', 'blue', 'cyan', 'yellow', and 'magenta' seront toujours disponibles. D’autres noms peuvent fonctionner selon la configuration de votre ordinateur.\n",
    "\n"
   ]
  },
  {
   "cell_type": "code",
   "execution_count": 2,
   "metadata": {},
   "outputs": [],
   "source": [
    "from tkinter import *\n",
    "\n",
    "fenetre = Tk() \n",
    "fenetre.title('hello world') \n",
    "fenetre.geometry('300x400')\n",
    "fenetre.configure(bg = 'green')\n",
    "fenetre.mainloop()\n",
    "\n"
   ]
  },
  {
   "cell_type": "markdown",
   "metadata": {},
   "source": [
    "## Bouton\n",
    "Les interactions les plus courantes avec les interfaces graphiques sont les boutons, utilisés pour valider, annuler, modifier, lancer une opération ou un traitement. \n",
    "Dans la fenetre, il faut definir son visuel puis lui associer une action ou un comportment dans le programme.\n",
    "\n",
    "    -Le bouton est associé à la fenetre. \n",
    "    -c'est un objet, il a un nom et des attribut: position taille couleur, texte, etc...\n",
    "    \n",
    "Les boutons commes les autres éléments sont ajoutés à la fenetre avec la methode pack(). \n",
    "\n",
    "\n"
   ]
  },
  {
   "cell_type": "code",
   "execution_count": 6,
   "metadata": {},
   "outputs": [],
   "source": [
    "from tkinter import *\n",
    "\n",
    "fenetre = Tk() \n",
    "fenetre.title('hello world') \n",
    "fenetre.geometry('300x400')\n",
    "fenetre.configure(bg = 'green')\n",
    "premierbouton = Button(fenetre, text = \"hello\")\n",
    "premierbouton.pack()\n",
    "fenetre.mainloop()\n"
   ]
  },
  {
   "cell_type": "markdown",
   "metadata": {},
   "source": [
    "Le bouton est ajouté dans la fenêtre au centre. Aucue action ne lui est associée. \n",
    "\n",
    "Il est possible de personnaliser les attributs du bouton et surtout de le rendre interactif en lui associant une action par une fonction. La fonction sera exécutée quand l'utilisateur cliquera le bouton. \n",
    "\n",
    "Dans cet exemple, nous allons préciser la position du bouton dans le fenetre, avec la methode .place(x = '...' , y = '...')\n",
    "La fonction change_couleur sera exécutée par un clique sur le bouton. Cette fonction changera la couleur de la fenetre que nous avons réglée précedemment.\n"
   ]
  },
  {
   "cell_type": "code",
   "execution_count": 37,
   "metadata": {},
   "outputs": [],
   "source": [
    "from tkinter import *\n",
    "\n",
    "#fonction pour changer la couleur du fond\n",
    "def change_couleur():\n",
    "    if fenetre['bg'] == 'green':\n",
    "        fenetre.configure(bg = 'red')\n",
    "    else : \n",
    "        fenetre.configure(bg = 'green')\n",
    "\n",
    "\n",
    "fenetre = Tk() \n",
    "fenetre.title('hello world') \n",
    "fenetre.geometry('300x400')\n",
    "fenetre.configure(bg = 'green')\n",
    "premierbouton = Button(fenetre, text = \"hello\", command = change_couleur)\n",
    "premierbouton.place(x=20 , y = 5)\n",
    "\n",
    "fenetre.mainloop()\n"
   ]
  },
  {
   "cell_type": "markdown",
   "metadata": {},
   "source": [
    "## A retenir\n",
    "Les attributs d'un widget sont dans une liste d'attribut.\n",
    "\n",
    "On peut récupérer la valeur de l'attribut \n",
    "    \n",
    "    *fenetre['bg']    donne la couleur du fond, le background\n",
    "    *>>>fenetre.keys()   donne la liste des atributs existant d'un widget dans un interprèteur python\n",
    "    \n",
    "et on peut le modifier en leur affectant une valeur:\n",
    "\n",
    "    * avec configure :                 fenetre.configure(bg = 'red')       \n",
    "    * directement dans les attributs   fenetre['bg']='red'\n",
    "\n",
    "\n"
   ]
  },
  {
   "cell_type": "markdown",
   "metadata": {},
   "source": [
    "## Application\n",
    "Changer les attributs du bouton 'premierbouton':\n",
    "\n",
    "    *couleur : en bleu\n",
    "    *couleur de la police : blanc\n",
    "    \n",
    "    Piste :\n",
    "    -chercher dans la documentation de tkinter les couleurs existantes, ou leur codage en valeur hexadécimale.    \n",
    "    -chercher les attributs à changer pour le bouton\n",
    "    \n",
    "Une documentation en français vous apportera les informations sur le principaux attributs: http://tkinter.fdex.eu/doc/sa.html\n",
    "\n",
    "    "
   ]
  },
  {
   "cell_type": "code",
   "execution_count": 42,
   "metadata": {},
   "outputs": [],
   "source": [
    "from tkinter import *\n",
    "\n",
    "#fonction pour changer la couleur du fond\n",
    "def change_couleur():\n",
    "    if fenetre['bg'] == 'green':\n",
    "        fenetre.configure(bg = 'red')\n",
    "    else : \n",
    "        fenetre.configure(bg = 'green')\n",
    "\n",
    "\n",
    "fenetre = Tk() \n",
    "fenetre.title('hello world') \n",
    "fenetre.geometry('300x400')\n",
    "fenetre.configure(bg = 'green')\n",
    "premierbouton = Button(fenetre, text = \"hello\", command = change_couleur)\n",
    "premierbouton.place(x=20 , y = 5)\n",
    "premierbouton.keys()\n",
    "fenetre.mainloop()\n"
   ]
  },
  {
   "cell_type": "markdown",
   "metadata": {},
   "source": [
    "## Zone de saisie\n",
    "champ de saisie : \n",
    "\n",
    "# a continuer \n"
   ]
  },
  {
   "cell_type": "code",
   "execution_count": null,
   "metadata": {},
   "outputs": [],
   "source": [
    "\n"
   ]
  },
  {
   "cell_type": "markdown",
   "metadata": {},
   "source": [
    "# Exercice d'application\n",
    "Voici un petit programme du jeu du nombre mystère. \n",
    "Cette version en mode console permet de jouer de façon haustère avec l'ordinateur. Pour rendre le jeu un peu plus conviviale, je vous propose de créer un interface graphique qui permettra de répondre à  l'ordinateur si le nmbre mystère est supérieur ou inférieur à la proposition faite par la machine; Pour controler le jeu, vous devrez également afficher le nombre de tentatives à chaque étape, dans un label.\n",
    "Si l'ordinateur gagne, vous changerez la couleur de fond de la fenetre en vert, et s'il perd, en gris. Vous ajoutere un message dans la fenetre , en bas au centre donnant le nombre mystère ,et si c'est gagné ou perdu.\n",
    "    La fenetre ressemblera à ceci.\n"
   ]
  },
  {
   "cell_type": "markdown",
   "metadata": {},
   "source": [
    "## Saisie\n",
    "une zone de saisie permet de récolter les données de l'utilisateur pour les traiter. \n",
    "La zone autorise l'utilisateur à taper les informations. Le programme peut réutiliser le contenu de la saisie pour les intégrer dans le traitement du programme.\n"
   ]
  }
 ],
 "metadata": {
  "kernelspec": {
   "display_name": "Python 3",
   "language": "python",
   "name": "python3"
  },
  "language_info": {
   "codemirror_mode": {
    "name": "ipython",
    "version": 3
   },
   "file_extension": ".py",
   "mimetype": "text/x-python",
   "name": "python",
   "nbconvert_exporter": "python",
   "pygments_lexer": "ipython3",
   "version": "3.7.3"
  }
 },
 "nbformat": 4,
 "nbformat_minor": 2
}
