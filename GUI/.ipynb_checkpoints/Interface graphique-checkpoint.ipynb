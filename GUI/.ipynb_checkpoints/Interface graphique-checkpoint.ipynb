{
 "cells": [
  {
   "cell_type": "markdown",
   "metadata": {},
   "source": [
    "# Interface graphique avec tkinter et python\n",
    "\n",
    "https://python.doctor/page-tkinter-interface-graphique-python-tutoriel\n",
    "\n",
    "Les GUI  Graphique user Interface  !!!\n",
    "\n",
    "\n",
    "Les applications en fenêtre. \n",
    "\n",
    "\n",
    "Dans ce notebook, vous allez découvrir l'implémentation d'une application en fenêtre graphique. \n",
    "De nombreux éléments plus ou moins complexe sont disponibles dans la librairie tkinter.\n",
    "En fonction des applications, vous pourrez intégrer ces composants dans vos projets et programmer les interactions avec vos programmes.\n",
    "\n",
    "Chaque élément à un comportement modifiable par des fonctions associées. \n",
    "On parlera de réglage des attributs d'un 'widget' pour modifier le visuel, comme les informations vues par l'utilisateur. Widget est la contraction de window et gadget.\n",
    "\n",
    "Pour débuter, voici la fenêtre la plus simple. Le \"hello world\" de tkinter.!"
   ]
  },
  {
   "cell_type": "code",
   "execution_count": 1,
   "metadata": {},
   "outputs": [],
   "source": [
    "from tkinter import *\n",
    "\n",
    "fenetre = Tk()  #Création de la fenetre dans la variable fenetre \n",
    "fenetre.title('hello world') # on personnalise la fenetre en ajoutant un titre\n",
    "fenetre.mainloop()           # lancement de la fenetre avec la boucle principale 'mainloop' qui scrute en continu le programme"
   ]
  },
  {
   "cell_type": "markdown",
   "metadata": {},
   "source": [
    "La fenêtre application est ouverte et se comporte comme une fenetre, elle est redimentionnable, on peut la fermer, la mettre plein écran mais pour l'instant, elle est bien vide ..."
   ]
  },
  {
   "cell_type": "markdown",
   "metadata": {},
   "source": [
    "## Modification d'un attribut\n",
    "Pour changer un attribut d'un widget, il exist des méthides ou fonctions associées. Pour par exemple fixer la taille de la fenetre à l'ouverture, il suffit de préciser la taille avec gemetry('largeurxhauteur').\n",
    "Comme les widget sont des objets, on associe la méthode geometry a l'objet fenetre:\n",
    "\n",
    "Dans la cellule ci dessous, modifier le programme python pour changer la couleur de fond de la fenetre avec la méthode backgroud( color = '...') \n",
    "pour définir la couleur,vous pouvez choisir les couleurs par leur nom : la liste des nom de couleur est disponible dans la documentation python : iciIl y a deux manières générales pour indiquer une couleur dans tkinter.\n",
    "\n",
    "Vous pouvez utiliser une chaîne de caractères qui précise la proportion de rouge (red), vert (green) et bleu (blue) en hexadécimal:\n",
    "\n",
    "            #rgb : quatre bits par couleur\n",
    "            #rrggbb : huit bits par couleur\n",
    "            #rrrgggbbb: douze bits par couleur\n",
    "\n",
    "Par exemple, #fff est blanc, #000000 est noir, #000fff000 est un vert pur et #00ffff est un cyan pur (vert plus bleu).\n",
    "\n",
    "Vous pouvez aussi utiliser n’importe quelle couleur définie localement par son nom standard. Les couleurs 'white', 'black', 'red', 'green', 'blue', 'cyan', 'yellow', and 'magenta' seront toujours disponibles. D’autres noms peuvent fonctionner selon la configuration de votre ordinateur.\n",
    "\n"
   ]
  },
  {
   "cell_type": "code",
   "execution_count": 2,
   "metadata": {},
   "outputs": [],
   "source": [
    "from tkinter import *\n",
    "\n",
    "fenetre = Tk() \n",
    "fenetre.title('hello world') \n",
    "fenetre.geometry('300x400')\n",
    "fenetre.configure(bg = 'green')\n",
    "fenetre.mainloop()\n",
    "\n"
   ]
  },
  {
   "cell_type": "markdown",
   "metadata": {},
   "source": [
    "## Bouton\n",
    "Les interactions les plus courantes avec les interfaces graphiques sont les boutons, utilisés pour valider, annuler, modifier, lancer une opération ou un traitement. \n",
    "Dans la fenetre, il faut definir son visuel puis lui associer une action ou un comportment dans le programme.\n",
    "\n",
    "    -Le bouton est associé à la fenetre. \n",
    "    -c'est un objet, il a un nom et des attribut: position taille couleur, texte, etc...\n",
    "    \n",
    "Les boutons commes les autres éléments sont ajoutés à la fenetre avec la methode pack(). \n",
    "\n",
    "\n"
   ]
  },
  {
   "cell_type": "code",
   "execution_count": 6,
   "metadata": {},
   "outputs": [],
   "source": [
    "from tkinter import *\n",
    "\n",
    "fenetre = Tk() \n",
    "fenetre.title('hello world') \n",
    "fenetre.geometry('300x400')\n",
    "fenetre.configure(bg = 'green')\n",
    "premierbouton = Button(fenetre, text = \"hello\")\n",
    "premierbouton.pack()\n",
    "fenetre.mainloop()\n"
   ]
  },
  {
   "cell_type": "markdown",
   "metadata": {},
   "source": [
    "Le bouton est ajouté dans la fenêtre au centre. Aucue action ne lui est associée. \n",
    "\n",
    "Il est possible de personnaliser les attributs du bouton et surtout de le rendre interactif en lui associant une action par une fonction. La fonction sera exécutée quand l'utilisateur cliquera le bouton. \n",
    "\n",
    "Dans cet exemple, nous allons préciser la position du bouton dans le fenetre, avec la methode .place(x = '...' , y = '...')\n",
    "La fonction change_couleur sera exécutée par un clique sur le bouton. Cette fonction changera la couleur de la fenetre que nous avons réglée précedemment.\n"
   ]
  },
  {
   "cell_type": "code",
   "execution_count": 37,
   "metadata": {},
   "outputs": [],
   "source": [
    "from tkinter import *\n",
    "\n",
    "#fonction pour changer la couleur du fond\n",
    "def change_couleur():\n",
    "    if fenetre['bg'] == 'green':\n",
    "        fenetre.configure(bg = 'red')\n",
    "    else : \n",
    "        fenetre.configure(bg = 'green')\n",
    "\n",
    "\n",
    "fenetre = Tk() \n",
    "fenetre.title('hello world') \n",
    "fenetre.geometry('300x400')\n",
    "fenetre.configure(bg = 'green')\n",
    "premierbouton = Button(fenetre, text = \"hello\", command = change_couleur)\n",
    "premierbouton.place(x=20 , y = 5)\n",
    "\n",
    "fenetre.mainloop()\n"
   ]
  },
  {
   "cell_type": "markdown",
   "metadata": {},
   "source": [
    "## A retenir\n",
    "Les attributs d'un widget sont dans une liste d'attribut.\n",
    "\n",
    "On peut récupérer la valeur de l'attribut \n",
    "    \n",
    "    *fenetre['bg']    donne la couleur du fond, le background\n",
    "    *>>>fenetre.keys()   donne la liste des atributs existant d'un widget dans un interprèteur python\n",
    "    \n",
    "et on peut le modifier en leur affectant une valeur:\n",
    "\n",
    "    * avec configure :                 fenetre.configure(bg = 'red')       \n",
    "    * directement dans les attributs   fenetre['bg']='red'\n",
    "\n",
    "\n"
   ]
  },
  {
   "cell_type": "markdown",
   "metadata": {},
   "source": [
    "## Exercice d'application\n",
    "Changer les attributs du bouton 'premierbouton':\n",
    "\n",
    "    *couleur : en bleu\n",
    "    *couleur de la police : blanc\n",
    "    \n",
    "    Piste :\n",
    "    -chercher dans la documentation de tkinter les couleurs existantes, ou leur codage en valeur hexadécimale.    \n",
    "    -chercher les attributs à changer pour le bouton\n",
    "    \n",
    "Une documentation en français vous apportera les informations sur le principaux attributs: http://tkinter.fdex.eu/doc/sa.html\n",
    "\n",
    "    "
   ]
  },
  {
   "cell_type": "code",
   "execution_count": 47,
   "metadata": {},
   "outputs": [],
   "source": [
    "from tkinter import *\n",
    "\n",
    "#fonction pour changer la couleur du fond\n",
    "def change_couleur():\n",
    "    if fenetre['bg'] == 'green':\n",
    "        fenetre.configure(bg = 'red')\n",
    "    else : \n",
    "        fenetre.configure(bg = 'green')\n",
    "\n",
    "\n",
    "fenetre = Tk() \n",
    "fenetre.title('hello world') \n",
    "fenetre.geometry('300x400')\n",
    "fenetre.configure(bg = 'green')\n",
    "premierbouton = Button(fenetre, text = \"hello\", command = change_couleur)\n",
    "premierbouton.place(x=20 , y = 5)\n",
    "fenetre.mainloop()\n"
   ]
  },
  {
   "cell_type": "markdown",
   "metadata": {},
   "source": [
    "# Exercice\n",
    "Dans les manifestations publiques, le nombre de visiteur est un indicateur important. Pour des raisons de sécurité, il est également nécessaire de connaitre le nombre de personne dans un salle de spectacle.\n",
    "\n",
    "* Réaliser une application en fenetre qui affiche un compteur. Le compteur sera un label.\n",
    "* Ajouter 3 boutons:\n",
    "\n",
    "    * un bouton +\n",
    "    * un bouton -\n",
    "    * un bouton remise à zéro\n",
    "    \n",
    "Programmer les commandes associées à chaque bouton dans des fonstions.\n",
    "\n",
    "option 1 : ajouter un label pour memoriser le nombre maximum de visiteur.\n",
    "\n"
   ]
  },
  {
   "cell_type": "code",
   "execution_count": 51,
   "metadata": {},
   "outputs": [],
   "source": [
    "from tkinter import *\n",
    "\n",
    "#fonction \n",
    "\n",
    "\n",
    "fencompteur = Tk() \n",
    "fencompteur.title(\"Compteur de fréquentation d'un évènement\") \n",
    "fencompteur.geometry('600x200')\n",
    "fencompteur.configure(bg = 'grey')\n",
    "#Les boutons\n",
    "\n",
    "\n",
    "#Les labels pour l'affichage\n",
    "\n",
    "\n",
    "\n",
    "fenetre.mainloop()\n"
   ]
  },
  {
   "cell_type": "markdown",
   "metadata": {},
   "source": [
    "## Zone de saisie\n",
    "champ de saisie : \n",
    "\n",
    "# a continuer \n"
   ]
  },
  {
   "cell_type": "code",
   "execution_count": 44,
   "metadata": {},
   "outputs": [],
   "source": [
    "\n"
   ]
  },
  {
   "cell_type": "markdown",
   "metadata": {},
   "source": [
    "# Exercice d'application\n",
    "Voici un petit programme du jeu du nombre mystère. \n",
    "Cette version en mode console permet de jouer de façon haustère avec l'ordinateur. Pour rendre le jeu un peu plus conviviale, je vous propose de créer une interface graphique qui permettra de répondre à  l'ordinateur si le nombre mystère est supérieur ou inférieur à la proposition faite par la machine. Pour controler le jeu, vous devrez également afficher le nombre de tentatives à chaque étape.\n",
    "Si l'ordinateur gagne, vous changerez la couleur de fond de la fenetre en vert, et s'il perd, en gris. Vous ajouterez un message dans la fenetre , en bas au centre donnant le nombre mystère ,et si c'est gagné ou perdu.\n",
    "   \n",
    "Pour adapter un programme en mode console en application tournant dans une fenetre, il faut restructurer le code en fonctions à déclencher sur les évènements déclanchés par les éléments de la fenetre, comme les bouton ou les saisies clavier.\n",
    "\n",
    "Avant de commencer à construire votre fenêtre, analyser le programme puis le decouper en fonction pour agir par des boutons à cliquer pour répondre à l'ordinateur. \n",
    "\n",
    "    * que faut-il faire si on clique sur le bouton c'est moins\n",
    "    * que faut - il faire si on clique sur  .....etc\n",
    "    \n",
    "    * Que faut - il modifier dans la fenètre? Avec quelle condition?\n",
    "    \n",
    "Quand vous aurez décomposé le programme en fonctions, alors vous pouvez associer une commande à chaque bouton. Les \"Label\" devront également évoluer dans le programme. \n",
    "\n",
    "    * Que doit afficher ce \"Label\" ? \n",
    "    * a quel moment doit-il changer?\n",
    "    \n",
    "Ce travail préparatoire est à faire sur feuille. \n",
    "    "
   ]
  },
  {
   "cell_type": "code",
   "execution_count": 45,
   "metadata": {},
   "outputs": [
    {
     "name": "stdout",
     "output_type": "stream",
     "text": [
      "Mémorisez un nombre entre 0 et 100\n",
      "Je vais essayer de le retrouver \n",
      "je commence à chercher votre nombre mystère.\n",
      "23\n",
      "23est-il- plus grand (+) ou plus petit(-) ou égale au nombre à deviner (=) ?+\n",
      "39\n",
      "39est-il- plus grand (+) ou plus petit(-) ou égale au nombre à deviner (=) ?+\n",
      "67\n",
      "67est-il- plus grand (+) ou plus petit(-) ou égale au nombre à deviner (=) ?-\n",
      "56\n",
      "56est-il- plus grand (+) ou plus petit(-) ou égale au nombre à deviner (=) ?=\n",
      "le nombre est :  56  j'ai trouvé en  3 tentatives.\n"
     ]
    }
   ],
   "source": [
    "import time\n",
    "from random import randint\n",
    "\n",
    "############################\n",
    "## variables              ##\n",
    "############################\n",
    "\n",
    "min = 0\n",
    "max = 100\n",
    "essais = 0\n",
    "reponse = ''\n",
    "\n",
    "############################\n",
    "## PROGRAMME PRINCIPAL    ##\n",
    "############################\n",
    "\n",
    "print(\"Mémorisez un nombre entre 0 et 100\")\n",
    "print(\"Je vais essayer de le retrouver \")\n",
    "time.sleep(3)\n",
    "\n",
    "print(\"je commence à chercher votre nombre mystère.\")\n",
    "while (essais <=10) and reponse !=\"=\":\n",
    "    proposition = randint (min, max)\n",
    "    print (proposition)\n",
    "    message = str(proposition) + \" est-il- plus grand (+) ou plus petit(-) ou égale au nombre à deviner (=) ?\"\n",
    "    reponse = input (message)\n",
    "    if reponse ==\"+\":\n",
    "        min=proposition\n",
    "        essais =essais + 1\n",
    "    if reponse == \"-\":\n",
    "        max = proposition\n",
    "        essais =essais + 1\n",
    "\n",
    "\n",
    "if essais >=10:\n",
    "    print (\"l'ordinateur n'a pas trouvé le nombre en 10 essais...\")\n",
    "else:\n",
    "    print (\"le nombre est : \", proposition,\" j'ai trouvé en \", essais, \"tentatives.\")\n"
   ]
  },
  {
   "cell_type": "markdown",
   "metadata": {},
   "source": [
    "## Modification du programme\n",
    "L'interface graphique est proposée dans la cellule ci-dessous. \n",
    "A vous de programmer les fonctions à associer aux boutons et les modifications de l'affichage des \"label\". \n",
    "\n",
    "    *pour associer une commande : ex : monbouton = tk.Button(fen , text = \"cliquer ici\" ,command = mafonction )\n",
    "    *Pour modifier le texte à afficher dans un \"Label\" :  etiquette['text'] = \"chaine de caractères à afficher\"\n",
    "    "
   ]
  },
  {
   "cell_type": "code",
   "execution_count": null,
   "metadata": {},
   "outputs": [],
   "source": [
    "# propgramme nombre mystère avec interface graphique\n"
   ]
  },
  {
   "cell_type": "markdown",
   "metadata": {},
   "source": [
    "## Saisie\n",
    "une zone de saisie permet de récolter les données de l'utilisateur pour les traiter. \n",
    "La zone autorise l'utilisateur à taper les informations. Le programme peut réutiliser le contenu de la saisie pour les intégrer dans le traitement du programme.\n"
   ]
  }
 ],
 "metadata": {
  "kernelspec": {
   "display_name": "Python 3",
   "language": "python",
   "name": "python3"
  },
  "language_info": {
   "codemirror_mode": {
    "name": "ipython",
    "version": 3
   },
   "file_extension": ".py",
   "mimetype": "text/x-python",
   "name": "python",
   "nbconvert_exporter": "python",
   "pygments_lexer": "ipython3",
   "version": "3.7.3"
  }
 },
 "nbformat": 4,
 "nbformat_minor": 2
}
